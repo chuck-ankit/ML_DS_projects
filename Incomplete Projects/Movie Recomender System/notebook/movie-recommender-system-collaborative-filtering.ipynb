{
 "cells": [
  {
   "cell_type": "markdown",
   "id": "e28f9163",
   "metadata": {
    "papermill": {
     "duration": 0.032936,
     "end_time": "2022-02-19T05:29:21.444670",
     "exception": false,
     "start_time": "2022-02-19T05:29:21.411734",
     "status": "completed"
    },
    "tags": []
   },
   "source": [
    "## Introduction"
   ]
  },
  {
   "cell_type": "markdown",
   "id": "be241b35",
   "metadata": {
    "papermill": {
     "duration": 0.031728,
     "end_time": "2022-02-19T05:29:21.508823",
     "exception": false,
     "start_time": "2022-02-19T05:29:21.477095",
     "status": "completed"
    },
    "tags": []
   },
   "source": [
    "Recommender systems generate a list of items\n",
    "(or people) to be recommended to the users.\n",
    "Historically, the area of recommender systems was part of data mining and information filtering. Later, in the 1990s, it has been recognized as a full-fledged research area. Currently, major companies such as Amazon, Netflix, Launch, Google, YouTube and Facebook are heavily using and relying on recommender systems to sell their products\n",
    "and services by recommending the most relevant items to the users, leading to a significant increase of revenue. <br />\n",
    "Due to its economical role, Netflix announced the Netflix Grand Prize (1 Million US Dollars), an open competition on the best collaborative recommender system to predict the ratings of the films based on the users’ preferences. BellKor’ Pragmatic Chaos won the Netflix 2009 Grand Prize by providing prediction at only 10.06% of accuracy.\n",
    "For further resarch for recommendation system resarch follow the paper https://www.researchgate.net/publication/317904909_New_Insights_Towards_Developing_Recommender_Systems having detailed information on various recommendation systems which helped me to study."
   ]
  },
  {
   "cell_type": "markdown",
   "id": "7768b3ad",
   "metadata": {
    "papermill": {
     "duration": 0.031956,
     "end_time": "2022-02-19T05:29:21.572778",
     "exception": false,
     "start_time": "2022-02-19T05:29:21.540822",
     "status": "completed"
    },
    "tags": []
   },
   "source": [
    "## Types of Recommendation Systems\n",
    "Recommendation systems can be broadly classified into 3 types —  </b>\n",
    "\n",
    "**1.Collaborative Filtering <br />\n",
    "2.Content-Based Filtering  <br />\n",
    "3.Hybrid Recommendation Systems**"
   ]
  },
  {
   "cell_type": "markdown",
   "id": "8562031c",
   "metadata": {
    "papermill": {
     "duration": 0.031646,
     "end_time": "2022-02-19T05:29:21.636810",
     "exception": false,
     "start_time": "2022-02-19T05:29:21.605164",
     "status": "completed"
    },
    "tags": []
   },
   "source": [
    "## Collaborative filtering"
   ]
  },
  {
   "cell_type": "markdown",
   "id": "f745150d",
   "metadata": {
    "papermill": {
     "duration": 0.03108,
     "end_time": "2022-02-19T05:29:21.699656",
     "exception": false,
     "start_time": "2022-02-19T05:29:21.668576",
     "status": "completed"
    },
    "tags": []
   },
   "source": [
    "Collaborative techniques are the most widely known and used in recommender systems. This approach recommends items to the user that were liked in the past by other users with similar tastes.\n",
    "\n",
    "The major techiques into algorithms are:\n",
    "\n",
    "* **Memory Based struture uses Neighborhood methods**\n",
    "* **Model Based structure uses Latent factor models**\n"
   ]
  },
  {
   "cell_type": "markdown",
   "id": "9e4aa80a",
   "metadata": {
    "papermill": {
     "duration": 0.03154,
     "end_time": "2022-02-19T05:29:21.763521",
     "exception": false,
     "start_time": "2022-02-19T05:29:21.731981",
     "status": "completed"
    },
    "tags": []
   },
   "source": [
    "## Memory Based Collaborative filtering based recommendation\n",
    "\n",
    " * Memory-based algorithms are essentially heuristics and predict ratings based on the entire previously collected rated items by the users.\n",
    "  * **user based filtering***\n",
    "  * **Item based filtering** <br />\n",
    "Item based approach is usually preferred over user-based approach.<br />\n",
    "User-based approach is often harder to scale because of the dynamic nature of users, whereas items usually don’t change much, and item based approach often can be computed offline and served without constantly re-training.\n",
    "\n",
    "To implement an **item based collaborative filtering**, **KNN** is a perfect go-to model and also a very good baseline for recommender system development."
   ]
  },
  {
   "cell_type": "markdown",
   "id": "fd1e1632",
   "metadata": {
    "papermill": {
     "duration": 0.034124,
     "end_time": "2022-02-19T05:29:21.830559",
     "exception": false,
     "start_time": "2022-02-19T05:29:21.796435",
     "status": "completed"
    },
    "tags": []
   },
   "source": [
    "## User based Collaborative Filtering\n",
    "Well, UB-CF uses that logic and recommends items by finding similar users to the active user (to whom we are trying to recommend a movie). A specific application of this is the user-based Nearest Neighbor algorithm. "
   ]
  },
  {
   "cell_type": "markdown",
   "id": "96a2ed83",
   "metadata": {
    "papermill": {
     "duration": 0.033362,
     "end_time": "2022-02-19T05:29:21.897444",
     "exception": false,
     "start_time": "2022-02-19T05:29:21.864082",
     "status": "completed"
    },
    "tags": []
   },
   "source": [
    "   ###  K-Nearest Neighbours (KNN)"
   ]
  },
  {
   "cell_type": "markdown",
   "id": "9d6bb255",
   "metadata": {
    "papermill": {
     "duration": 0.033308,
     "end_time": "2022-02-19T05:29:21.963190",
     "exception": false,
     "start_time": "2022-02-19T05:29:21.929882",
     "status": "completed"
    },
    "tags": []
   },
   "source": [
    "KNN is a **non-parametric, lazy** learning method. It uses a database in which the data points are separated into several clusters to make inference for new samples.\n",
    "*  KNN does not make any assumptions on the underlying data distribution but it relies on item feature similarity.<br />\n",
    "### Selecting Neighborhoods\n",
    "* All the neighbors\n",
    "* Threshold similarity or distance\n",
    "* Random neighbors\n",
    "* Top-N neighbors by similarity or distance\n"
   ]
  },
  {
   "cell_type": "markdown",
   "id": "75a636ba",
   "metadata": {
    "papermill": {
     "duration": 0.031829,
     "end_time": "2022-02-19T05:29:22.027593",
     "exception": false,
     "start_time": "2022-02-19T05:29:21.995764",
     "status": "completed"
    },
    "tags": []
   },
   "source": [
    "### Prepare the data"
   ]
  },
  {
   "cell_type": "markdown",
   "id": "7af38a99",
   "metadata": {
    "papermill": {
     "duration": 0.03178,
     "end_time": "2022-02-19T05:29:22.091270",
     "exception": false,
     "start_time": "2022-02-19T05:29:22.059490",
     "status": "completed"
    },
    "tags": []
   },
   "source": [
    "#### Attribute Information of Movielens dataset\n",
    "To build a movie recommender, I choose MovieLens Datasets. It contains 27,753,444 ratings and 1,108,997 tag applications across 58,098 movies.\n",
    "\n",
    "The two files from the data will be used in this study as rating.csv and movie.csv\n",
    "\n",
    "* **rating.csv** that contains ratings of movies by users:\n",
    "\n",
    "  * userId\n",
    "  *movieId\n",
    "  *rating\n",
    "  *timestamp\n",
    "* **movie.csv** that contains movie information:\n",
    "\n",
    "  * movieId\n",
    "  * title\n",
    "  * genres"
   ]
  },
  {
   "cell_type": "code",
   "execution_count": 1,
   "id": "cdaa974a",
   "metadata": {
    "_cell_guid": "b1076dfc-b9ad-4769-8c92-a6c4dae69d19",
    "_uuid": "8f2839f25d086af736a60e9eeb907d3b93b6e0e5",
    "execution": {
     "iopub.execute_input": "2022-02-19T05:29:22.165559Z",
     "iopub.status.busy": "2022-02-19T05:29:22.164826Z",
     "iopub.status.idle": "2022-02-19T05:29:23.859039Z",
     "shell.execute_reply": "2022-02-19T05:29:23.857780Z",
     "shell.execute_reply.started": "2022-02-19T05:18:05.782665Z"
    },
    "papermill": {
     "duration": 1.735677,
     "end_time": "2022-02-19T05:29:23.859276",
     "exception": false,
     "start_time": "2022-02-19T05:29:22.123599",
     "status": "completed"
    },
    "tags": []
   },
   "outputs": [],
   "source": [
    "\n",
    "import numpy as np # linear algebra\n",
    "import pandas as pd # data processing, CSV file I/O (e.g. pd.read_csv)\n",
    "from scipy.sparse import csr_matrix\n",
    "from sklearn.neighbors import NearestNeighbors\n",
    "\n",
    "import os\n",
    "for dirname, _, filenames in os.walk('/kaggle/input'):\n",
    "    for filename in filenames:\n",
    "        print(os.path.join(dirname, filename))\n"
   ]
  },
  {
   "cell_type": "code",
   "execution_count": 5,
   "id": "0cb1ec9c",
   "metadata": {
    "execution": {
     "iopub.execute_input": "2022-02-19T05:29:23.993784Z",
     "iopub.status.busy": "2022-02-19T05:29:23.993093Z",
     "iopub.status.idle": "2022-02-19T05:29:53.959663Z",
     "shell.execute_reply": "2022-02-19T05:29:53.959244Z",
     "shell.execute_reply.started": "2022-02-19T05:18:06.923211Z"
    },
    "papermill": {
     "duration": 30.0027,
     "end_time": "2022-02-19T05:29:53.959772",
     "exception": false,
     "start_time": "2022-02-19T05:29:23.957072",
     "status": "completed"
    },
    "tags": []
   },
   "outputs": [
    {
     "data": {
      "text/html": [
       "<div>\n",
       "<style scoped>\n",
       "    .dataframe tbody tr th:only-of-type {\n",
       "        vertical-align: middle;\n",
       "    }\n",
       "\n",
       "    .dataframe tbody tr th {\n",
       "        vertical-align: top;\n",
       "    }\n",
       "\n",
       "    .dataframe thead th {\n",
       "        text-align: right;\n",
       "    }\n",
       "</style>\n",
       "<table border=\"1\" class=\"dataframe\">\n",
       "  <thead>\n",
       "    <tr style=\"text-align: right;\">\n",
       "      <th></th>\n",
       "      <th>movieId</th>\n",
       "      <th>title</th>\n",
       "      <th>genres</th>\n",
       "      <th>userId</th>\n",
       "      <th>rating</th>\n",
       "      <th>timestamp</th>\n",
       "    </tr>\n",
       "  </thead>\n",
       "  <tbody>\n",
       "    <tr>\n",
       "      <th>0</th>\n",
       "      <td>1</td>\n",
       "      <td>Toy Story (1995)</td>\n",
       "      <td>Adventure|Animation|Children|Comedy|Fantasy</td>\n",
       "      <td>3.0</td>\n",
       "      <td>4.0</td>\n",
       "      <td>1999-12-11 13:36:47</td>\n",
       "    </tr>\n",
       "    <tr>\n",
       "      <th>1</th>\n",
       "      <td>1</td>\n",
       "      <td>Toy Story (1995)</td>\n",
       "      <td>Adventure|Animation|Children|Comedy|Fantasy</td>\n",
       "      <td>6.0</td>\n",
       "      <td>5.0</td>\n",
       "      <td>1997-03-13 17:50:52</td>\n",
       "    </tr>\n",
       "    <tr>\n",
       "      <th>2</th>\n",
       "      <td>1</td>\n",
       "      <td>Toy Story (1995)</td>\n",
       "      <td>Adventure|Animation|Children|Comedy|Fantasy</td>\n",
       "      <td>8.0</td>\n",
       "      <td>4.0</td>\n",
       "      <td>1996-06-05 13:37:51</td>\n",
       "    </tr>\n",
       "    <tr>\n",
       "      <th>3</th>\n",
       "      <td>1</td>\n",
       "      <td>Toy Story (1995)</td>\n",
       "      <td>Adventure|Animation|Children|Comedy|Fantasy</td>\n",
       "      <td>10.0</td>\n",
       "      <td>4.0</td>\n",
       "      <td>1999-11-25 02:44:47</td>\n",
       "    </tr>\n",
       "    <tr>\n",
       "      <th>4</th>\n",
       "      <td>1</td>\n",
       "      <td>Toy Story (1995)</td>\n",
       "      <td>Adventure|Animation|Children|Comedy|Fantasy</td>\n",
       "      <td>11.0</td>\n",
       "      <td>4.5</td>\n",
       "      <td>2009-01-02 01:13:41</td>\n",
       "    </tr>\n",
       "  </tbody>\n",
       "</table>\n",
       "</div>"
      ],
      "text/plain": [
       "   movieId             title                                       genres  \\\n",
       "0        1  Toy Story (1995)  Adventure|Animation|Children|Comedy|Fantasy   \n",
       "1        1  Toy Story (1995)  Adventure|Animation|Children|Comedy|Fantasy   \n",
       "2        1  Toy Story (1995)  Adventure|Animation|Children|Comedy|Fantasy   \n",
       "3        1  Toy Story (1995)  Adventure|Animation|Children|Comedy|Fantasy   \n",
       "4        1  Toy Story (1995)  Adventure|Animation|Children|Comedy|Fantasy   \n",
       "\n",
       "   userId  rating            timestamp  \n",
       "0     3.0     4.0  1999-12-11 13:36:47  \n",
       "1     6.0     5.0  1997-03-13 17:50:52  \n",
       "2     8.0     4.0  1996-06-05 13:37:51  \n",
       "3    10.0     4.0  1999-11-25 02:44:47  \n",
       "4    11.0     4.5  2009-01-02 01:13:41  "
      ]
     },
     "execution_count": 5,
     "metadata": {},
     "output_type": "execute_result"
    }
   ],
   "source": [
    "movie = pd.read_csv(r'C:\\Users\\ankit\\Downloads\\Movie Recomender System\\dataset\\movie.csv')\n",
    "rating = pd.read_csv(r'C:\\Users\\ankit\\Downloads\\Movie Recomender System\\dataset\\rating.csv')\n",
    "df = movie.merge(rating, how=\"left\", on=\"movieId\")\n",
    "df.head()"
   ]
  },
  {
   "cell_type": "code",
   "execution_count": 3,
   "id": "d3ec4eaa",
   "metadata": {
    "execution": {
     "iopub.execute_input": "2022-02-19T05:29:54.007859Z",
     "iopub.status.busy": "2022-02-19T05:29:54.007364Z",
     "iopub.status.idle": "2022-02-19T05:29:54.015351Z",
     "shell.execute_reply": "2022-02-19T05:29:54.014935Z",
     "shell.execute_reply.started": "2022-02-19T05:18:36.943849Z"
    },
    "papermill": {
     "duration": 0.033956,
     "end_time": "2022-02-19T05:29:54.015453",
     "exception": false,
     "start_time": "2022-02-19T05:29:53.981497",
     "status": "completed"
    },
    "tags": []
   },
   "outputs": [
    {
     "data": {
      "text/html": [
       "<div>\n",
       "<style scoped>\n",
       "    .dataframe tbody tr th:only-of-type {\n",
       "        vertical-align: middle;\n",
       "    }\n",
       "\n",
       "    .dataframe tbody tr th {\n",
       "        vertical-align: top;\n",
       "    }\n",
       "\n",
       "    .dataframe thead th {\n",
       "        text-align: right;\n",
       "    }\n",
       "</style>\n",
       "<table border=\"1\" class=\"dataframe\">\n",
       "  <thead>\n",
       "    <tr style=\"text-align: right;\">\n",
       "      <th></th>\n",
       "      <th>movieId</th>\n",
       "      <th>title</th>\n",
       "      <th>genres</th>\n",
       "    </tr>\n",
       "  </thead>\n",
       "  <tbody>\n",
       "    <tr>\n",
       "      <th>0</th>\n",
       "      <td>1</td>\n",
       "      <td>Toy Story (1995)</td>\n",
       "      <td>Adventure|Animation|Children|Comedy|Fantasy</td>\n",
       "    </tr>\n",
       "    <tr>\n",
       "      <th>1</th>\n",
       "      <td>2</td>\n",
       "      <td>Jumanji (1995)</td>\n",
       "      <td>Adventure|Children|Fantasy</td>\n",
       "    </tr>\n",
       "    <tr>\n",
       "      <th>2</th>\n",
       "      <td>3</td>\n",
       "      <td>Grumpier Old Men (1995)</td>\n",
       "      <td>Comedy|Romance</td>\n",
       "    </tr>\n",
       "    <tr>\n",
       "      <th>3</th>\n",
       "      <td>4</td>\n",
       "      <td>Waiting to Exhale (1995)</td>\n",
       "      <td>Comedy|Drama|Romance</td>\n",
       "    </tr>\n",
       "    <tr>\n",
       "      <th>4</th>\n",
       "      <td>5</td>\n",
       "      <td>Father of the Bride Part II (1995)</td>\n",
       "      <td>Comedy</td>\n",
       "    </tr>\n",
       "  </tbody>\n",
       "</table>\n",
       "</div>"
      ],
      "text/plain": [
       "   movieId                               title  \\\n",
       "0        1                    Toy Story (1995)   \n",
       "1        2                      Jumanji (1995)   \n",
       "2        3             Grumpier Old Men (1995)   \n",
       "3        4            Waiting to Exhale (1995)   \n",
       "4        5  Father of the Bride Part II (1995)   \n",
       "\n",
       "                                        genres  \n",
       "0  Adventure|Animation|Children|Comedy|Fantasy  \n",
       "1                   Adventure|Children|Fantasy  \n",
       "2                               Comedy|Romance  \n",
       "3                         Comedy|Drama|Romance  \n",
       "4                                       Comedy  "
      ]
     },
     "execution_count": 3,
     "metadata": {},
     "output_type": "execute_result"
    }
   ],
   "source": [
    "movie.head()"
   ]
  },
  {
   "cell_type": "code",
   "execution_count": 4,
   "id": "debcf30e",
   "metadata": {
    "execution": {
     "iopub.execute_input": "2022-02-19T05:29:54.061444Z",
     "iopub.status.busy": "2022-02-19T05:29:54.060984Z",
     "iopub.status.idle": "2022-02-19T05:29:54.070966Z",
     "shell.execute_reply": "2022-02-19T05:29:54.071436Z",
     "shell.execute_reply.started": "2022-02-19T05:18:36.956759Z"
    },
    "papermill": {
     "duration": 0.034753,
     "end_time": "2022-02-19T05:29:54.071578",
     "exception": false,
     "start_time": "2022-02-19T05:29:54.036825",
     "status": "completed"
    },
    "tags": []
   },
   "outputs": [
    {
     "data": {
      "text/html": [
       "<div>\n",
       "<style scoped>\n",
       "    .dataframe tbody tr th:only-of-type {\n",
       "        vertical-align: middle;\n",
       "    }\n",
       "\n",
       "    .dataframe tbody tr th {\n",
       "        vertical-align: top;\n",
       "    }\n",
       "\n",
       "    .dataframe thead th {\n",
       "        text-align: right;\n",
       "    }\n",
       "</style>\n",
       "<table border=\"1\" class=\"dataframe\">\n",
       "  <thead>\n",
       "    <tr style=\"text-align: right;\">\n",
       "      <th></th>\n",
       "      <th>userId</th>\n",
       "      <th>movieId</th>\n",
       "      <th>rating</th>\n",
       "      <th>timestamp</th>\n",
       "    </tr>\n",
       "  </thead>\n",
       "  <tbody>\n",
       "    <tr>\n",
       "      <th>0</th>\n",
       "      <td>1</td>\n",
       "      <td>2</td>\n",
       "      <td>3.5</td>\n",
       "      <td>2005-04-02 23:53:47</td>\n",
       "    </tr>\n",
       "    <tr>\n",
       "      <th>1</th>\n",
       "      <td>1</td>\n",
       "      <td>29</td>\n",
       "      <td>3.5</td>\n",
       "      <td>2005-04-02 23:31:16</td>\n",
       "    </tr>\n",
       "    <tr>\n",
       "      <th>2</th>\n",
       "      <td>1</td>\n",
       "      <td>32</td>\n",
       "      <td>3.5</td>\n",
       "      <td>2005-04-02 23:33:39</td>\n",
       "    </tr>\n",
       "    <tr>\n",
       "      <th>3</th>\n",
       "      <td>1</td>\n",
       "      <td>47</td>\n",
       "      <td>3.5</td>\n",
       "      <td>2005-04-02 23:32:07</td>\n",
       "    </tr>\n",
       "    <tr>\n",
       "      <th>4</th>\n",
       "      <td>1</td>\n",
       "      <td>50</td>\n",
       "      <td>3.5</td>\n",
       "      <td>2005-04-02 23:29:40</td>\n",
       "    </tr>\n",
       "  </tbody>\n",
       "</table>\n",
       "</div>"
      ],
      "text/plain": [
       "   userId  movieId  rating            timestamp\n",
       "0       1        2     3.5  2005-04-02 23:53:47\n",
       "1       1       29     3.5  2005-04-02 23:31:16\n",
       "2       1       32     3.5  2005-04-02 23:33:39\n",
       "3       1       47     3.5  2005-04-02 23:32:07\n",
       "4       1       50     3.5  2005-04-02 23:29:40"
      ]
     },
     "execution_count": 4,
     "metadata": {},
     "output_type": "execute_result"
    }
   ],
   "source": [
    "rating.head()"
   ]
  },
  {
   "cell_type": "code",
   "execution_count": 5,
   "id": "3e7a59d3",
   "metadata": {
    "execution": {
     "iopub.execute_input": "2022-02-19T05:29:54.123550Z",
     "iopub.status.busy": "2022-02-19T05:29:54.122862Z",
     "iopub.status.idle": "2022-02-19T05:29:56.240167Z",
     "shell.execute_reply": "2022-02-19T05:29:56.240591Z",
     "shell.execute_reply.started": "2022-02-19T05:18:36.97353Z"
    },
    "papermill": {
     "duration": 2.147113,
     "end_time": "2022-02-19T05:29:56.240742",
     "exception": false,
     "start_time": "2022-02-19T05:29:54.093629",
     "status": "completed"
    },
    "tags": []
   },
   "outputs": [
    {
     "name": "stdout",
     "output_type": "stream",
     "text": [
      "Number of Users: 138494, Number of movies:27262\n"
     ]
    }
   ],
   "source": [
    "print('Number of Users: {}, Number of movies:{}'  .format(len(df.userId.unique()),len(df.title.unique())))"
   ]
  },
  {
   "cell_type": "code",
   "execution_count": 6,
   "id": "91008629",
   "metadata": {
    "execution": {
     "iopub.execute_input": "2022-02-19T05:29:56.289555Z",
     "iopub.status.busy": "2022-02-19T05:29:56.289009Z",
     "iopub.status.idle": "2022-02-19T05:30:06.277654Z",
     "shell.execute_reply": "2022-02-19T05:30:06.277066Z",
     "shell.execute_reply.started": "2022-02-19T05:18:38.944706Z"
    },
    "papermill": {
     "duration": 10.014508,
     "end_time": "2022-02-19T05:30:06.277797",
     "exception": false,
     "start_time": "2022-02-19T05:29:56.263289",
     "status": "completed"
    },
    "tags": []
   },
   "outputs": [
    {
     "data": {
      "text/plain": [
       "movieId        0\n",
       "title          0\n",
       "genres         0\n",
       "userId       534\n",
       "rating       534\n",
       "timestamp    534\n",
       "dtype: int64"
      ]
     },
     "execution_count": 6,
     "metadata": {},
     "output_type": "execute_result"
    }
   ],
   "source": [
    "df.isnull().sum()"
   ]
  },
  {
   "cell_type": "code",
   "execution_count": 7,
   "id": "07371678",
   "metadata": {
    "execution": {
     "iopub.execute_input": "2022-02-19T05:30:06.362098Z",
     "iopub.status.busy": "2022-02-19T05:30:06.361465Z",
     "iopub.status.idle": "2022-02-19T05:30:06.367473Z",
     "shell.execute_reply": "2022-02-19T05:30:06.366434Z",
     "shell.execute_reply.started": "2022-02-19T05:18:43.757831Z"
    },
    "papermill": {
     "duration": 0.054969,
     "end_time": "2022-02-19T05:30:06.367735",
     "exception": false,
     "start_time": "2022-02-19T05:30:06.312766",
     "status": "completed"
    },
    "tags": []
   },
   "outputs": [
    {
     "name": "stdout",
     "output_type": "stream",
     "text": [
      "<class 'pandas.core.frame.DataFrame'>\n",
      "Int64Index: 20000797 entries, 0 to 20000796\n",
      "Data columns (total 6 columns):\n",
      " #   Column     Dtype  \n",
      "---  ------     -----  \n",
      " 0   movieId    int64  \n",
      " 1   title      object \n",
      " 2   genres     object \n",
      " 3   userId     float64\n",
      " 4   rating     float64\n",
      " 5   timestamp  object \n",
      "dtypes: float64(2), int64(1), object(3)\n",
      "memory usage: 1.0+ GB\n"
     ]
    }
   ],
   "source": [
    "df.info()"
   ]
  },
  {
   "cell_type": "markdown",
   "id": "c74f975f",
   "metadata": {
    "papermill": {
     "duration": 0.034978,
     "end_time": "2022-02-19T05:30:06.438196",
     "exception": false,
     "start_time": "2022-02-19T05:30:06.403218",
     "status": "completed"
    },
    "tags": []
   },
   "source": [
    "First, we need to transform the dataframe of ratings into a proper format that can be consumed by a KNN model. We want the data to be in an m x n array, where m is the number of movies and n is the number of users. To reshape dataframe of ratings, we’ll pivot the dataframe to the wide format with movies as rows and users as columns. Then we’ll fill the missing observations with 0s since we’re going to be performing linear algebra operations (calculating distances between vectors). "
   ]
  },
  {
   "cell_type": "code",
   "execution_count": 8,
   "id": "066ae4f6",
   "metadata": {
    "execution": {
     "iopub.execute_input": "2022-02-19T05:30:07.243607Z",
     "iopub.status.busy": "2022-02-19T05:30:07.242888Z",
     "iopub.status.idle": "2022-02-19T05:30:07.254870Z",
     "shell.execute_reply": "2022-02-19T05:30:07.254263Z",
     "shell.execute_reply.started": "2022-02-19T05:18:43.774777Z"
    },
    "papermill": {
     "duration": 0.781691,
     "end_time": "2022-02-19T05:30:07.255003",
     "exception": false,
     "start_time": "2022-02-19T05:30:06.473312",
     "status": "completed"
    },
    "tags": []
   },
   "outputs": [
    {
     "data": {
      "text/html": [
       "<div>\n",
       "<style scoped>\n",
       "    .dataframe tbody tr th:only-of-type {\n",
       "        vertical-align: middle;\n",
       "    }\n",
       "\n",
       "    .dataframe tbody tr th {\n",
       "        vertical-align: top;\n",
       "    }\n",
       "\n",
       "    .dataframe thead th {\n",
       "        text-align: right;\n",
       "    }\n",
       "</style>\n",
       "<table border=\"1\" class=\"dataframe\">\n",
       "  <thead>\n",
       "    <tr style=\"text-align: right;\">\n",
       "      <th></th>\n",
       "      <th>title</th>\n",
       "    </tr>\n",
       "  </thead>\n",
       "  <tbody>\n",
       "    <tr>\n",
       "      <th>Pulp Fiction (1994)</th>\n",
       "      <td>67310</td>\n",
       "    </tr>\n",
       "    <tr>\n",
       "      <th>Forrest Gump (1994)</th>\n",
       "      <td>66172</td>\n",
       "    </tr>\n",
       "    <tr>\n",
       "      <th>Shawshank Redemption, The (1994)</th>\n",
       "      <td>63366</td>\n",
       "    </tr>\n",
       "    <tr>\n",
       "      <th>Silence of the Lambs, The (1991)</th>\n",
       "      <td>63299</td>\n",
       "    </tr>\n",
       "    <tr>\n",
       "      <th>Jurassic Park (1993)</th>\n",
       "      <td>59715</td>\n",
       "    </tr>\n",
       "    <tr>\n",
       "      <th>...</th>\n",
       "      <td>...</td>\n",
       "    </tr>\n",
       "    <tr>\n",
       "      <th>Rapture (Arrebato) (1980)</th>\n",
       "      <td>1</td>\n",
       "    </tr>\n",
       "    <tr>\n",
       "      <th>Education of Mohammad Hussein, The (2013)</th>\n",
       "      <td>1</td>\n",
       "    </tr>\n",
       "    <tr>\n",
       "      <th>Satanas (2007)</th>\n",
       "      <td>1</td>\n",
       "    </tr>\n",
       "    <tr>\n",
       "      <th>Psychosis (2010)</th>\n",
       "      <td>1</td>\n",
       "    </tr>\n",
       "    <tr>\n",
       "      <th>Innocence (2014)</th>\n",
       "      <td>1</td>\n",
       "    </tr>\n",
       "  </tbody>\n",
       "</table>\n",
       "<p>27262 rows × 1 columns</p>\n",
       "</div>"
      ],
      "text/plain": [
       "                                           title\n",
       "Pulp Fiction (1994)                        67310\n",
       "Forrest Gump (1994)                        66172\n",
       "Shawshank Redemption, The (1994)           63366\n",
       "Silence of the Lambs, The (1991)           63299\n",
       "Jurassic Park (1993)                       59715\n",
       "...                                          ...\n",
       "Rapture (Arrebato) (1980)                      1\n",
       "Education of Mohammad Hussein, The (2013)      1\n",
       "Satanas (2007)                                 1\n",
       "Psychosis (2010)                               1\n",
       "Innocence (2014)                               1\n",
       "\n",
       "[27262 rows x 1 columns]"
      ]
     },
     "execution_count": 8,
     "metadata": {},
     "output_type": "execute_result"
    }
   ],
   "source": [
    "pd.DataFrame(df.title.value_counts())"
   ]
  },
  {
   "cell_type": "markdown",
   "id": "1cbecc3e",
   "metadata": {
    "papermill": {
     "duration": 0.036042,
     "end_time": "2022-02-19T05:30:07.326496",
     "exception": false,
     "start_time": "2022-02-19T05:30:07.290454",
     "status": "completed"
    },
    "tags": []
   },
   "source": [
    "### Data Cleaning\n",
    " Remove the movies having less than 1000"
   ]
  },
  {
   "cell_type": "code",
   "execution_count": 9,
   "id": "ff749a2d",
   "metadata": {
    "execution": {
     "iopub.execute_input": "2022-02-19T05:30:08.128602Z",
     "iopub.status.busy": "2022-02-19T05:30:08.127904Z",
     "iopub.status.idle": "2022-02-19T05:30:08.139316Z",
     "shell.execute_reply": "2022-02-19T05:30:08.139674Z",
     "shell.execute_reply.started": "2022-02-19T05:18:44.615793Z"
    },
    "papermill": {
     "duration": 0.777344,
     "end_time": "2022-02-19T05:30:08.139816",
     "exception": false,
     "start_time": "2022-02-19T05:30:07.362472",
     "status": "completed"
    },
    "tags": []
   },
   "outputs": [
    {
     "data": {
      "text/html": [
       "<div>\n",
       "<style scoped>\n",
       "    .dataframe tbody tr th:only-of-type {\n",
       "        vertical-align: middle;\n",
       "    }\n",
       "\n",
       "    .dataframe tbody tr th {\n",
       "        vertical-align: top;\n",
       "    }\n",
       "\n",
       "    .dataframe thead th {\n",
       "        text-align: right;\n",
       "    }\n",
       "</style>\n",
       "<table border=\"1\" class=\"dataframe\">\n",
       "  <thead>\n",
       "    <tr style=\"text-align: right;\">\n",
       "      <th></th>\n",
       "      <th>title</th>\n",
       "    </tr>\n",
       "  </thead>\n",
       "  <tbody>\n",
       "    <tr>\n",
       "      <th>Pulp Fiction (1994)</th>\n",
       "      <td>67310</td>\n",
       "    </tr>\n",
       "    <tr>\n",
       "      <th>Forrest Gump (1994)</th>\n",
       "      <td>66172</td>\n",
       "    </tr>\n",
       "    <tr>\n",
       "      <th>Shawshank Redemption, The (1994)</th>\n",
       "      <td>63366</td>\n",
       "    </tr>\n",
       "    <tr>\n",
       "      <th>Silence of the Lambs, The (1991)</th>\n",
       "      <td>63299</td>\n",
       "    </tr>\n",
       "    <tr>\n",
       "      <th>Jurassic Park (1993)</th>\n",
       "      <td>59715</td>\n",
       "    </tr>\n",
       "    <tr>\n",
       "      <th>...</th>\n",
       "      <td>...</td>\n",
       "    </tr>\n",
       "    <tr>\n",
       "      <th>Rapture (Arrebato) (1980)</th>\n",
       "      <td>1</td>\n",
       "    </tr>\n",
       "    <tr>\n",
       "      <th>Education of Mohammad Hussein, The (2013)</th>\n",
       "      <td>1</td>\n",
       "    </tr>\n",
       "    <tr>\n",
       "      <th>Satanas (2007)</th>\n",
       "      <td>1</td>\n",
       "    </tr>\n",
       "    <tr>\n",
       "      <th>Psychosis (2010)</th>\n",
       "      <td>1</td>\n",
       "    </tr>\n",
       "    <tr>\n",
       "      <th>Innocence (2014)</th>\n",
       "      <td>1</td>\n",
       "    </tr>\n",
       "  </tbody>\n",
       "</table>\n",
       "<p>27262 rows × 1 columns</p>\n",
       "</div>"
      ],
      "text/plain": [
       "                                           title\n",
       "Pulp Fiction (1994)                        67310\n",
       "Forrest Gump (1994)                        66172\n",
       "Shawshank Redemption, The (1994)           63366\n",
       "Silence of the Lambs, The (1991)           63299\n",
       "Jurassic Park (1993)                       59715\n",
       "...                                          ...\n",
       "Rapture (Arrebato) (1980)                      1\n",
       "Education of Mohammad Hussein, The (2013)      1\n",
       "Satanas (2007)                                 1\n",
       "Psychosis (2010)                               1\n",
       "Innocence (2014)                               1\n",
       "\n",
       "[27262 rows x 1 columns]"
      ]
     },
     "execution_count": 9,
     "metadata": {},
     "output_type": "execute_result"
    }
   ],
   "source": [
    "gf =pd.DataFrame(df['title'].value_counts())\n",
    "gf"
   ]
  },
  {
   "cell_type": "code",
   "execution_count": 10,
   "id": "ce8610e3",
   "metadata": {
    "execution": {
     "iopub.execute_input": "2022-02-19T05:30:08.193869Z",
     "iopub.status.busy": "2022-02-19T05:30:08.193261Z",
     "iopub.status.idle": "2022-02-19T05:30:08.198412Z",
     "shell.execute_reply": "2022-02-19T05:30:08.197919Z",
     "shell.execute_reply.started": "2022-02-19T05:18:45.483644Z"
    },
    "papermill": {
     "duration": 0.034393,
     "end_time": "2022-02-19T05:30:08.198545",
     "exception": false,
     "start_time": "2022-02-19T05:30:08.164152",
     "status": "completed"
    },
    "tags": []
   },
   "outputs": [
    {
     "data": {
      "text/plain": [
       "(20000797, 6)"
      ]
     },
     "execution_count": 10,
     "metadata": {},
     "output_type": "execute_result"
    }
   ],
   "source": [
    "df.shape"
   ]
  },
  {
   "cell_type": "code",
   "execution_count": 11,
   "id": "93ac63dc",
   "metadata": {
    "execution": {
     "iopub.execute_input": "2022-02-19T05:30:09.123215Z",
     "iopub.status.busy": "2022-02-19T05:30:09.122692Z",
     "iopub.status.idle": "2022-02-19T05:30:11.245653Z",
     "shell.execute_reply": "2022-02-19T05:30:11.246053Z",
     "shell.execute_reply.started": "2022-02-19T05:18:45.490153Z"
    },
    "papermill": {
     "duration": 3.022248,
     "end_time": "2022-02-19T05:30:11.246248",
     "exception": false,
     "start_time": "2022-02-19T05:30:08.224000",
     "status": "completed"
    },
    "tags": []
   },
   "outputs": [
    {
     "data": {
      "text/html": [
       "<div>\n",
       "<style scoped>\n",
       "    .dataframe tbody tr th:only-of-type {\n",
       "        vertical-align: middle;\n",
       "    }\n",
       "\n",
       "    .dataframe tbody tr th {\n",
       "        vertical-align: top;\n",
       "    }\n",
       "\n",
       "    .dataframe thead th {\n",
       "        text-align: right;\n",
       "    }\n",
       "</style>\n",
       "<table border=\"1\" class=\"dataframe\">\n",
       "  <thead>\n",
       "    <tr style=\"text-align: right;\">\n",
       "      <th></th>\n",
       "      <th>title</th>\n",
       "      <th>Average_rating</th>\n",
       "    </tr>\n",
       "  </thead>\n",
       "  <tbody>\n",
       "    <tr>\n",
       "      <th>0</th>\n",
       "      <td>Small Roads (2011)</td>\n",
       "      <td>5.0</td>\n",
       "    </tr>\n",
       "    <tr>\n",
       "      <th>1</th>\n",
       "      <td>Divorce (1945)</td>\n",
       "      <td>5.0</td>\n",
       "    </tr>\n",
       "    <tr>\n",
       "      <th>2</th>\n",
       "      <td>The Beautiful Story (1992)</td>\n",
       "      <td>5.0</td>\n",
       "    </tr>\n",
       "    <tr>\n",
       "      <th>3</th>\n",
       "      <td>Into the Middle of Nowhere (2010)</td>\n",
       "      <td>5.0</td>\n",
       "    </tr>\n",
       "    <tr>\n",
       "      <th>4</th>\n",
       "      <td>The Sea That Thinks (2000)</td>\n",
       "      <td>5.0</td>\n",
       "    </tr>\n",
       "  </tbody>\n",
       "</table>\n",
       "</div>"
      ],
      "text/plain": [
       "                               title  Average_rating\n",
       "0                 Small Roads (2011)             5.0\n",
       "1                     Divorce (1945)             5.0\n",
       "2         The Beautiful Story (1992)             5.0\n",
       "3  Into the Middle of Nowhere (2010)             5.0\n",
       "4         The Sea That Thinks (2000)             5.0"
      ]
     },
     "execution_count": 11,
     "metadata": {},
     "output_type": "execute_result"
    }
   ],
   "source": [
    "movie_rating_avg = df.groupby('title')['rating'].mean().sort_values(ascending=False).reset_index().rename(columns={'rating':'Average_rating'})\n",
    "movie_rating_avg.head()"
   ]
  },
  {
   "cell_type": "code",
   "execution_count": 12,
   "id": "26545144",
   "metadata": {
    "execution": {
     "iopub.execute_input": "2022-02-19T05:30:11.298017Z",
     "iopub.status.busy": "2022-02-19T05:30:11.297487Z",
     "iopub.status.idle": "2022-02-19T05:30:14.302398Z",
     "shell.execute_reply": "2022-02-19T05:30:14.302889Z",
     "shell.execute_reply.started": "2022-02-19T05:18:47.531215Z"
    },
    "papermill": {
     "duration": 3.032148,
     "end_time": "2022-02-19T05:30:14.303084",
     "exception": false,
     "start_time": "2022-02-19T05:30:11.270936",
     "status": "completed"
    },
    "tags": []
   },
   "outputs": [
    {
     "data": {
      "text/html": [
       "<div>\n",
       "<style scoped>\n",
       "    .dataframe tbody tr th:only-of-type {\n",
       "        vertical-align: middle;\n",
       "    }\n",
       "\n",
       "    .dataframe tbody tr th {\n",
       "        vertical-align: top;\n",
       "    }\n",
       "\n",
       "    .dataframe thead th {\n",
       "        text-align: right;\n",
       "    }\n",
       "</style>\n",
       "<table border=\"1\" class=\"dataframe\">\n",
       "  <thead>\n",
       "    <tr style=\"text-align: right;\">\n",
       "      <th></th>\n",
       "      <th>title</th>\n",
       "      <th>Total_RatingCount</th>\n",
       "    </tr>\n",
       "  </thead>\n",
       "  <tbody>\n",
       "    <tr>\n",
       "      <th>0</th>\n",
       "      <td>Pulp Fiction (1994)</td>\n",
       "      <td>67310</td>\n",
       "    </tr>\n",
       "    <tr>\n",
       "      <th>1</th>\n",
       "      <td>Forrest Gump (1994)</td>\n",
       "      <td>66172</td>\n",
       "    </tr>\n",
       "    <tr>\n",
       "      <th>2</th>\n",
       "      <td>Shawshank Redemption, The (1994)</td>\n",
       "      <td>63366</td>\n",
       "    </tr>\n",
       "    <tr>\n",
       "      <th>3</th>\n",
       "      <td>Silence of the Lambs, The (1991)</td>\n",
       "      <td>63299</td>\n",
       "    </tr>\n",
       "    <tr>\n",
       "      <th>4</th>\n",
       "      <td>Jurassic Park (1993)</td>\n",
       "      <td>59715</td>\n",
       "    </tr>\n",
       "    <tr>\n",
       "      <th>...</th>\n",
       "      <td>...</td>\n",
       "      <td>...</td>\n",
       "    </tr>\n",
       "    <tr>\n",
       "      <th>27257</th>\n",
       "      <td>North and South, Book I (1985)</td>\n",
       "      <td>0</td>\n",
       "    </tr>\n",
       "    <tr>\n",
       "      <th>27258</th>\n",
       "      <td>North and South, Book II (1986)</td>\n",
       "      <td>0</td>\n",
       "    </tr>\n",
       "    <tr>\n",
       "      <th>27259</th>\n",
       "      <td>The Happy Road (1957)</td>\n",
       "      <td>0</td>\n",
       "    </tr>\n",
       "    <tr>\n",
       "      <th>27260</th>\n",
       "      <td>Angele (1934)</td>\n",
       "      <td>0</td>\n",
       "    </tr>\n",
       "    <tr>\n",
       "      <th>27261</th>\n",
       "      <td>Report, The (Gozaresh) (1977)</td>\n",
       "      <td>0</td>\n",
       "    </tr>\n",
       "  </tbody>\n",
       "</table>\n",
       "<p>27262 rows × 2 columns</p>\n",
       "</div>"
      ],
      "text/plain": [
       "                                  title  Total_RatingCount\n",
       "0                   Pulp Fiction (1994)              67310\n",
       "1                   Forrest Gump (1994)              66172\n",
       "2      Shawshank Redemption, The (1994)              63366\n",
       "3      Silence of the Lambs, The (1991)              63299\n",
       "4                  Jurassic Park (1993)              59715\n",
       "...                                 ...                ...\n",
       "27257    North and South, Book I (1985)                  0\n",
       "27258   North and South, Book II (1986)                  0\n",
       "27259             The Happy Road (1957)                  0\n",
       "27260                     Angele (1934)                  0\n",
       "27261     Report, The (Gozaresh) (1977)                  0\n",
       "\n",
       "[27262 rows x 2 columns]"
      ]
     },
     "execution_count": 12,
     "metadata": {},
     "output_type": "execute_result"
    }
   ],
   "source": [
    "movie_rating_count =df.groupby('title')['rating'].count().sort_values(ascending =False).reset_index().rename(columns={'rating':'Total_RatingCount'})\n",
    "movie_rating_count"
   ]
  },
  {
   "cell_type": "code",
   "execution_count": 13,
   "id": "752657bb",
   "metadata": {
    "execution": {
     "iopub.execute_input": "2022-02-19T05:30:14.382790Z",
     "iopub.status.busy": "2022-02-19T05:30:14.381939Z",
     "iopub.status.idle": "2022-02-19T05:30:14.413406Z",
     "shell.execute_reply": "2022-02-19T05:30:14.412887Z",
     "shell.execute_reply.started": "2022-02-19T05:18:49.572452Z"
    },
    "papermill": {
     "duration": 0.071892,
     "end_time": "2022-02-19T05:30:14.413517",
     "exception": false,
     "start_time": "2022-02-19T05:30:14.341625",
     "status": "completed"
    },
    "tags": []
   },
   "outputs": [
    {
     "data": {
      "text/html": [
       "<div>\n",
       "<style scoped>\n",
       "    .dataframe tbody tr th:only-of-type {\n",
       "        vertical-align: middle;\n",
       "    }\n",
       "\n",
       "    .dataframe tbody tr th {\n",
       "        vertical-align: top;\n",
       "    }\n",
       "\n",
       "    .dataframe thead th {\n",
       "        text-align: right;\n",
       "    }\n",
       "</style>\n",
       "<table border=\"1\" class=\"dataframe\">\n",
       "  <thead>\n",
       "    <tr style=\"text-align: right;\">\n",
       "      <th></th>\n",
       "      <th>title</th>\n",
       "      <th>Total_RatingCount</th>\n",
       "      <th>Average_rating</th>\n",
       "    </tr>\n",
       "  </thead>\n",
       "  <tbody>\n",
       "    <tr>\n",
       "      <th>0</th>\n",
       "      <td>Pulp Fiction (1994)</td>\n",
       "      <td>67310</td>\n",
       "      <td>4.174231</td>\n",
       "    </tr>\n",
       "    <tr>\n",
       "      <th>1</th>\n",
       "      <td>Forrest Gump (1994)</td>\n",
       "      <td>66172</td>\n",
       "      <td>4.029000</td>\n",
       "    </tr>\n",
       "    <tr>\n",
       "      <th>2</th>\n",
       "      <td>Shawshank Redemption, The (1994)</td>\n",
       "      <td>63366</td>\n",
       "      <td>4.446990</td>\n",
       "    </tr>\n",
       "    <tr>\n",
       "      <th>3</th>\n",
       "      <td>Silence of the Lambs, The (1991)</td>\n",
       "      <td>63299</td>\n",
       "      <td>4.177057</td>\n",
       "    </tr>\n",
       "    <tr>\n",
       "      <th>4</th>\n",
       "      <td>Jurassic Park (1993)</td>\n",
       "      <td>59715</td>\n",
       "      <td>3.664741</td>\n",
       "    </tr>\n",
       "  </tbody>\n",
       "</table>\n",
       "</div>"
      ],
      "text/plain": [
       "                              title  Total_RatingCount  Average_rating\n",
       "0               Pulp Fiction (1994)              67310        4.174231\n",
       "1               Forrest Gump (1994)              66172        4.029000\n",
       "2  Shawshank Redemption, The (1994)              63366        4.446990\n",
       "3  Silence of the Lambs, The (1991)              63299        4.177057\n",
       "4              Jurassic Park (1993)              59715        3.664741"
      ]
     },
     "execution_count": 13,
     "metadata": {},
     "output_type": "execute_result"
    }
   ],
   "source": [
    "movie_rate_count_avg = movie_rating_count.merge(movie_rating_avg,on='title')\n",
    "movie_rate_count_avg.head()"
   ]
  },
  {
   "cell_type": "code",
   "execution_count": 14,
   "id": "f5df4dc7",
   "metadata": {
    "execution": {
     "iopub.execute_input": "2022-02-19T05:30:14.468011Z",
     "iopub.status.busy": "2022-02-19T05:30:14.467479Z",
     "iopub.status.idle": "2022-02-19T05:30:18.458453Z",
     "shell.execute_reply": "2022-02-19T05:30:18.458835Z",
     "shell.execute_reply.started": "2022-02-19T05:18:49.600545Z"
    },
    "papermill": {
     "duration": 4.020145,
     "end_time": "2022-02-19T05:30:18.458991",
     "exception": false,
     "start_time": "2022-02-19T05:30:14.438846",
     "status": "completed"
    },
    "tags": []
   },
   "outputs": [
    {
     "data": {
      "text/html": [
       "<div>\n",
       "<style scoped>\n",
       "    .dataframe tbody tr th:only-of-type {\n",
       "        vertical-align: middle;\n",
       "    }\n",
       "\n",
       "    .dataframe tbody tr th {\n",
       "        vertical-align: top;\n",
       "    }\n",
       "\n",
       "    .dataframe thead th {\n",
       "        text-align: right;\n",
       "    }\n",
       "</style>\n",
       "<table border=\"1\" class=\"dataframe\">\n",
       "  <thead>\n",
       "    <tr style=\"text-align: right;\">\n",
       "      <th></th>\n",
       "      <th>movieId</th>\n",
       "      <th>title</th>\n",
       "      <th>genres</th>\n",
       "      <th>userId</th>\n",
       "      <th>rating</th>\n",
       "      <th>timestamp</th>\n",
       "    </tr>\n",
       "  </thead>\n",
       "  <tbody>\n",
       "    <tr>\n",
       "      <th>0</th>\n",
       "      <td>1</td>\n",
       "      <td>Toy Story (1995)</td>\n",
       "      <td>Adventure|Animation|Children|Comedy|Fantasy</td>\n",
       "      <td>3.0</td>\n",
       "      <td>4.0</td>\n",
       "      <td>1999-12-11 13:36:47</td>\n",
       "    </tr>\n",
       "    <tr>\n",
       "      <th>1</th>\n",
       "      <td>1</td>\n",
       "      <td>Toy Story (1995)</td>\n",
       "      <td>Adventure|Animation|Children|Comedy|Fantasy</td>\n",
       "      <td>6.0</td>\n",
       "      <td>5.0</td>\n",
       "      <td>1997-03-13 17:50:52</td>\n",
       "    </tr>\n",
       "    <tr>\n",
       "      <th>2</th>\n",
       "      <td>1</td>\n",
       "      <td>Toy Story (1995)</td>\n",
       "      <td>Adventure|Animation|Children|Comedy|Fantasy</td>\n",
       "      <td>8.0</td>\n",
       "      <td>4.0</td>\n",
       "      <td>1996-06-05 13:37:51</td>\n",
       "    </tr>\n",
       "    <tr>\n",
       "      <th>3</th>\n",
       "      <td>1</td>\n",
       "      <td>Toy Story (1995)</td>\n",
       "      <td>Adventure|Animation|Children|Comedy|Fantasy</td>\n",
       "      <td>10.0</td>\n",
       "      <td>4.0</td>\n",
       "      <td>1999-11-25 02:44:47</td>\n",
       "    </tr>\n",
       "    <tr>\n",
       "      <th>4</th>\n",
       "      <td>1</td>\n",
       "      <td>Toy Story (1995)</td>\n",
       "      <td>Adventure|Animation|Children|Comedy|Fantasy</td>\n",
       "      <td>11.0</td>\n",
       "      <td>4.5</td>\n",
       "      <td>2009-01-02 01:13:41</td>\n",
       "    </tr>\n",
       "    <tr>\n",
       "      <th>...</th>\n",
       "      <td>...</td>\n",
       "      <td>...</td>\n",
       "      <td>...</td>\n",
       "      <td>...</td>\n",
       "      <td>...</td>\n",
       "      <td>...</td>\n",
       "    </tr>\n",
       "    <tr>\n",
       "      <th>19985698</th>\n",
       "      <td>114240</td>\n",
       "      <td>Aladdin (1992)</td>\n",
       "      <td>Adventure|Animation|Children|Comedy|Fantasy</td>\n",
       "      <td>28195.0</td>\n",
       "      <td>4.0</td>\n",
       "      <td>2014-09-22 20:52:18</td>\n",
       "    </tr>\n",
       "    <tr>\n",
       "      <th>19985699</th>\n",
       "      <td>114240</td>\n",
       "      <td>Aladdin (1992)</td>\n",
       "      <td>Adventure|Animation|Children|Comedy|Fantasy</td>\n",
       "      <td>51334.0</td>\n",
       "      <td>3.0</td>\n",
       "      <td>2014-09-23 15:53:39</td>\n",
       "    </tr>\n",
       "    <tr>\n",
       "      <th>19985700</th>\n",
       "      <td>114240</td>\n",
       "      <td>Aladdin (1992)</td>\n",
       "      <td>Adventure|Animation|Children|Comedy|Fantasy</td>\n",
       "      <td>120575.0</td>\n",
       "      <td>2.5</td>\n",
       "      <td>2014-10-08 14:23:39</td>\n",
       "    </tr>\n",
       "    <tr>\n",
       "      <th>19985701</th>\n",
       "      <td>114240</td>\n",
       "      <td>Aladdin (1992)</td>\n",
       "      <td>Adventure|Animation|Children|Comedy|Fantasy</td>\n",
       "      <td>124998.0</td>\n",
       "      <td>2.5</td>\n",
       "      <td>2014-09-20 22:16:14</td>\n",
       "    </tr>\n",
       "    <tr>\n",
       "      <th>19985702</th>\n",
       "      <td>114240</td>\n",
       "      <td>Aladdin (1992)</td>\n",
       "      <td>Adventure|Animation|Children|Comedy|Fantasy</td>\n",
       "      <td>138177.0</td>\n",
       "      <td>4.0</td>\n",
       "      <td>2014-10-13 23:12:09</td>\n",
       "    </tr>\n",
       "  </tbody>\n",
       "</table>\n",
       "<p>9050403 rows × 6 columns</p>\n",
       "</div>"
      ],
      "text/plain": [
       "          movieId             title  \\\n",
       "0               1  Toy Story (1995)   \n",
       "1               1  Toy Story (1995)   \n",
       "2               1  Toy Story (1995)   \n",
       "3               1  Toy Story (1995)   \n",
       "4               1  Toy Story (1995)   \n",
       "...           ...               ...   \n",
       "19985698   114240    Aladdin (1992)   \n",
       "19985699   114240    Aladdin (1992)   \n",
       "19985700   114240    Aladdin (1992)   \n",
       "19985701   114240    Aladdin (1992)   \n",
       "19985702   114240    Aladdin (1992)   \n",
       "\n",
       "                                               genres    userId  rating  \\\n",
       "0         Adventure|Animation|Children|Comedy|Fantasy       3.0     4.0   \n",
       "1         Adventure|Animation|Children|Comedy|Fantasy       6.0     5.0   \n",
       "2         Adventure|Animation|Children|Comedy|Fantasy       8.0     4.0   \n",
       "3         Adventure|Animation|Children|Comedy|Fantasy      10.0     4.0   \n",
       "4         Adventure|Animation|Children|Comedy|Fantasy      11.0     4.5   \n",
       "...                                               ...       ...     ...   \n",
       "19985698  Adventure|Animation|Children|Comedy|Fantasy   28195.0     4.0   \n",
       "19985699  Adventure|Animation|Children|Comedy|Fantasy   51334.0     3.0   \n",
       "19985700  Adventure|Animation|Children|Comedy|Fantasy  120575.0     2.5   \n",
       "19985701  Adventure|Animation|Children|Comedy|Fantasy  124998.0     2.5   \n",
       "19985702  Adventure|Animation|Children|Comedy|Fantasy  138177.0     4.0   \n",
       "\n",
       "                    timestamp  \n",
       "0         1999-12-11 13:36:47  \n",
       "1         1997-03-13 17:50:52  \n",
       "2         1996-06-05 13:37:51  \n",
       "3         1999-11-25 02:44:47  \n",
       "4         2009-01-02 01:13:41  \n",
       "...                       ...  \n",
       "19985698  2014-09-22 20:52:18  \n",
       "19985699  2014-09-23 15:53:39  \n",
       "19985700  2014-10-08 14:23:39  \n",
       "19985701  2014-09-20 22:16:14  \n",
       "19985702  2014-10-13 23:12:09  \n",
       "\n",
       "[9050403 rows x 6 columns]"
      ]
     },
     "execution_count": 14,
     "metadata": {},
     "output_type": "execute_result"
    }
   ],
   "source": [
    "\n",
    "rare_movie = gf[gf['title'] <=10000].index\n",
    "# rare_movies\n",
    "movies_df =df[~df['title'].isin(rare_movie)]\n",
    "movies_df"
   ]
  },
  {
   "cell_type": "markdown",
   "id": "22b8c42a",
   "metadata": {
    "papermill": {
     "duration": 0.025666,
     "end_time": "2022-02-19T05:30:18.510575",
     "exception": false,
     "start_time": "2022-02-19T05:30:18.484909",
     "status": "completed"
    },
    "tags": []
   },
   "source": [
    "## Creating Pivot table\n",
    " In the pivot table, the index will be **'title'** ,columns will be **'UserId'** and values in the table will be **'rating'** of each user for the movies."
   ]
  },
  {
   "cell_type": "code",
   "execution_count": 15,
   "id": "f82f4695",
   "metadata": {
    "execution": {
     "iopub.execute_input": "2022-02-19T05:30:18.565328Z",
     "iopub.status.busy": "2022-02-19T05:30:18.564756Z",
     "iopub.status.idle": "2022-02-19T05:30:30.902363Z",
     "shell.execute_reply": "2022-02-19T05:30:30.901885Z",
     "shell.execute_reply.started": "2022-02-19T05:18:54.21476Z"
    },
    "papermill": {
     "duration": 12.365875,
     "end_time": "2022-02-19T05:30:30.902477",
     "exception": false,
     "start_time": "2022-02-19T05:30:18.536602",
     "status": "completed"
    },
    "tags": []
   },
   "outputs": [],
   "source": [
    "movieRating_feature= movies_df.pivot_table(index='title',columns='userId',values='rating').fillna(0)\n"
   ]
  },
  {
   "cell_type": "markdown",
   "id": "38fa204a",
   "metadata": {
    "papermill": {
     "duration": 0.025925,
     "end_time": "2022-02-19T05:30:30.955226",
     "exception": false,
     "start_time": "2022-02-19T05:30:30.929301",
     "status": "completed"
    },
    "tags": []
   },
   "source": [
    "## Create KNN model for prediction\n",
    "The sparse matrix is created for pivot table and fill the empty values with zeros."
   ]
  },
  {
   "cell_type": "markdown",
   "id": "26d8db81",
   "metadata": {
    "papermill": {
     "duration": 0.02711,
     "end_time": "2022-02-19T05:30:31.008471",
     "exception": false,
     "start_time": "2022-02-19T05:30:30.981361",
     "status": "completed"
    },
    "tags": []
   },
   "source": []
  },
  {
   "cell_type": "markdown",
   "id": "4231f721",
   "metadata": {
    "papermill": {
     "duration": 0.026236,
     "end_time": "2022-02-19T05:30:31.060604",
     "exception": false,
     "start_time": "2022-02-19T05:30:31.034368",
     "status": "completed"
    },
    "tags": []
   },
   "source": [
    "Finding the **Nearest Neighbors** use the **unsupervised algorithms with sklearn.neighbors**. <br />The algorithm we use to compute the nearest neighbors is **“brute”**, and we specify **“metric=cosine”** so that the algorithm will calculate the cosine similarity between rating vectors. Finally, we fit the model.\n"
   ]
  },
  {
   "cell_type": "code",
   "execution_count": 16,
   "id": "276503ec",
   "metadata": {
    "execution": {
     "iopub.execute_input": "2022-02-19T05:30:31.121477Z",
     "iopub.status.busy": "2022-02-19T05:30:31.120787Z",
     "iopub.status.idle": "2022-02-19T05:30:31.126556Z",
     "shell.execute_reply": "2022-02-19T05:30:31.126132Z",
     "shell.execute_reply.started": "2022-02-19T05:19:06.101213Z"
    },
    "papermill": {
     "duration": 0.039988,
     "end_time": "2022-02-19T05:30:31.126673",
     "exception": false,
     "start_time": "2022-02-19T05:30:31.086685",
     "status": "completed"
    },
    "tags": []
   },
   "outputs": [],
   "source": [
    "def recommendedMovie(movieRating_feature):\n",
    "    mat_movie_features_array = csr_matrix(movieRating_feature.values)\n",
    "    model_knn = NearestNeighbors(metric='cosine', algorithm='brute',n_jobs=-1)\n",
    "    model_knn.fit(mat_movie_features_array)\n",
    "    query_index =np.random.choice(movieRating_feature.shape[0])\n",
    "    print(query_index)\n",
    "    distances,indices =model_knn.kneighbors(movieRating_feature.iloc[query_index,:].values.reshape(1,-1), n_neighbors=6)\n",
    "    print(\"Distances -->\",distances,\" Indices -->\",indices)\n",
    " \n",
    "    print(distances.flatten())\n",
    "    print(len(distances.flatten()))\n",
    " \n",
    "    for i in range(0, len(distances.flatten())):\n",
    "        if i == 0:\n",
    "            print('Recommendations for {0}:\\n'.format(movieRating_feature.index[query_index]))\n",
    "        else:\n",
    "            print('{0}: {1}, with distance of {2}:'.format(i, movieRating_feature.index[indices.flatten()[i]], distances.flatten()[i]))"
   ]
  },
  {
   "cell_type": "code",
   "execution_count": 17,
   "id": "675589d1",
   "metadata": {
    "execution": {
     "iopub.execute_input": "2022-02-19T05:30:31.184071Z",
     "iopub.status.busy": "2022-02-19T05:30:31.183548Z",
     "iopub.status.idle": "2022-02-19T05:30:33.839051Z",
     "shell.execute_reply": "2022-02-19T05:30:33.838505Z",
     "shell.execute_reply.started": "2022-02-19T05:19:06.111287Z"
    },
    "papermill": {
     "duration": 2.685957,
     "end_time": "2022-02-19T05:30:33.839195",
     "exception": false,
     "start_time": "2022-02-19T05:30:31.153238",
     "status": "completed"
    },
    "tags": []
   },
   "outputs": [
    {
     "name": "stdout",
     "output_type": "stream",
     "text": [
      "33\n",
      "Distances --> [[0.         0.56519351 0.57897557 0.5927973  0.59798754 0.60009349]]  Indices --> [[ 33  17  15 402 408 167]]\n",
      "[0.         0.56519351 0.57897557 0.5927973  0.59798754 0.60009349]\n",
      "6\n",
      "Recommendations for Army of Darkness (1993):\n",
      "\n",
      "1: Aliens (1986), with distance of 0.5651935147849823:\n",
      "2: Alien (1979), with distance of 0.5789755682630586:\n",
      "3: Starship Troopers (1997), with distance of 0.5927973030540457:\n",
      "4: Terminator, The (1984), with distance of 0.597987539751613:\n",
      "5: From Dusk Till Dawn (1996), with distance of 0.6000934894278684:\n"
     ]
    }
   ],
   "source": [
    "recommendedMovie(movieRating_feature)"
   ]
  },
  {
   "cell_type": "code",
   "execution_count": 18,
   "id": "ab0b10c8",
   "metadata": {
    "execution": {
     "iopub.execute_input": "2022-02-19T05:30:33.901041Z",
     "iopub.status.busy": "2022-02-19T05:30:33.900520Z",
     "iopub.status.idle": "2022-02-19T05:30:33.902980Z",
     "shell.execute_reply": "2022-02-19T05:30:33.902500Z",
     "shell.execute_reply.started": "2022-02-19T05:19:08.436813Z"
    },
    "papermill": {
     "duration": 0.037169,
     "end_time": "2022-02-19T05:30:33.903103",
     "exception": false,
     "start_time": "2022-02-19T05:30:33.865934",
     "status": "completed"
    },
    "tags": []
   },
   "outputs": [],
   "source": [
    "def recommendedMovie(movieRating_feature,favoriteMovie):\n",
    "    mat_movie_features_array = csr_matrix(movieRating_feature.values)\n",
    "    model_knn = NearestNeighbors(metric='cosine', algorithm='brute',n_jobs=-1)\n",
    "    model_knn.fit(mat_movie_features_array)\n",
    "#     favoriteMovie = 'Brazil (1985)'\n",
    "    query_index = movieRating_feature.index.get_loc(favoriteMovie)\n",
    "#     query_index =np.random.choice(movieRating_feature.shape[0])\n",
    "    print(query_index)\n",
    "    distances,indices =model_knn.kneighbors(movieRating_feature.iloc[query_index,:].values.reshape(1,-1), n_neighbors=6)\n",
    "    for i in range(0, len(distances.flatten())):\n",
    "        if i == 0:\n",
    "            print('Recommendations for {0}:\\n'.format(movieRating_feature.index[query_index]))\n",
    "        else:\n",
    "            print('{0}: {1}, with distance of {2}:'.format(i, movieRating_feature.index[indices.flatten()[i]], distances.flatten()[i]))"
   ]
  },
  {
   "cell_type": "code",
   "execution_count": 19,
   "id": "9b8d33a4",
   "metadata": {
    "execution": {
     "iopub.execute_input": "2022-02-19T05:30:33.961070Z",
     "iopub.status.busy": "2022-02-19T05:30:33.960565Z",
     "iopub.status.idle": "2022-02-19T05:30:36.606975Z",
     "shell.execute_reply": "2022-02-19T05:30:36.607501Z",
     "shell.execute_reply.started": "2022-02-19T05:19:08.444689Z"
    },
    "papermill": {
     "duration": 2.677354,
     "end_time": "2022-02-19T05:30:36.607687",
     "exception": false,
     "start_time": "2022-02-19T05:30:33.930333",
     "status": "completed"
    },
    "tags": []
   },
   "outputs": [
    {
     "name": "stdout",
     "output_type": "stream",
     "text": [
      "399\n",
      "Recommendations for Star Wars: Episode V - The Empire Strikes Back (1980):\n",
      "\n",
      "1: Star Wars: Episode IV - A New Hope (1977), with distance of 0.20741613801828163:\n",
      "2: Star Wars: Episode VI - Return of the Jedi (1983), with distance of 0.2156239425493356:\n",
      "3: Raiders of the Lost Ark (Indiana Jones and the Raiders of the Lost Ark) (1981), with distance of 0.266592703428847:\n",
      "4: Indiana Jones and the Last Crusade (1989), with distance of 0.3287503456378781:\n",
      "5: Terminator, The (1984), with distance of 0.32956188888246263:\n"
     ]
    }
   ],
   "source": [
    "recommendedMovie(movieRating_feature,'Star Wars: Episode V - The Empire Strikes Back (1980)')"
   ]
  }
 ],
 "metadata": {
  "kernelspec": {
   "display_name": "Python 3",
   "language": "python",
   "name": "python3"
  },
  "language_info": {
   "codemirror_mode": {
    "name": "ipython",
    "version": 3
   },
   "file_extension": ".py",
   "mimetype": "text/x-python",
   "name": "python",
   "nbconvert_exporter": "python",
   "pygments_lexer": "ipython3",
   "version": "3.7.16"
  },
  "papermill": {
   "default_parameters": {},
   "duration": 90.813177,
   "end_time": "2022-02-19T05:30:39.609592",
   "environment_variables": {},
   "exception": null,
   "input_path": "__notebook__.ipynb",
   "output_path": "__notebook__.ipynb",
   "parameters": {},
   "start_time": "2022-02-19T05:29:08.796415",
   "version": "2.3.3"
  }
 },
 "nbformat": 4,
 "nbformat_minor": 5
}
