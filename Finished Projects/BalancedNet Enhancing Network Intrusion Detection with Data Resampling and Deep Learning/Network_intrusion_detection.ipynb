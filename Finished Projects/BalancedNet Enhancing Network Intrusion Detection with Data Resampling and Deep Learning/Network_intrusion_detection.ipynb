{
 "cells": [
  {
   "cell_type": "code",
   "execution_count": 1,
   "metadata": {},
   "outputs": [],
   "source": [
    "import numpy as np\n",
    "import pandas as pd\n",
    "from minepy import MINE\n",
    "from sklearn.preprocessing import LabelEncoder, StandardScaler\n",
    "from sklearn.preprocessing import MinMaxScaler\n",
    "from sklearn.preprocessing import OneHotEncoder, StandardScaler, LabelEncoder\n",
    "from sklearn.model_selection import train_test_split\n",
    "from scipy.io import arff\n",
    "from imblearn.over_sampling import ADASYN\n",
    "from imblearn.under_sampling import TomekLinks\n",
    "from scipy.io import arff\n",
    "from imblearn.over_sampling import ADASYN\n",
    "from imblearn.under_sampling import TomekLinks\n",
    "from imblearn.pipeline import Pipeline\n",
    "import fileinput\n",
    "import warnings\n",
    "warnings.filterwarnings('ignore')\n",
    "import os\n",
    "from sklearn.metrics import accuracy_score, precision_score, recall_score, f1_score, roc_auc_score, confusion_matrix\n",
    "import tensorflow as tf\n",
    "from tensorflow.keras.models import Sequential\n",
    "from tensorflow.keras.layers import Dense, Conv1D, MaxPooling1D, Flatten, LSTM, Bidirectional\n",
    "import seaborn as sns\n",
    "import matplotlib.pyplot as plt"
   ]
  },
  {
   "cell_type": "code",
   "execution_count": 2,
   "metadata": {},
   "outputs": [
    {
     "data": {
      "text/html": [
       "<div>\n",
       "<style scoped>\n",
       "    .dataframe tbody tr th:only-of-type {\n",
       "        vertical-align: middle;\n",
       "    }\n",
       "\n",
       "    .dataframe tbody tr th {\n",
       "        vertical-align: top;\n",
       "    }\n",
       "\n",
       "    .dataframe thead th {\n",
       "        text-align: right;\n",
       "    }\n",
       "</style>\n",
       "<table border=\"1\" class=\"dataframe\">\n",
       "  <thead>\n",
       "    <tr style=\"text-align: right;\">\n",
       "      <th></th>\n",
       "      <th>duration</th>\n",
       "      <th>protocol_type</th>\n",
       "      <th>service</th>\n",
       "      <th>flag</th>\n",
       "      <th>src_bytes</th>\n",
       "      <th>dst_bytes</th>\n",
       "      <th>land</th>\n",
       "      <th>wrong_fragment</th>\n",
       "      <th>urgent</th>\n",
       "      <th>hot</th>\n",
       "      <th>...</th>\n",
       "      <th>dst_host_same_srv_rate</th>\n",
       "      <th>dst_host_diff_srv_rate</th>\n",
       "      <th>dst_host_same_src_port_rate</th>\n",
       "      <th>dst_host_srv_diff_host_rate</th>\n",
       "      <th>dst_host_serror_rate</th>\n",
       "      <th>dst_host_srv_serror_rate</th>\n",
       "      <th>dst_host_rerror_rate</th>\n",
       "      <th>dst_host_srv_rerror_rate</th>\n",
       "      <th>attack</th>\n",
       "      <th>level</th>\n",
       "    </tr>\n",
       "  </thead>\n",
       "  <tbody>\n",
       "    <tr>\n",
       "      <th>0</th>\n",
       "      <td>0</td>\n",
       "      <td>tcp</td>\n",
       "      <td>ftp_data</td>\n",
       "      <td>SF</td>\n",
       "      <td>491</td>\n",
       "      <td>0</td>\n",
       "      <td>0</td>\n",
       "      <td>0</td>\n",
       "      <td>0</td>\n",
       "      <td>0</td>\n",
       "      <td>...</td>\n",
       "      <td>0.17</td>\n",
       "      <td>0.03</td>\n",
       "      <td>0.17</td>\n",
       "      <td>0.00</td>\n",
       "      <td>0.00</td>\n",
       "      <td>0.00</td>\n",
       "      <td>0.05</td>\n",
       "      <td>0.00</td>\n",
       "      <td>normal</td>\n",
       "      <td>20</td>\n",
       "    </tr>\n",
       "    <tr>\n",
       "      <th>1</th>\n",
       "      <td>0</td>\n",
       "      <td>udp</td>\n",
       "      <td>other</td>\n",
       "      <td>SF</td>\n",
       "      <td>146</td>\n",
       "      <td>0</td>\n",
       "      <td>0</td>\n",
       "      <td>0</td>\n",
       "      <td>0</td>\n",
       "      <td>0</td>\n",
       "      <td>...</td>\n",
       "      <td>0.00</td>\n",
       "      <td>0.60</td>\n",
       "      <td>0.88</td>\n",
       "      <td>0.00</td>\n",
       "      <td>0.00</td>\n",
       "      <td>0.00</td>\n",
       "      <td>0.00</td>\n",
       "      <td>0.00</td>\n",
       "      <td>normal</td>\n",
       "      <td>15</td>\n",
       "    </tr>\n",
       "    <tr>\n",
       "      <th>2</th>\n",
       "      <td>0</td>\n",
       "      <td>tcp</td>\n",
       "      <td>private</td>\n",
       "      <td>S0</td>\n",
       "      <td>0</td>\n",
       "      <td>0</td>\n",
       "      <td>0</td>\n",
       "      <td>0</td>\n",
       "      <td>0</td>\n",
       "      <td>0</td>\n",
       "      <td>...</td>\n",
       "      <td>0.10</td>\n",
       "      <td>0.05</td>\n",
       "      <td>0.00</td>\n",
       "      <td>0.00</td>\n",
       "      <td>1.00</td>\n",
       "      <td>1.00</td>\n",
       "      <td>0.00</td>\n",
       "      <td>0.00</td>\n",
       "      <td>neptune</td>\n",
       "      <td>19</td>\n",
       "    </tr>\n",
       "    <tr>\n",
       "      <th>3</th>\n",
       "      <td>0</td>\n",
       "      <td>tcp</td>\n",
       "      <td>http</td>\n",
       "      <td>SF</td>\n",
       "      <td>232</td>\n",
       "      <td>8153</td>\n",
       "      <td>0</td>\n",
       "      <td>0</td>\n",
       "      <td>0</td>\n",
       "      <td>0</td>\n",
       "      <td>...</td>\n",
       "      <td>1.00</td>\n",
       "      <td>0.00</td>\n",
       "      <td>0.03</td>\n",
       "      <td>0.04</td>\n",
       "      <td>0.03</td>\n",
       "      <td>0.01</td>\n",
       "      <td>0.00</td>\n",
       "      <td>0.01</td>\n",
       "      <td>normal</td>\n",
       "      <td>21</td>\n",
       "    </tr>\n",
       "    <tr>\n",
       "      <th>4</th>\n",
       "      <td>0</td>\n",
       "      <td>tcp</td>\n",
       "      <td>http</td>\n",
       "      <td>SF</td>\n",
       "      <td>199</td>\n",
       "      <td>420</td>\n",
       "      <td>0</td>\n",
       "      <td>0</td>\n",
       "      <td>0</td>\n",
       "      <td>0</td>\n",
       "      <td>...</td>\n",
       "      <td>1.00</td>\n",
       "      <td>0.00</td>\n",
       "      <td>0.00</td>\n",
       "      <td>0.00</td>\n",
       "      <td>0.00</td>\n",
       "      <td>0.00</td>\n",
       "      <td>0.00</td>\n",
       "      <td>0.00</td>\n",
       "      <td>normal</td>\n",
       "      <td>21</td>\n",
       "    </tr>\n",
       "  </tbody>\n",
       "</table>\n",
       "<p>5 rows × 43 columns</p>\n",
       "</div>"
      ],
      "text/plain": [
       "   duration protocol_type   service flag  src_bytes  dst_bytes  land  \\\n",
       "0         0           tcp  ftp_data   SF        491          0     0   \n",
       "1         0           udp     other   SF        146          0     0   \n",
       "2         0           tcp   private   S0          0          0     0   \n",
       "3         0           tcp      http   SF        232       8153     0   \n",
       "4         0           tcp      http   SF        199        420     0   \n",
       "\n",
       "   wrong_fragment  urgent  hot  ...  dst_host_same_srv_rate  \\\n",
       "0               0       0    0  ...                    0.17   \n",
       "1               0       0    0  ...                    0.00   \n",
       "2               0       0    0  ...                    0.10   \n",
       "3               0       0    0  ...                    1.00   \n",
       "4               0       0    0  ...                    1.00   \n",
       "\n",
       "   dst_host_diff_srv_rate  dst_host_same_src_port_rate  \\\n",
       "0                    0.03                         0.17   \n",
       "1                    0.60                         0.88   \n",
       "2                    0.05                         0.00   \n",
       "3                    0.00                         0.03   \n",
       "4                    0.00                         0.00   \n",
       "\n",
       "   dst_host_srv_diff_host_rate  dst_host_serror_rate  \\\n",
       "0                         0.00                  0.00   \n",
       "1                         0.00                  0.00   \n",
       "2                         0.00                  1.00   \n",
       "3                         0.04                  0.03   \n",
       "4                         0.00                  0.00   \n",
       "\n",
       "   dst_host_srv_serror_rate  dst_host_rerror_rate  dst_host_srv_rerror_rate  \\\n",
       "0                      0.00                  0.05                      0.00   \n",
       "1                      0.00                  0.00                      0.00   \n",
       "2                      1.00                  0.00                      0.00   \n",
       "3                      0.01                  0.00                      0.01   \n",
       "4                      0.00                  0.00                      0.00   \n",
       "\n",
       "    attack  level  \n",
       "0   normal     20  \n",
       "1   normal     15  \n",
       "2  neptune     19  \n",
       "3   normal     21  \n",
       "4   normal     21  \n",
       "\n",
       "[5 rows x 43 columns]"
      ]
     },
     "execution_count": 2,
     "metadata": {},
     "output_type": "execute_result"
    }
   ],
   "source": [
    "columns = (['duration'\n",
    ",'protocol_type'\n",
    ",'service'\n",
    ",'flag'\n",
    ",'src_bytes'\n",
    ",'dst_bytes'\n",
    ",'land'\n",
    ",'wrong_fragment'\n",
    ",'urgent'\n",
    ",'hot'\n",
    ",'num_failed_logins'\n",
    ",'logged_in'\n",
    ",'num_compromised'\n",
    ",'root_shell'\n",
    ",'su_attempted'\n",
    ",'num_root'\n",
    ",'num_file_creations'\n",
    ",'num_shells'\n",
    ",'num_access_files'\n",
    ",'num_outbound_cmds'\n",
    ",'is_host_login'\n",
    ",'is_guest_login'\n",
    ",'count'\n",
    ",'srv_count'\n",
    ",'serror_rate'\n",
    ",'srv_serror_rate'\n",
    ",'rerror_rate'\n",
    ",'srv_rerror_rate'\n",
    ",'same_srv_rate'\n",
    ",'diff_srv_rate'\n",
    ",'srv_diff_host_rate'\n",
    ",'dst_host_count'\n",
    ",'dst_host_srv_count'\n",
    ",'dst_host_same_srv_rate'\n",
    ",'dst_host_diff_srv_rate'\n",
    ",'dst_host_same_src_port_rate'\n",
    ",'dst_host_srv_diff_host_rate'\n",
    ",'dst_host_serror_rate'\n",
    ",'dst_host_srv_serror_rate'\n",
    ",'dst_host_rerror_rate'\n",
    ",'dst_host_srv_rerror_rate'\n",
    ",'attack'\n",
    ",'level'])\n",
    "\n",
    "train_df = pd.read_csv(\"dataset/KDDTrain+.txt\", header=None, names=columns)\n",
    "test_df = pd.read_csv(\"dataset/KDDTest+.txt\", header=None, names=columns)\n",
    "df = pd.concat([train_df, test_df])\n",
    "df.head()"
   ]
  },
  {
   "cell_type": "code",
   "execution_count": 3,
   "metadata": {},
   "outputs": [
    {
     "name": "stdout",
     "output_type": "stream",
     "text": [
      "Shape of DF: (148517, 43)\n"
     ]
    }
   ],
   "source": [
    "#Shape of dataset\n",
    "print(\"Shape of DF:\",df.shape)"
   ]
  },
  {
   "cell_type": "code",
   "execution_count": 4,
   "metadata": {},
   "outputs": [
    {
     "data": {
      "text/plain": [
       "attack\n",
       "normal             77054\n",
       "neptune            45871\n",
       "satan               4368\n",
       "ipsweep             3740\n",
       "smurf               3311\n",
       "portsweep           3088\n",
       "nmap                1566\n",
       "back                1315\n",
       "guess_passwd        1284\n",
       "mscan                996\n",
       "warezmaster          964\n",
       "teardrop             904\n",
       "warezclient          890\n",
       "apache2              737\n",
       "processtable         685\n",
       "snmpguess            331\n",
       "saint                319\n",
       "mailbomb             293\n",
       "pod                  242\n",
       "snmpgetattack        178\n",
       "httptunnel           133\n",
       "buffer_overflow       50\n",
       "land                  25\n",
       "multihop              25\n",
       "rootkit               23\n",
       "named                 17\n",
       "ps                    15\n",
       "sendmail              14\n",
       "xterm                 13\n",
       "imap                  12\n",
       "loadmodule            11\n",
       "ftp_write             11\n",
       "xlock                  9\n",
       "phf                    6\n",
       "perl                   5\n",
       "xsnoop                 4\n",
       "spy                    2\n",
       "worm                   2\n",
       "sqlattack              2\n",
       "udpstorm               2\n",
       "Name: count, dtype: int64"
      ]
     },
     "execution_count": 4,
     "metadata": {},
     "output_type": "execute_result"
    }
   ],
   "source": [
    "df['attack'].value_counts()"
   ]
  },
  {
   "cell_type": "code",
   "execution_count": 5,
   "metadata": {},
   "outputs": [
    {
     "name": "stdout",
     "output_type": "stream",
     "text": [
      "Sum of null values in DF: 0\n"
     ]
    }
   ],
   "source": [
    "#Checking for null values/missing values\n",
    "print(\"Sum of null values in DF:\",df.isna().sum().sum())"
   ]
  },
  {
   "cell_type": "code",
   "execution_count": 6,
   "metadata": {},
   "outputs": [
    {
     "name": "stdout",
     "output_type": "stream",
     "text": [
      "(148517, 43)\n",
      "(147907, 43)\n"
     ]
    }
   ],
   "source": [
    "#Remove duplicates\n",
    "print(df.shape)\n",
    "df = df.drop_duplicates()\n",
    "print(df.shape)"
   ]
  },
  {
   "cell_type": "code",
   "execution_count": 7,
   "metadata": {},
   "outputs": [
    {
     "data": {
      "text/plain": [
       "count     125973\n",
       "unique        23\n",
       "top       normal\n",
       "freq       67343\n",
       "Name: attack, dtype: object"
      ]
     },
     "execution_count": 7,
     "metadata": {},
     "output_type": "execute_result"
    }
   ],
   "source": [
    "train_df['attack'].describe()"
   ]
  },
  {
   "cell_type": "code",
   "execution_count": 8,
   "metadata": {},
   "outputs": [],
   "source": [
    "# #Variables Balance\n",
    "# attack_categories = {\n",
    "#     'normal': 'normal',\n",
    "#     'neptune': 'DoS',\n",
    "#     'back': 'DoS',\n",
    "#     'land': 'DoS',\n",
    "#     'pod': 'DoS',\n",
    "#     'smurf': 'DoS',\n",
    "#     'teardrop': 'DoS',\n",
    "#     'mailbomb': 'DoS',\n",
    "#     'apache2': 'DoS',\n",
    "#     'processtable': 'DoS',\n",
    "#     'udpstorm': 'DoS',\n",
    "#     'worm': 'DoS',\n",
    "#     'buffer_overflow': 'U2R',\n",
    "#     'loadmodule': 'U2R',\n",
    "#     'perl': 'U2R',\n",
    "#     'rootkit': 'U2R',\n",
    "#     'ps': 'U2R',\n",
    "#     'sqlattack': 'U2R',\n",
    "#     'xterm': 'U2R',\n",
    "#     'ftp_write': 'R2L',\n",
    "#     'guess_passwd': 'R2L',\n",
    "#     'imap': 'R2L',\n",
    "#     'multihop': 'R2L',\n",
    "#     'phf': 'R2L',\n",
    "#     'spy': 'R2L',\n",
    "#     'warezclient': 'R2L',\n",
    "#     'warezmaster': 'R2L',\n",
    "#     'sendmail': 'R2L',\n",
    "#     'named': 'R2L',\n",
    "#     'snmpgetattack': 'R2L',\n",
    "#     'snmpguess': 'R2L',\n",
    "#     'xlock': 'R2L',\n",
    "#     'xsnoop': 'R2L',\n",
    "#     'httptunnel': 'R2L',\n",
    "#     'ipsweep': 'Probe',\n",
    "#     'nmap': 'Probe',\n",
    "#     'portsweep': 'Probe',\n",
    "#     'satan': 'Probe',\n",
    "#     'mscan': 'Probe',\n",
    "#     'saint': 'Probe'\n",
    "# }\n",
    "\n",
    "# df['attack'] = df['attack'].map(attack_categories)\n",
    "\n",
    "attack = df.attack.map(lambda a: 0 if a == 'normal' else 1)\n",
    "\n",
    "df['attack'] = attack"
   ]
  },
  {
   "cell_type": "code",
   "execution_count": 9,
   "metadata": {},
   "outputs": [
    {
     "data": {
      "text/plain": [
       "Index(['protocol_type', 'service', 'flag'], dtype='object')"
      ]
     },
     "execution_count": 9,
     "metadata": {},
     "output_type": "execute_result"
    }
   ],
   "source": [
    "catData = df.select_dtypes(['object']).columns\n",
    "catData"
   ]
  },
  {
   "cell_type": "code",
   "execution_count": 10,
   "metadata": {},
   "outputs": [
    {
     "name": "stdout",
     "output_type": "stream",
     "text": [
      "Column: protocol_type\n",
      "Encoded labels: ['icmp' 'tcp' 'udp']\n",
      "Encoding mapping: {'icmp': 0, 'tcp': 1, 'udp': 2}\n",
      "\n",
      "Column: service\n",
      "Encoded labels: ['IRC' 'X11' 'Z39_50' 'aol' 'auth' 'bgp' 'courier' 'csnet_ns' 'ctf'\n",
      " 'daytime' 'discard' 'domain' 'domain_u' 'echo' 'eco_i' 'ecr_i' 'efs'\n",
      " 'exec' 'finger' 'ftp' 'ftp_data' 'gopher' 'harvest' 'hostnames' 'http'\n",
      " 'http_2784' 'http_443' 'http_8001' 'imap4' 'iso_tsap' 'klogin' 'kshell'\n",
      " 'ldap' 'link' 'login' 'mtp' 'name' 'netbios_dgm' 'netbios_ns'\n",
      " 'netbios_ssn' 'netstat' 'nnsp' 'nntp' 'ntp_u' 'other' 'pm_dump' 'pop_2'\n",
      " 'pop_3' 'printer' 'private' 'red_i' 'remote_job' 'rje' 'shell' 'smtp'\n",
      " 'sql_net' 'ssh' 'sunrpc' 'supdup' 'systat' 'telnet' 'tftp_u' 'tim_i'\n",
      " 'time' 'urh_i' 'urp_i' 'uucp' 'uucp_path' 'vmnet' 'whois']\n",
      "Encoding mapping: {'IRC': 0, 'X11': 1, 'Z39_50': 2, 'aol': 3, 'auth': 4, 'bgp': 5, 'courier': 6, 'csnet_ns': 7, 'ctf': 8, 'daytime': 9, 'discard': 10, 'domain': 11, 'domain_u': 12, 'echo': 13, 'eco_i': 14, 'ecr_i': 15, 'efs': 16, 'exec': 17, 'finger': 18, 'ftp': 19, 'ftp_data': 20, 'gopher': 21, 'harvest': 22, 'hostnames': 23, 'http': 24, 'http_2784': 25, 'http_443': 26, 'http_8001': 27, 'imap4': 28, 'iso_tsap': 29, 'klogin': 30, 'kshell': 31, 'ldap': 32, 'link': 33, 'login': 34, 'mtp': 35, 'name': 36, 'netbios_dgm': 37, 'netbios_ns': 38, 'netbios_ssn': 39, 'netstat': 40, 'nnsp': 41, 'nntp': 42, 'ntp_u': 43, 'other': 44, 'pm_dump': 45, 'pop_2': 46, 'pop_3': 47, 'printer': 48, 'private': 49, 'red_i': 50, 'remote_job': 51, 'rje': 52, 'shell': 53, 'smtp': 54, 'sql_net': 55, 'ssh': 56, 'sunrpc': 57, 'supdup': 58, 'systat': 59, 'telnet': 60, 'tftp_u': 61, 'tim_i': 62, 'time': 63, 'urh_i': 64, 'urp_i': 65, 'uucp': 66, 'uucp_path': 67, 'vmnet': 68, 'whois': 69}\n",
      "\n",
      "Column: flag\n",
      "Encoded labels: ['OTH' 'REJ' 'RSTO' 'RSTOS0' 'RSTR' 'S0' 'S1' 'S2' 'S3' 'SF' 'SH']\n",
      "Encoding mapping: {'OTH': 0, 'REJ': 1, 'RSTO': 2, 'RSTOS0': 3, 'RSTR': 4, 'S0': 5, 'S1': 6, 'S2': 7, 'S3': 8, 'SF': 9, 'SH': 10}\n",
      "\n"
     ]
    }
   ],
   "source": [
    "# Initialize LabelEncoder \n",
    "label_encoders = {}\n",
    "for col in catData:\n",
    "    # Initialize LabelEncoder for each column\n",
    "    label_encoders[col] = LabelEncoder()\n",
    "    \n",
    "    # Fit and transform the column\n",
    "    df[col] = label_encoders[col].fit_transform(df[col])\n",
    "    \n",
    "    # Get the label encoding data\n",
    "    print(f\"Column: {col}\")\n",
    "    print(f\"Encoded labels: {label_encoders[col].classes_}\")\n",
    "    print(f\"Encoding mapping: {dict(zip(label_encoders[col].classes_, range(len(label_encoders[col].classes_))))}\")\n",
    "    print()\n",
    "\n"
   ]
  },
  {
   "cell_type": "code",
   "execution_count": 11,
   "metadata": {},
   "outputs": [],
   "source": [
    "# Initialize ADASYN for oversampling\n",
    "adasyn = ADASYN()\n",
    "# Initialize TomekLinks for undersampling\n",
    "tomek_links = TomekLinks()"
   ]
  },
  {
   "cell_type": "code",
   "execution_count": 12,
   "metadata": {},
   "outputs": [],
   "source": [
    "X = df.drop(columns=['attack'])  # Takking 'attack' as target variable\n",
    "y = df['attack'] "
   ]
  },
  {
   "cell_type": "code",
   "execution_count": 13,
   "metadata": {},
   "outputs": [
    {
     "name": "stdout",
     "output_type": "stream",
     "text": [
      "Intial Y value count: attack\n",
      "0    76967\n",
      "1    70940\n",
      "Name: count, dtype: int64\n"
     ]
    }
   ],
   "source": [
    "print(\"Intial Y value count:\",y.value_counts())"
   ]
  },
  {
   "cell_type": "code",
   "execution_count": 14,
   "metadata": {},
   "outputs": [
    {
     "name": "stderr",
     "output_type": "stream",
     "text": [
      "  File \"c:\\Users\\ankit\\miniconda3\\envs\\myenv\\lib\\site-packages\\joblib\\externals\\loky\\backend\\context.py\", line 257, in _count_physical_cores\n",
      "    cpu_info = subprocess.run(\n",
      "  File \"c:\\Users\\ankit\\miniconda3\\envs\\myenv\\lib\\subprocess.py\", line 505, in run\n",
      "    with Popen(*popenargs, **kwargs) as process:\n",
      "  File \"c:\\Users\\ankit\\miniconda3\\envs\\myenv\\lib\\subprocess.py\", line 951, in __init__\n",
      "    self._execute_child(args, executable, preexec_fn, close_fds,\n",
      "  File \"c:\\Users\\ankit\\miniconda3\\envs\\myenv\\lib\\subprocess.py\", line 1436, in _execute_child\n",
      "    hp, ht, pid, tid = _winapi.CreateProcess(executable, args,\n"
     ]
    }
   ],
   "source": [
    "# Oversample the DataFrame\n",
    "X_resampled, y_resampled = adasyn.fit_resample(X, y) "
   ]
  },
  {
   "cell_type": "code",
   "execution_count": 15,
   "metadata": {},
   "outputs": [
    {
     "data": {
      "text/plain": [
       "attack\n",
       "0    76967\n",
       "1    76955\n",
       "Name: count, dtype: int64"
      ]
     },
     "execution_count": 15,
     "metadata": {},
     "output_type": "execute_result"
    }
   ],
   "source": [
    "y_resampled.value_counts()"
   ]
  },
  {
   "cell_type": "code",
   "execution_count": 16,
   "metadata": {},
   "outputs": [
    {
     "data": {
      "text/plain": [
       "0        0\n",
       "1        0\n",
       "2        1\n",
       "3        0\n",
       "4        0\n",
       "        ..\n",
       "22537    1\n",
       "22539    0\n",
       "22540    0\n",
       "22541    1\n",
       "22543    1\n",
       "Name: attack, Length: 147907, dtype: int64"
      ]
     },
     "execution_count": 16,
     "metadata": {},
     "output_type": "execute_result"
    }
   ],
   "source": [
    "y"
   ]
  },
  {
   "cell_type": "code",
   "execution_count": 17,
   "metadata": {},
   "outputs": [],
   "source": [
    "# 1. MIC Feature Selection\n",
    "\n",
    "def calculate_mic(X, y):\n",
    "    mine = MINE()\n",
    "    mic_scores = []\n",
    "    for column in X.columns:\n",
    "        mine.compute_score(X[column], y)\n",
    "        mic_scores.append(mine.mic())\n",
    "    return mic_scores"
   ]
  },
  {
   "cell_type": "code",
   "execution_count": 18,
   "metadata": {},
   "outputs": [],
   "source": [
    "# Calculate MIC scores\n",
    "mic_scores = calculate_mic(X_resampled, y_resampled)"
   ]
  },
  {
   "cell_type": "code",
   "execution_count": 19,
   "metadata": {},
   "outputs": [],
   "source": [
    "kernal_evals = dict()\n",
    "def evaluate_classification(model, name, X_train, X_test, y_train, y_test):\n",
    "    train_accuracy = metrics.accuracy_score(y_train, model.predict(X_train))\n",
    "    test_accuracy = metrics.accuracy_score(y_test, model.predict(X_test))\n",
    "    \n",
    "    train_precision = metrics.precision_score(y_train, model.predict(X_train))\n",
    "    test_precision = metrics.precision_score(y_test, model.predict(X_test))\n",
    "    \n",
    "    train_recall = metrics.recall_score(y_train, model.predict(X_train))\n",
    "    test_recall = metrics.recall_score(y_test, model.predict(X_test))\n",
    "    \n",
    "    kernal_evals[str(name)] = [train_accuracy, test_accuracy, train_precision, test_precision, train_recall, test_recall]\n",
    "    print(\"Training Accuracy \" + str(name) + \" {}  Test Accuracy \".format(train_accuracy*100) + str(name) + \" {}\".format(test_accuracy*100))\n",
    "    print(\"Training Precesion \" + str(name) + \" {}  Test Precesion \".format(train_precision*100) + str(name) + \" {}\".format(test_precision*100))\n",
    "    print(\"Training Recall \" + str(name) + \" {}  Test Recall \".format(train_recall*100) + str(name) + \" {}\".format(test_recall*100))\n",
    "    \n",
    "    actual = y_test\n",
    "    predicted = model.predict(X_test)\n",
    "    confusion_matrix = metrics.confusion_matrix(actual, predicted)\n",
    "    cm_display = metrics.ConfusionMatrixDisplay(confusion_matrix = confusion_matrix, display_labels = ['normal', 'attack'])\n",
    "\n",
    "    fig, ax = plt.subplots(figsize=(10,10))\n",
    "    ax.grid(False)\n",
    "    cm_display.plot(ax=ax)\n"
   ]
  },
  {
   "cell_type": "code",
   "execution_count": 21,
   "metadata": {},
   "outputs": [
    {
     "name": "stdout",
     "output_type": "stream",
     "text": [
      "                        Feature  MIC Score  Rank\n",
      "4                     src_bytes   0.735555   1.0\n",
      "2                       service   0.601555   2.0\n",
      "5                     dst_bytes   0.578064   3.0\n",
      "3                          flag   0.443519   4.0\n",
      "32           dst_host_srv_count   0.427584   5.0\n",
      "29                diff_srv_rate   0.426152   6.0\n",
      "28                same_srv_rate   0.414640   7.0\n",
      "33       dst_host_same_srv_rate   0.404117   8.0\n",
      "34       dst_host_diff_srv_rate   0.381630   9.0\n",
      "11                    logged_in   0.336309  10.0\n",
      "37         dst_host_serror_rate   0.327300  11.0\n",
      "38     dst_host_srv_serror_rate   0.316199  12.0\n",
      "24                  serror_rate   0.311717  13.0\n",
      "22                        count   0.302264  14.0\n",
      "25              srv_serror_rate   0.297288  15.0\n",
      "36  dst_host_srv_diff_host_rate   0.248233  16.0\n",
      "41                        level   0.240991  17.0\n",
      "35  dst_host_same_src_port_rate   0.195900  18.0\n",
      "31               dst_host_count   0.150086  19.0\n",
      "30           srv_diff_host_rate   0.149911  20.0\n",
      "40     dst_host_srv_rerror_rate   0.104799  21.0\n",
      "39         dst_host_rerror_rate   0.096596  22.0\n",
      "26                  rerror_rate   0.087468  23.0\n",
      "27              srv_rerror_rate   0.079566  24.0\n",
      "23                    srv_count   0.063918  25.0\n",
      "1                 protocol_type   0.055965  26.0\n",
      "0                      duration   0.034713  27.0\n",
      "9                           hot   0.015309  28.0\n",
      "12              num_compromised   0.007696  29.0\n",
      "7                wrong_fragment   0.006046  30.0\n",
      "15                     num_root   0.002956  31.0\n",
      "10            num_failed_logins   0.002274  32.0\n",
      "16           num_file_creations   0.001329  33.0\n",
      "18             num_access_files   0.000492  34.0\n",
      "14                 su_attempted   0.000482  35.0\n",
      "17                   num_shells   0.000406  36.0\n",
      "8                        urgent   0.000333  37.0\n",
      "13                   root_shell   0.000301  38.0\n",
      "20                is_host_login   0.000179  39.0\n",
      "6                          land   0.000100  40.0\n",
      "21               is_guest_login   0.000002  41.0\n",
      "19            num_outbound_cmds   0.000000  42.0\n"
     ]
    }
   ],
   "source": [
    "\n",
    "# Create a DataFrame with MIC scores and rankings\n",
    "mic_df = pd.DataFrame({\n",
    "    'Feature': X_resampled.columns,\n",
    "    'MIC Score': mic_scores\n",
    "})\n",
    "mic_df['Rank'] = mic_df['MIC Score'].rank(ascending=False)\n",
    "mic_df = mic_df.sort_values('Rank')\n",
    "\n",
    "print(mic_df)"
   ]
  },
  {
   "cell_type": "code",
   "execution_count": 22,
   "metadata": {},
   "outputs": [],
   "source": [
    "# Select top features \n",
    "top_features = mic_df['Feature'][:20].tolist()\n",
    "X_selected = X_resampled[top_features]"
   ]
  },
  {
   "cell_type": "code",
   "execution_count": 23,
   "metadata": {},
   "outputs": [],
   "source": [
    "# Split the data\n",
    "X_train, X_test, y_train, y_test = train_test_split(X_selected, y_resampled, test_size=0.2, random_state=42)\n"
   ]
  },
  {
   "cell_type": "code",
   "execution_count": 24,
   "metadata": {},
   "outputs": [],
   "source": [
    "# Scale the features\n",
    "scaler = StandardScaler()\n",
    "X_train_scaled = scaler.fit_transform(X_train)\n",
    "X_test_scaled = scaler.transform(X_test)\n",
    "\n",
    "# Reshape data for CNN and RNN\n",
    "X_train_cnn = X_train_scaled.reshape((X_train_scaled.shape[0], X_train_scaled.shape[1], 1))\n",
    "X_test_cnn = X_test_scaled.reshape((X_test_scaled.shape[0], X_test_scaled.shape[1], 1))\n"
   ]
  },
  {
   "cell_type": "code",
   "execution_count": 25,
   "metadata": {},
   "outputs": [
    {
     "name": "stdout",
     "output_type": "stream",
     "text": [
      "True\n",
      "WARNING:tensorflow:From C:\\Users\\ankit\\AppData\\Local\\Temp\\ipykernel_14408\\2095668962.py:3: is_gpu_available (from tensorflow.python.framework.test_util) is deprecated and will be removed in a future version.\n",
      "Instructions for updating:\n",
      "Use `tf.config.list_physical_devices('GPU')` instead.\n",
      "True\n"
     ]
    }
   ],
   "source": [
    "import tensorflow as tf\n",
    "print(tf.test.is_built_with_cuda())\n",
    "print(tf.test.is_gpu_available())"
   ]
  },
  {
   "cell_type": "code",
   "execution_count": 26,
   "metadata": {},
   "outputs": [
    {
     "data": {
      "text/plain": [
       "[PhysicalDevice(name='/physical_device:GPU:0', device_type='GPU')]"
      ]
     },
     "execution_count": 26,
     "metadata": {},
     "output_type": "execute_result"
    }
   ],
   "source": [
    "tf.config.list_physical_devices('GPU')"
   ]
  },
  {
   "cell_type": "code",
   "execution_count": 27,
   "metadata": {},
   "outputs": [],
   "source": [
    "\n",
    "# Function to create and train models\n",
    "def create_and_train_model(model_func, X_train, y_train, model_name):\n",
    "    with tf.device('/GPU:0'):\n",
    "        model = model_func(X_train.shape[1])\n",
    "        history = model.fit(\n",
    "            X_train, y_train, \n",
    "            epochs=5, \n",
    "            batch_size=32, \n",
    "            validation_split=0.2,\n",
    "            verbose=1\n",
    "        )\n",
    "    print(f\"{model_name} training completed.\")\n",
    "    return model, history"
   ]
  },
  {
   "cell_type": "code",
   "execution_count": 28,
   "metadata": {},
   "outputs": [
    {
     "name": "stdout",
     "output_type": "stream",
     "text": [
      "Epoch 1/5\n",
      "3079/3079 [==============================] - 10s 3ms/step - loss: 0.0437 - accuracy: 0.9858 - val_loss: 0.0275 - val_accuracy: 0.9909\n",
      "Epoch 2/5\n",
      "3079/3079 [==============================] - 9s 3ms/step - loss: 0.0211 - accuracy: 0.9924 - val_loss: 0.0186 - val_accuracy: 0.9937\n",
      "Epoch 3/5\n",
      "3079/3079 [==============================] - 10s 3ms/step - loss: 0.0179 - accuracy: 0.9937 - val_loss: 0.0181 - val_accuracy: 0.9936\n",
      "Epoch 4/5\n",
      "3079/3079 [==============================] - 10s 3ms/step - loss: 0.0161 - accuracy: 0.9943 - val_loss: 0.0185 - val_accuracy: 0.9939\n",
      "Epoch 5/5\n",
      "3079/3079 [==============================] - 10s 3ms/step - loss: 0.0146 - accuracy: 0.9947 - val_loss: 0.0138 - val_accuracy: 0.9952\n",
      "MLP training completed.\n"
     ]
    }
   ],
   "source": [
    "# 1. Multi-layer Perceptron (MLP)\n",
    "def create_mlp_model(input_shape):\n",
    "    model = Sequential([\n",
    "        Dense(64, activation='relu', input_shape=(input_shape,)),\n",
    "        Dense(32, activation='relu'),\n",
    "        Dense(16, activation='relu'),\n",
    "        Dense(1, activation='sigmoid')\n",
    "    ])\n",
    "    model.compile(optimizer='adam', loss='binary_crossentropy', metrics=['accuracy'])\n",
    "    return model\n",
    "\n",
    "mlp_model, mlp_history = create_and_train_model(create_mlp_model, X_train_scaled, y_train, \"MLP\")\n"
   ]
  },
  {
   "cell_type": "code",
   "execution_count": 29,
   "metadata": {},
   "outputs": [
    {
     "name": "stdout",
     "output_type": "stream",
     "text": [
      "MLP - Test accuracy: 0.9952\n"
     ]
    }
   ],
   "source": [
    "# Evaluate models\n",
    "def evaluate_model(model, X_test, y_test, model_name):\n",
    "    with tf.device('/GPU:0'):\n",
    "        loss, accuracy = model.evaluate(X_test, y_test, verbose=0)\n",
    "    print(f\"{model_name} - Test accuracy: {accuracy:.4f}\")\n",
    "\n",
    "evaluate_model(mlp_model, X_test_scaled, y_test, \"MLP\")"
   ]
  },
  {
   "cell_type": "code",
   "execution_count": 30,
   "metadata": {},
   "outputs": [
    {
     "name": "stdout",
     "output_type": "stream",
     "text": [
      "Model: \"sequential\"\n",
      "_________________________________________________________________\n",
      " Layer (type)                Output Shape              Param #   \n",
      "=================================================================\n",
      " dense (Dense)               (None, 64)                1344      \n",
      "                                                                 \n",
      " dense_1 (Dense)             (None, 32)                2080      \n",
      "                                                                 \n",
      " dense_2 (Dense)             (None, 16)                528       \n",
      "                                                                 \n",
      " dense_3 (Dense)             (None, 1)                 17        \n",
      "                                                                 \n",
      "=================================================================\n",
      "Total params: 3,969\n",
      "Trainable params: 3,969\n",
      "Non-trainable params: 0\n",
      "_________________________________________________________________\n"
     ]
    }
   ],
   "source": [
    "mlp_model.summary()"
   ]
  },
  {
   "cell_type": "code",
   "execution_count": null,
   "metadata": {},
   "outputs": [],
   "source": []
  },
  {
   "cell_type": "code",
   "execution_count": null,
   "metadata": {},
   "outputs": [],
   "source": []
  }
 ],
 "metadata": {
  "kernelspec": {
   "display_name": "Python 3 (ipykernel)",
   "language": "python",
   "name": "python3"
  },
  "language_info": {
   "codemirror_mode": {
    "name": "ipython",
    "version": 3
   },
   "file_extension": ".py",
   "mimetype": "text/x-python",
   "name": "python",
   "nbconvert_exporter": "python",
   "pygments_lexer": "ipython3",
   "version": "3.9.19"
  }
 },
 "nbformat": 4,
 "nbformat_minor": 4
}
