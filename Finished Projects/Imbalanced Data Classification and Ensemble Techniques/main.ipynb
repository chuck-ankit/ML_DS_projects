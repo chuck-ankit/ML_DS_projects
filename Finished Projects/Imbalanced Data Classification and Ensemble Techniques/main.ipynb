{
 "cells": [
  {
   "cell_type": "markdown",
   "metadata": {},
   "source": [
    "# <b>Training Model on the Imputed Data</b>\n",
    "\n",
    "<font size=\"3\"> \n",
    "This notebook focuses on training machine learning models on imputed data obtained from the previous notebook. The main steps include oversampling using SMOTE and ADASYN, implementing various classification algorithms, identifying the best performing models, and then utilizing bagging, boosting, and stacking techniques to improve model performance.\n",
    "</font>"
   ]
  },
  {
   "cell_type": "markdown",
   "metadata": {},
   "source": [
    "## <b> Steps Covered:</b>\n",
    "<ol>\n",
    "<li>Data Preprocessing:\n",
    "    <ul><li>Imputed missing values from the dataset.\n",
    "    </ul>\n",
    "<li>Oversampling:\n",
    "\n",
    "<ul><li>Utilized SMOTE (Synthetic Minority Over-sampling Technique) and ADASYN (Adaptive Synthetic Sampling) to handle class imbalance.</ul>\n",
    "<li>Classification Learning:\n",
    "<ul>\n",
    "<li>Implemented the following classification algorithms:\n",
    "        <li>Logistic Regression\n",
    "        <ul><li>    Support Vector Machine (SVM)\n",
    "        <li>    k-Nearest Neighbors (KNN)\n",
    "        <li>    Decision Tree\n",
    "        <li>    Random Forest   \n",
    "        </ul>\n",
    "        </ul>\n",
    "\n",
    "<li>Model Evaluation:\n",
    "<ul><li>Identified the two best performing models based on evaluation metrics. (Random Forest: Rank 1, Decision Tree: Rank 2)\n",
    "</ul>\n",
    "<li>Bagging and Boosting:\n",
    "\n",
    "<ul><li>Applied bagging and boosting techniques on Random Forest and Decision Tree classifiers.\n",
    "Evaluated the accuracy and precision of the bagged and boosted models.</ul>\n",
    "<li>Stacking:\n",
    "\n",
    "<ul><li>Performed model stacking using the four selected models.\n",
    "<li>Created a final model by combining the predictions from the stacked models."
   ]
  },
  {
   "cell_type": "markdown",
   "metadata": {},
   "source": [
    "<b> Dependencies:</b>\n",
    "<ul>\n",
    "<li>Python 3.x\n",
    "<li>Jupyter Notebook\n",
    "<li>Libraries: scikit-learn, pandas, numpy, etc.\n",
    "</ul>\n",
    "<b> Instructions: </b>\n",
    "<ol>\n",
    "<li>Ensure all necessary libraries are installed.\n",
    "<li>Open and run the notebook Training_Model_on_Imputed_Data.ipynb using Jupyter Notebook.\n",
    "<li>Follow along with each step in the notebook.\n",
    "<li>Refer to the documentation for detailed explanations and insights."
   ]
  },
  {
   "cell_type": "markdown",
   "metadata": {},
   "source": [
    "<b> Importing the Libraries"
   ]
  },
  {
   "cell_type": "code",
   "execution_count": 1,
   "metadata": {},
   "outputs": [],
   "source": [
    "# Importing Libraries\n",
    "\n",
    "import pandas as pd\n",
    "import numpy as np\n",
    "import matplotlib.pyplot as plt\n",
    "import seaborn as sns\n",
    "\n",
    "\n",
    "from sklearn.datasets import make_classification\n",
    "from sklearn.model_selection import train_test_split\n",
    "from sklearn.linear_model import LogisticRegression\n",
    "from sklearn.svm import SVC\n",
    "from sklearn.neighbors import KNeighborsClassifier\n",
    "from sklearn.naive_bayes import GaussianNB\n",
    "from sklearn.tree import DecisionTreeClassifier\n",
    "from sklearn.ensemble import RandomForestClassifier\n",
    "from sklearn.metrics import precision_score, recall_score, f1_score, accuracy_score\n",
    "from imblearn.over_sampling import SMOTE, ADASYN\n",
    "from sklearn.pipeline import make_pipeline\n",
    "from sklearn.preprocessing import StandardScaler\n",
    "\n",
    "from sklearn.ensemble import BaggingClassifier, AdaBoostClassifier\n",
    "from sklearn.metrics import precision_score, recall_score, f1_score, accuracy_score\n",
    "from sklearn.datasets import make_classification\n",
    "from sklearn.model_selection import train_test_split\n",
    "from sklearn.naive_bayes import GaussianNB\n",
    "from sklearn.ensemble import RandomForestClassifier\n"
   ]
  },
  {
   "cell_type": "markdown",
   "metadata": {},
   "source": [
    "<b>Importing the datasets of the imputed encoded data."
   ]
  },
  {
   "cell_type": "code",
   "execution_count": 2,
   "metadata": {},
   "outputs": [
    {
     "data": {
      "text/html": [
       "<div>\n",
       "<style scoped>\n",
       "    .dataframe tbody tr th:only-of-type {\n",
       "        vertical-align: middle;\n",
       "    }\n",
       "\n",
       "    .dataframe tbody tr th {\n",
       "        vertical-align: top;\n",
       "    }\n",
       "\n",
       "    .dataframe thead th {\n",
       "        text-align: right;\n",
       "    }\n",
       "</style>\n",
       "<table border=\"1\" class=\"dataframe\">\n",
       "  <thead>\n",
       "    <tr style=\"text-align: right;\">\n",
       "      <th></th>\n",
       "      <th>Y</th>\n",
       "      <th>X8</th>\n",
       "      <th>X14</th>\n",
       "      <th>X15</th>\n",
       "      <th>X16</th>\n",
       "      <th>X17</th>\n",
       "      <th>X18</th>\n",
       "      <th>X19</th>\n",
       "      <th>X20</th>\n",
       "      <th>X21</th>\n",
       "      <th>...</th>\n",
       "      <th>X6</th>\n",
       "      <th>X7</th>\n",
       "      <th>X9</th>\n",
       "      <th>X10</th>\n",
       "      <th>X11</th>\n",
       "      <th>X12</th>\n",
       "      <th>X13</th>\n",
       "      <th>X90</th>\n",
       "      <th>X99</th>\n",
       "      <th>X110</th>\n",
       "    </tr>\n",
       "  </thead>\n",
       "  <tbody>\n",
       "    <tr>\n",
       "      <th>0</th>\n",
       "      <td>0.0</td>\n",
       "      <td>21800.0</td>\n",
       "      <td>4.697935</td>\n",
       "      <td>6.112189</td>\n",
       "      <td>8.198628</td>\n",
       "      <td>11.820297</td>\n",
       "      <td>1.2</td>\n",
       "      <td>1105.0</td>\n",
       "      <td>89.0</td>\n",
       "      <td>22.0</td>\n",
       "      <td>...</td>\n",
       "      <td>261.0</td>\n",
       "      <td>4334.0</td>\n",
       "      <td>149.0</td>\n",
       "      <td>5749.0</td>\n",
       "      <td>9195.0</td>\n",
       "      <td>0.041259</td>\n",
       "      <td>0.033963</td>\n",
       "      <td>0.000507</td>\n",
       "      <td>0.004985</td>\n",
       "      <td>0.017442</td>\n",
       "    </tr>\n",
       "    <tr>\n",
       "      <th>1</th>\n",
       "      <td>0.0</td>\n",
       "      <td>21620.0</td>\n",
       "      <td>4.673502</td>\n",
       "      <td>6.029752</td>\n",
       "      <td>8.132146</td>\n",
       "      <td>11.792031</td>\n",
       "      <td>1.2</td>\n",
       "      <td>1160.0</td>\n",
       "      <td>88.0</td>\n",
       "      <td>23.0</td>\n",
       "      <td>...</td>\n",
       "      <td>255.0</td>\n",
       "      <td>4341.0</td>\n",
       "      <td>209.0</td>\n",
       "      <td>5738.0</td>\n",
       "      <td>9196.0</td>\n",
       "      <td>0.038728</td>\n",
       "      <td>0.035051</td>\n",
       "      <td>0.000351</td>\n",
       "      <td>0.004985</td>\n",
       "      <td>0.015536</td>\n",
       "    </tr>\n",
       "    <tr>\n",
       "      <th>2</th>\n",
       "      <td>0.0</td>\n",
       "      <td>21910.0</td>\n",
       "      <td>4.566613</td>\n",
       "      <td>5.816809</td>\n",
       "      <td>7.979106</td>\n",
       "      <td>11.747175</td>\n",
       "      <td>1.4</td>\n",
       "      <td>1135.0</td>\n",
       "      <td>73.0</td>\n",
       "      <td>23.0</td>\n",
       "      <td>...</td>\n",
       "      <td>186.0</td>\n",
       "      <td>4325.0</td>\n",
       "      <td>208.0</td>\n",
       "      <td>5744.0</td>\n",
       "      <td>9221.0</td>\n",
       "      <td>0.031911</td>\n",
       "      <td>0.034776</td>\n",
       "      <td>0.000273</td>\n",
       "      <td>0.008664</td>\n",
       "      <td>0.014487</td>\n",
       "    </tr>\n",
       "    <tr>\n",
       "      <th>3</th>\n",
       "      <td>0.0</td>\n",
       "      <td>21560.0</td>\n",
       "      <td>4.652251</td>\n",
       "      <td>5.958843</td>\n",
       "      <td>8.097748</td>\n",
       "      <td>11.801473</td>\n",
       "      <td>1.6</td>\n",
       "      <td>1115.0</td>\n",
       "      <td>66.0</td>\n",
       "      <td>22.0</td>\n",
       "      <td>...</td>\n",
       "      <td>243.0</td>\n",
       "      <td>4335.0</td>\n",
       "      <td>149.0</td>\n",
       "      <td>5745.0</td>\n",
       "      <td>9222.0</td>\n",
       "      <td>0.043007</td>\n",
       "      <td>0.036571</td>\n",
       "      <td>0.000234</td>\n",
       "      <td>0.003264</td>\n",
       "      <td>0.013391</td>\n",
       "    </tr>\n",
       "    <tr>\n",
       "      <th>4</th>\n",
       "      <td>0.0</td>\n",
       "      <td>21510.0</td>\n",
       "      <td>4.596386</td>\n",
       "      <td>5.947676</td>\n",
       "      <td>8.125361</td>\n",
       "      <td>11.797278</td>\n",
       "      <td>1.6</td>\n",
       "      <td>1115.0</td>\n",
       "      <td>65.0</td>\n",
       "      <td>22.0</td>\n",
       "      <td>...</td>\n",
       "      <td>244.0</td>\n",
       "      <td>4330.0</td>\n",
       "      <td>149.0</td>\n",
       "      <td>5739.0</td>\n",
       "      <td>9223.0</td>\n",
       "      <td>0.040466</td>\n",
       "      <td>0.035445</td>\n",
       "      <td>0.000195</td>\n",
       "      <td>0.003264</td>\n",
       "      <td>0.016203</td>\n",
       "    </tr>\n",
       "  </tbody>\n",
       "</table>\n",
       "<p>5 rows × 111 columns</p>\n",
       "</div>"
      ],
      "text/plain": [
       "     Y       X8       X14       X15       X16        X17  X18     X19   X20  \\\n",
       "0  0.0  21800.0  4.697935  6.112189  8.198628  11.820297  1.2  1105.0  89.0   \n",
       "1  0.0  21620.0  4.673502  6.029752  8.132146  11.792031  1.2  1160.0  88.0   \n",
       "2  0.0  21910.0  4.566613  5.816809  7.979106  11.747175  1.4  1135.0  73.0   \n",
       "3  0.0  21560.0  4.652251  5.958843  8.097748  11.801473  1.6  1115.0  66.0   \n",
       "4  0.0  21510.0  4.596386  5.947676  8.125361  11.797278  1.6  1115.0  65.0   \n",
       "\n",
       "    X21  ...     X6      X7     X9     X10     X11       X12       X13  \\\n",
       "0  22.0  ...  261.0  4334.0  149.0  5749.0  9195.0  0.041259  0.033963   \n",
       "1  23.0  ...  255.0  4341.0  209.0  5738.0  9196.0  0.038728  0.035051   \n",
       "2  23.0  ...  186.0  4325.0  208.0  5744.0  9221.0  0.031911  0.034776   \n",
       "3  22.0  ...  243.0  4335.0  149.0  5745.0  9222.0  0.043007  0.036571   \n",
       "4  22.0  ...  244.0  4330.0  149.0  5739.0  9223.0  0.040466  0.035445   \n",
       "\n",
       "        X90       X99      X110  \n",
       "0  0.000507  0.004985  0.017442  \n",
       "1  0.000351  0.004985  0.015536  \n",
       "2  0.000273  0.008664  0.014487  \n",
       "3  0.000234  0.003264  0.013391  \n",
       "4  0.000195  0.003264  0.016203  \n",
       "\n",
       "[5 rows x 111 columns]"
      ]
     },
     "execution_count": 2,
     "metadata": {},
     "output_type": "execute_result"
    }
   ],
   "source": [
    "data = pd.read_csv('imputed_encoded_data.csv')\n",
    "data.head()"
   ]
  },
  {
   "cell_type": "code",
   "execution_count": 3,
   "metadata": {},
   "outputs": [
    {
     "data": {
      "text/plain": [
       "0.0    25384\n",
       "1.0      334\n",
       "Name: Y, dtype: int64"
      ]
     },
     "execution_count": 3,
     "metadata": {},
     "output_type": "execute_result"
    }
   ],
   "source": [
    "data['Y'].value_counts()"
   ]
  },
  {
   "cell_type": "code",
   "execution_count": 4,
   "metadata": {},
   "outputs": [
    {
     "data": {
      "image/png": "[encoded data removed]",
      "text/plain": [
       "<Figure size 640x480 with 1 Axes>"
      ]
     },
     "metadata": {},
     "output_type": "display_data"
    }
   ],
   "source": [
    "data['Y'].value_counts().plot(kind='barh')\n",
    "plt.xlabel(\"Count\")\n",
    "plt.ylabel('Y values')\n",
    "plt.show()"
   ]
  },
  {
   "cell_type": "code",
   "execution_count": 5,
   "metadata": {},
   "outputs": [
    {
     "data": {
      "text/plain": [
       "(25718, 111)"
      ]
     },
     "execution_count": 5,
     "metadata": {},
     "output_type": "execute_result"
    }
   ],
   "source": [
    "data.shape"
   ]
  },
  {
   "cell_type": "code",
   "execution_count": 6,
   "metadata": {},
   "outputs": [
    {
     "data": {
      "text/html": [
       "<div>\n",
       "<style scoped>\n",
       "    .dataframe tbody tr th:only-of-type {\n",
       "        vertical-align: middle;\n",
       "    }\n",
       "\n",
       "    .dataframe tbody tr th {\n",
       "        vertical-align: top;\n",
       "    }\n",
       "\n",
       "    .dataframe thead th {\n",
       "        text-align: right;\n",
       "    }\n",
       "</style>\n",
       "<table border=\"1\" class=\"dataframe\">\n",
       "  <thead>\n",
       "    <tr style=\"text-align: right;\">\n",
       "      <th></th>\n",
       "      <th>Y</th>\n",
       "      <th>X8</th>\n",
       "      <th>X14</th>\n",
       "      <th>X15</th>\n",
       "      <th>X16</th>\n",
       "      <th>X17</th>\n",
       "      <th>X18</th>\n",
       "      <th>X19</th>\n",
       "      <th>X20</th>\n",
       "      <th>X21</th>\n",
       "      <th>...</th>\n",
       "      <th>X6</th>\n",
       "      <th>X7</th>\n",
       "      <th>X9</th>\n",
       "      <th>X10</th>\n",
       "      <th>X11</th>\n",
       "      <th>X12</th>\n",
       "      <th>X13</th>\n",
       "      <th>X90</th>\n",
       "      <th>X99</th>\n",
       "      <th>X110</th>\n",
       "    </tr>\n",
       "  </thead>\n",
       "  <tbody>\n",
       "    <tr>\n",
       "      <th>count</th>\n",
       "      <td>25718.000000</td>\n",
       "      <td>25718.000000</td>\n",
       "      <td>25718.000000</td>\n",
       "      <td>25718.000000</td>\n",
       "      <td>25718.000000</td>\n",
       "      <td>25718.000000</td>\n",
       "      <td>25718.000000</td>\n",
       "      <td>25718.000000</td>\n",
       "      <td>25718.000000</td>\n",
       "      <td>25718.000000</td>\n",
       "      <td>...</td>\n",
       "      <td>25718.000000</td>\n",
       "      <td>25718.000000</td>\n",
       "      <td>25718.000000</td>\n",
       "      <td>25718.000000</td>\n",
       "      <td>25718.000000</td>\n",
       "      <td>25718.000000</td>\n",
       "      <td>25718.000000</td>\n",
       "      <td>25718.000000</td>\n",
       "      <td>25718.000000</td>\n",
       "      <td>25718.000000</td>\n",
       "    </tr>\n",
       "    <tr>\n",
       "      <th>mean</th>\n",
       "      <td>0.012987</td>\n",
       "      <td>24196.011045</td>\n",
       "      <td>4.354294</td>\n",
       "      <td>6.436923</td>\n",
       "      <td>8.519015</td>\n",
       "      <td>11.586097</td>\n",
       "      <td>1.000726</td>\n",
       "      <td>1277.489898</td>\n",
       "      <td>100.209051</td>\n",
       "      <td>19.593953</td>\n",
       "      <td>...</td>\n",
       "      <td>8366.726417</td>\n",
       "      <td>1999.003655</td>\n",
       "      <td>165.477953</td>\n",
       "      <td>8433.622638</td>\n",
       "      <td>12858.500000</td>\n",
       "      <td>0.033654</td>\n",
       "      <td>0.025192</td>\n",
       "      <td>0.000456</td>\n",
       "      <td>0.007122</td>\n",
       "      <td>0.009943</td>\n",
       "    </tr>\n",
       "    <tr>\n",
       "      <th>std</th>\n",
       "      <td>0.113220</td>\n",
       "      <td>4109.912567</td>\n",
       "      <td>1.713143</td>\n",
       "      <td>1.630268</td>\n",
       "      <td>1.790918</td>\n",
       "      <td>1.571088</td>\n",
       "      <td>0.399122</td>\n",
       "      <td>121.776233</td>\n",
       "      <td>27.697053</td>\n",
       "      <td>101.204946</td>\n",
       "      <td>...</td>\n",
       "      <td>4775.869109</td>\n",
       "      <td>1199.774700</td>\n",
       "      <td>27.222641</td>\n",
       "      <td>4840.895117</td>\n",
       "      <td>7424.291448</td>\n",
       "      <td>0.030414</td>\n",
       "      <td>0.020976</td>\n",
       "      <td>0.000457</td>\n",
       "      <td>0.009129</td>\n",
       "      <td>0.004988</td>\n",
       "    </tr>\n",
       "    <tr>\n",
       "      <th>min</th>\n",
       "      <td>0.000000</td>\n",
       "      <td>7932.000000</td>\n",
       "      <td>-19.629785</td>\n",
       "      <td>-20.874003</td>\n",
       "      <td>0.000000</td>\n",
       "      <td>0.000000</td>\n",
       "      <td>0.420000</td>\n",
       "      <td>1000.000000</td>\n",
       "      <td>24.000000</td>\n",
       "      <td>2.000000</td>\n",
       "      <td>...</td>\n",
       "      <td>0.000000</td>\n",
       "      <td>0.000000</td>\n",
       "      <td>0.000000</td>\n",
       "      <td>0.000000</td>\n",
       "      <td>0.000000</td>\n",
       "      <td>0.000039</td>\n",
       "      <td>-0.010660</td>\n",
       "      <td>-0.000034</td>\n",
       "      <td>-0.016853</td>\n",
       "      <td>-0.002453</td>\n",
       "    </tr>\n",
       "    <tr>\n",
       "      <th>25%</th>\n",
       "      <td>0.000000</td>\n",
       "      <td>23080.000000</td>\n",
       "      <td>3.650000</td>\n",
       "      <td>5.840000</td>\n",
       "      <td>7.850000</td>\n",
       "      <td>10.950000</td>\n",
       "      <td>0.700000</td>\n",
       "      <td>1220.000000</td>\n",
       "      <td>81.000000</td>\n",
       "      <td>10.000000</td>\n",
       "      <td>...</td>\n",
       "      <td>4230.250000</td>\n",
       "      <td>964.250000</td>\n",
       "      <td>147.000000</td>\n",
       "      <td>4139.250000</td>\n",
       "      <td>6429.250000</td>\n",
       "      <td>0.009386</td>\n",
       "      <td>0.008800</td>\n",
       "      <td>0.000195</td>\n",
       "      <td>0.001958</td>\n",
       "      <td>0.006243</td>\n",
       "    </tr>\n",
       "    <tr>\n",
       "      <th>50%</th>\n",
       "      <td>0.000000</td>\n",
       "      <td>23931.638720</td>\n",
       "      <td>4.560000</td>\n",
       "      <td>6.507669</td>\n",
       "      <td>8.400000</td>\n",
       "      <td>11.396991</td>\n",
       "      <td>0.850000</td>\n",
       "      <td>1250.000000</td>\n",
       "      <td>97.000000</td>\n",
       "      <td>14.000000</td>\n",
       "      <td>...</td>\n",
       "      <td>8383.000000</td>\n",
       "      <td>1928.000000</td>\n",
       "      <td>175.000000</td>\n",
       "      <td>8480.000000</td>\n",
       "      <td>12858.500000</td>\n",
       "      <td>0.027416</td>\n",
       "      <td>0.019594</td>\n",
       "      <td>0.000312</td>\n",
       "      <td>0.004688</td>\n",
       "      <td>0.009999</td>\n",
       "    </tr>\n",
       "    <tr>\n",
       "      <th>75%</th>\n",
       "      <td>0.000000</td>\n",
       "      <td>25316.627351</td>\n",
       "      <td>5.110000</td>\n",
       "      <td>7.300000</td>\n",
       "      <td>9.130000</td>\n",
       "      <td>11.860000</td>\n",
       "      <td>1.200000</td>\n",
       "      <td>1365.000000</td>\n",
       "      <td>120.000000</td>\n",
       "      <td>23.000000</td>\n",
       "      <td>...</td>\n",
       "      <td>12528.000000</td>\n",
       "      <td>3008.750000</td>\n",
       "      <td>184.000000</td>\n",
       "      <td>12743.750000</td>\n",
       "      <td>19287.750000</td>\n",
       "      <td>0.045289</td>\n",
       "      <td>0.035082</td>\n",
       "      <td>0.000546</td>\n",
       "      <td>0.008664</td>\n",
       "      <td>0.014583</td>\n",
       "    </tr>\n",
       "    <tr>\n",
       "      <th>max</th>\n",
       "      <td>1.000000</td>\n",
       "      <td>79319.621124</td>\n",
       "      <td>40.020000</td>\n",
       "      <td>16.753146</td>\n",
       "      <td>37.400050</td>\n",
       "      <td>30.303060</td>\n",
       "      <td>2.038000</td>\n",
       "      <td>1535.000000</td>\n",
       "      <td>150.000000</td>\n",
       "      <td>9860.000000</td>\n",
       "      <td>...</td>\n",
       "      <td>16499.000000</td>\n",
       "      <td>4343.000000</td>\n",
       "      <td>212.000000</td>\n",
       "      <td>16612.000000</td>\n",
       "      <td>25717.000000</td>\n",
       "      <td>0.105127</td>\n",
       "      <td>0.070828</td>\n",
       "      <td>0.003741</td>\n",
       "      <td>0.047653</td>\n",
       "      <td>0.018776</td>\n",
       "    </tr>\n",
       "  </tbody>\n",
       "</table>\n",
       "<p>8 rows × 111 columns</p>\n",
       "</div>"
      ],
      "text/plain": [
       "                  Y            X8           X14           X15           X16  \\\n",
       "count  25718.000000  25718.000000  25718.000000  25718.000000  25718.000000   \n",
       "mean       0.012987  24196.011045      4.354294      6.436923      8.519015   \n",
       "std        0.113220   4109.912567      1.713143      1.630268      1.790918   \n",
       "min        0.000000   7932.000000    -19.629785    -20.874003      0.000000   \n",
       "25%        0.000000  23080.000000      3.650000      5.840000      7.850000   \n",
       "50%        0.000000  23931.638720      4.560000      6.507669      8.400000   \n",
       "75%        0.000000  25316.627351      5.110000      7.300000      9.130000   \n",
       "max        1.000000  79319.621124     40.020000     16.753146     37.400050   \n",
       "\n",
       "                X17           X18           X19           X20           X21  \\\n",
       "count  25718.000000  25718.000000  25718.000000  25718.000000  25718.000000   \n",
       "mean      11.586097      1.000726   1277.489898    100.209051     19.593953   \n",
       "std        1.571088      0.399122    121.776233     27.697053    101.204946   \n",
       "min        0.000000      0.420000   1000.000000     24.000000      2.000000   \n",
       "25%       10.950000      0.700000   1220.000000     81.000000     10.000000   \n",
       "50%       11.396991      0.850000   1250.000000     97.000000     14.000000   \n",
       "75%       11.860000      1.200000   1365.000000    120.000000     23.000000   \n",
       "max       30.303060      2.038000   1535.000000    150.000000   9860.000000   \n",
       "\n",
       "       ...            X6            X7            X9           X10  \\\n",
       "count  ...  25718.000000  25718.000000  25718.000000  25718.000000   \n",
       "mean   ...   8366.726417   1999.003655    165.477953   8433.622638   \n",
       "std    ...   4775.869109   1199.774700     27.222641   4840.895117   \n",
       "min    ...      0.000000      0.000000      0.000000      0.000000   \n",
       "25%    ...   4230.250000    964.250000    147.000000   4139.250000   \n",
       "50%    ...   8383.000000   1928.000000    175.000000   8480.000000   \n",
       "75%    ...  12528.000000   3008.750000    184.000000  12743.750000   \n",
       "max    ...  16499.000000   4343.000000    212.000000  16612.000000   \n",
       "\n",
       "                X11           X12           X13           X90           X99  \\\n",
       "count  25718.000000  25718.000000  25718.000000  25718.000000  25718.000000   \n",
       "mean   12858.500000      0.033654      0.025192      0.000456      0.007122   \n",
       "std     7424.291448      0.030414      0.020976      0.000457      0.009129   \n",
       "min        0.000000      0.000039     -0.010660     -0.000034     -0.016853   \n",
       "25%     6429.250000      0.009386      0.008800      0.000195      0.001958   \n",
       "50%    12858.500000      0.027416      0.019594      0.000312      0.004688   \n",
       "75%    19287.750000      0.045289      0.035082      0.000546      0.008664   \n",
       "max    25717.000000      0.105127      0.070828      0.003741      0.047653   \n",
       "\n",
       "               X110  \n",
       "count  25718.000000  \n",
       "mean       0.009943  \n",
       "std        0.004988  \n",
       "min       -0.002453  \n",
       "25%        0.006243  \n",
       "50%        0.009999  \n",
       "75%        0.014583  \n",
       "max        0.018776  \n",
       "\n",
       "[8 rows x 111 columns]"
      ]
     },
     "execution_count": 6,
     "metadata": {},
     "output_type": "execute_result"
    }
   ],
   "source": [
    "data.describe()"
   ]
  },
  {
   "cell_type": "markdown",
   "metadata": {},
   "source": [
    "<b> Oversampling "
   ]
  },
  {
   "cell_type": "code",
   "execution_count": 7,
   "metadata": {},
   "outputs": [
    {
     "name": "stdout",
     "output_type": "stream",
     "text": [
      "Shape of SMOTE-resampled data: (50768, 110) (50768,)\n",
      "Shape of ADASYN-resampled data: (50777, 110) (50777,)\n"
     ]
    }
   ],
   "source": [
    "#Applying Oversampling on the data \n",
    "from imblearn.over_sampling import SMOTE, ADASYN\n",
    "\n",
    "# Assuming 'imputed_encoded_data' is your imputed encoded DataFrame\n",
    "\n",
    "# Extract features (X) and target variable (y)\n",
    "X = data.drop(columns=['Y'])  \n",
    "y = data['Y']  \n",
    "\n",
    "# Apply SMOTE\n",
    "smote = SMOTE(random_state=0)\n",
    "X_smote, y_smote = smote.fit_resample(X, y)\n",
    "\n",
    "# Apply ADASYN\n",
    "adasyn = ADASYN(random_state=0)\n",
    "X_adasyn, y_adasyn = adasyn.fit_resample(X, y)\n",
    "\n",
    "# Display the shape of the resampled data\n",
    "print(\"Shape of SMOTE-resampled data:\", X_smote.shape, y_smote.shape)\n",
    "print(\"Shape of ADASYN-resampled data:\", X_adasyn.shape, y_adasyn.shape)"
   ]
  },
  {
   "cell_type": "markdown",
   "metadata": {},
   "source": [
    "<b>Model Training: "
   ]
  },
  {
   "cell_type": "code",
   "execution_count": 8,
   "metadata": {},
   "outputs": [],
   "source": [
    "# Split the data into train and test sets\n",
    "X_train_s, X_test_s, y_train_s, y_test_s = train_test_split(X_smote, y_smote, test_size=0.2, random_state=42)\n",
    "X_train_a, X_test_a, y_train_a, y_test_a = train_test_split(X_adasyn, y_adasyn, test_size=0.2, random_state=42)"
   ]
  },
  {
   "cell_type": "markdown",
   "metadata": {},
   "source": [
    "Logistics Regression"
   ]
  },
  {
   "cell_type": "code",
   "execution_count": 9,
   "metadata": {},
   "outputs": [],
   "source": [
    "\n",
    "# Logistics Regression\n",
    "def evaluate_logistic_regression(X_train, X_test, y_train, y_test):\n",
    "    # Create a pipeline with scaling and logistic regression\n",
    "    model = make_pipeline(StandardScaler(), LogisticRegression(max_iter=1000))\n",
    "\n",
    "    # Train the model\n",
    "    model.fit(X_train, y_train)\n",
    "\n",
    "    # Make predictions on test data\n",
    "    y_pred = model.predict(X_test)\n",
    "\n",
    "    # Calculate evaluation metrics\n",
    "    accuracy = accuracy_score(y_test, y_pred)\n",
    "    precision = precision_score(y_test, y_pred)\n",
    "    recall = recall_score(y_test, y_pred)\n",
    "    f1 = f1_score(y_test, y_pred)\n",
    "\n",
    "    # Store metrics in variables\n",
    "    logistic_accuracy = accuracy\n",
    "    logistic_precision = precision\n",
    "    logistic_recall = recall\n",
    "    logistic_f1 = f1\n",
    "\n",
    "    # Print evaluation metrics\n",
    "    print(\"Accuracy:\", accuracy)\n",
    "    print(\"Precision:\", precision)\n",
    "    print(\"Recall:\", recall)\n",
    "    print(\"F1 Score:\", f1)\n",
    "\n",
    "    # Return model and metrics\n",
    "    return model, logistic_accuracy, logistic_precision, logistic_recall, logistic_f1"
   ]
  },
  {
   "cell_type": "code",
   "execution_count": 10,
   "metadata": {},
   "outputs": [
    {
     "name": "stdout",
     "output_type": "stream",
     "text": [
      "Evaluation metrics for SMOTE data:\n",
      "Accuracy: 0.8087453220405751\n",
      "Precision: 0.7895994119808893\n",
      "Recall: 0.8435414212799371\n",
      "F1 Score: 0.815679574791192\n",
      "\n",
      "Evaluation metrics for ADASYN data:\n",
      "Accuracy: 0.8074044899566759\n",
      "Precision: 0.7898617511520737\n",
      "Recall: 0.8400313663987453\n",
      "F1 Score: 0.814174425232757\n"
     ]
    }
   ],
   "source": [
    "\n",
    "# Evaluate logistic regression model for SMOTE data\n",
    "print(\"Evaluation metrics for SMOTE data:\")\n",
    "logistic_model_s, logistic_accuracy_s, logistic_precision_s, logistic_recall_s, logistic_f1_s = evaluate_logistic_regression(X_train_s, X_test_s, y_train_s, y_test_s)\n",
    "\n",
    "# Evaluate logistic regression model for ADASYN data\n",
    "print(\"\\nEvaluation metrics for ADASYN data:\")\n",
    "logistic_model_a, logistic_accuracy_a, logistic_precision_a, logistic_recall_a, logistic_f1_a = evaluate_logistic_regression(X_train_a, X_test_a, y_train_a, y_test_a)\n"
   ]
  },
  {
   "cell_type": "markdown",
   "metadata": {},
   "source": [
    "SVM"
   ]
  },
  {
   "cell_type": "code",
   "execution_count": 11,
   "metadata": {},
   "outputs": [],
   "source": [
    "\n",
    "# SVM\n",
    "def evaluate_SVM(X_train, X_test, y_train, y_test):\n",
    "    # Create a pipeline with scaling and SVM\n",
    "    model = make_pipeline(StandardScaler(), SVC())\n",
    "\n",
    "    # Train the model\n",
    "    model.fit(X_train, y_train)\n",
    "\n",
    "    # Make predictions on test data\n",
    "    y_pred = model.predict(X_test)\n",
    "\n",
    "    # Calculate evaluation metrics\n",
    "    accuracy = accuracy_score(y_test, y_pred)\n",
    "    precision = precision_score(y_test, y_pred)\n",
    "    recall = recall_score(y_test, y_pred)\n",
    "    f1 = f1_score(y_test, y_pred)\n",
    "\n",
    "    # Store metrics in variables\n",
    "    svm_accuracy = accuracy\n",
    "    svm_precision = precision\n",
    "    svm_recall = recall\n",
    "    svm_f1 = f1\n",
    "\n",
    "    # Print evaluation metrics\n",
    "    print(\"Accuracy:\", accuracy)\n",
    "    print(\"Precision:\", precision)\n",
    "    print(\"Recall:\", recall)\n",
    "    print(\"F1 Score:\", f1)\n",
    "\n",
    "    # Return model and metrics\n",
    "    return model, svm_accuracy, svm_precision, svm_recall, svm_f1\n"
   ]
  },
  {
   "cell_type": "code",
   "execution_count": 12,
   "metadata": {},
   "outputs": [
    {
     "name": "stdout",
     "output_type": "stream",
     "text": [
      "Evaluation metrics for SMOTE data:\n",
      "Accuracy: 0.9806972621626945\n",
      "Precision: 0.964177407126611\n",
      "Recall: 0.9986258343148803\n",
      "F1 Score: 0.981099324975892\n",
      "\n",
      "Evaluation metrics for ADASYN data:\n",
      "Accuracy: 0.9808979913351713\n",
      "Precision: 0.9637119637119637\n",
      "Recall: 0.9996079200156832\n",
      "F1 Score: 0.9813317936874518\n"
     ]
    }
   ],
   "source": [
    "\n",
    "# Evaluate SVM model for SMOTE data\n",
    "print(\"Evaluation metrics for SMOTE data:\")\n",
    "svm_model_s, svm_accuracy_s, svm_precision_s, svm_recall_s, svm_f1_s = evaluate_SVM(X_train_s, X_test_s, y_train_s, y_test_s)\n",
    "\n",
    "# Evaluate SVM model for ADASYN data\n",
    "print(\"\\nEvaluation metrics for ADASYN data:\")\n",
    "svm_model_a, svm_accuracy_a, svm_precision_a, svm_recall_a, svm_f1_a = evaluate_SVM(X_train_a, X_test_a, y_train_a, y_test_a)\n"
   ]
  },
  {
   "cell_type": "markdown",
   "metadata": {},
   "source": [
    "KNN"
   ]
  },
  {
   "cell_type": "code",
   "execution_count": 13,
   "metadata": {},
   "outputs": [
    {
     "name": "stdout",
     "output_type": "stream",
     "text": [
      "Evaluation metrics for SMOTE data:\n",
      "Accuracy: 0.9769548946228087\n",
      "Precision: 0.956081081081081\n",
      "Recall: 1.0\n",
      "F1 Score: 0.9775474956822107\n",
      "\n",
      "Evaluation metrics for ADASYN data:\n",
      "Accuracy: 0.9763686490744388\n",
      "Precision: 0.9550645946451976\n",
      "Recall: 1.0\n",
      "F1 Score: 0.9770158973376747\n"
     ]
    }
   ],
   "source": [
    "# KNN\n",
    "\n",
    "# Modify the evaluate_KNN function to include scaling\n",
    "def evaluate_KNN(X_train, X_test, y_train, y_test):\n",
    "    # Create a pipeline with scaling and KNN\n",
    "    model = make_pipeline(StandardScaler(), KNeighborsClassifier())\n",
    "\n",
    "    # Train the model\n",
    "    model.fit(X_train, y_train)\n",
    "\n",
    "    # Make predictions on test data\n",
    "    y_pred = model.predict(X_test)\n",
    "\n",
    "    # Calculate evaluation metrics\n",
    "    accuracy = accuracy_score(y_test, y_pred)\n",
    "    precision = precision_score(y_test, y_pred)\n",
    "    recall = recall_score(y_test, y_pred)\n",
    "    f1 = f1_score(y_test, y_pred)\n",
    "\n",
    "    # Store metrics in variables\n",
    "    knn_accuracy = accuracy\n",
    "    knn_precision = precision\n",
    "    knn_recall = recall\n",
    "    knn_f1 = f1\n",
    "\n",
    "    # Print evaluation metrics\n",
    "    print(\"Accuracy:\", accuracy)\n",
    "    print(\"Precision:\", precision)\n",
    "    print(\"Recall:\", recall)\n",
    "    print(\"F1 Score:\", f1)\n",
    "\n",
    "    # Return model and metrics\n",
    "    return model, knn_accuracy, knn_precision, knn_recall, knn_f1\n",
    "\n",
    "# Evaluate KNN model for SMOTE data\n",
    "print(\"Evaluation metrics for SMOTE data:\")\n",
    "knn_model_s, knn_accuracy_s, knn_precision_s, knn_recall_s, knn_f1_s = evaluate_KNN(X_train_s, X_test_s, y_train_s, y_test_s)\n",
    "\n",
    "# Evaluate KNN model for ADASYN data\n",
    "print(\"\\nEvaluation metrics for ADASYN data:\")\n",
    "knn_model_a, knn_accuracy_a, knn_precision_a, knn_recall_a, knn_f1_a = evaluate_KNN(X_train_a, X_test_a, y_train_a, y_test_a)\n"
   ]
  },
  {
   "cell_type": "code",
   "execution_count": 14,
   "metadata": {},
   "outputs": [
    {
     "name": "stdout",
     "output_type": "stream",
     "text": [
      "Evaluation metrics for SMOTE data:\n",
      "Accuracy: 0.9769548946228087\n",
      "Precision: 0.956081081081081\n",
      "Recall: 1.0\n",
      "F1 Score: 0.9775474956822107\n",
      "\n",
      "Evaluation metrics for ADASYN data:\n",
      "Accuracy: 0.9763686490744388\n",
      "Precision: 0.9550645946451976\n",
      "Recall: 1.0\n",
      "F1 Score: 0.9770158973376747\n"
     ]
    }
   ],
   "source": [
    "\n",
    "# Evaluate KNN model for SMOTE data\n",
    "print(\"Evaluation metrics for SMOTE data:\")\n",
    "knn_model_s, knn_accuracy_s, knn_precision_s, knn_recall_s, knn_f1_s = evaluate_KNN(X_train_s, X_test_s, y_train_s, y_test_s)\n",
    "\n",
    "# Evaluate KNN model for ADASYN data\n",
    "print(\"\\nEvaluation metrics for ADASYN data:\")\n",
    "knn_model_a, knn_accuracy_a, knn_precision_a, knn_recall_a, knn_f1_a = evaluate_KNN(X_train_a, X_test_a, y_train_a, y_test_a)\n"
   ]
  },
  {
   "cell_type": "markdown",
   "metadata": {},
   "source": [
    "Decision Tree classifier"
   ]
  },
  {
   "cell_type": "code",
   "execution_count": 15,
   "metadata": {},
   "outputs": [],
   "source": [
    "\n",
    "# Function to train and evaluate Decision Tree classifier\n",
    "def evaluate_decision_tree(X_train, X_test, y_train, y_test):\n",
    "    # Initialize Decision Tree classifier\n",
    "    model = DecisionTreeClassifier(random_state=42)\n",
    "\n",
    "    # Train the model\n",
    "    model.fit(X_train, y_train)\n",
    "\n",
    "    # Make predictions on test data\n",
    "    y_pred = model.predict(X_test)\n",
    "\n",
    "    # Calculate evaluation metrics\n",
    "    accuracy = accuracy_score(y_test, y_pred)\n",
    "    precision = precision_score(y_test, y_pred)\n",
    "    recall = recall_score(y_test, y_pred)\n",
    "    f1 = f1_score(y_test, y_pred)\n",
    "\n",
    "    # Store metrics in variables\n",
    "    dt_accuracy = accuracy\n",
    "    dt_precision = precision\n",
    "    dt_recall = recall\n",
    "    dt_f1 = f1\n",
    "\n",
    "    # Print evaluation metrics\n",
    "    print(\"Accuracy:\", accuracy)\n",
    "    print(\"Precision:\", precision)\n",
    "    print(\"Recall:\", recall)\n",
    "    print(\"F1 Score:\", f1)\n",
    "\n",
    "    # Return model and metrics\n",
    "    return model, dt_accuracy, dt_precision, dt_recall, dt_f1\n"
   ]
  },
  {
   "cell_type": "code",
   "execution_count": 16,
   "metadata": {},
   "outputs": [
    {
     "name": "stdout",
     "output_type": "stream",
     "text": [
      "Evaluation metrics for SMOTE data:\n",
      "Accuracy: 0.982272995863699\n",
      "Precision: 0.9776438569206843\n",
      "Recall: 0.9872398900667452\n",
      "F1 Score: 0.9824184411017776\n",
      "\n",
      "Evaluation metrics for ADASYN data:\n",
      "Accuracy: 0.98168570303269\n",
      "Precision: 0.9728689628631904\n",
      "Recall: 0.991178200352872\n",
      "F1 Score: 0.9819382404350359\n"
     ]
    }
   ],
   "source": [
    "# Evaluate Decision Tree model for SMOTE data\n",
    "print(\"Evaluation metrics for SMOTE data:\")\n",
    "dt_model_s, dt_accuracy_s, dt_precision_s, dt_recall_s, dt_f1_s = evaluate_decision_tree(X_train_s, X_test_s, y_train_s, y_test_s)\n",
    "\n",
    "# Evaluate Decision Tree model for ADASYN data\n",
    "print(\"\\nEvaluation metrics for ADASYN data:\")\n",
    "dt_model_a, dt_accuracy_a, dt_precision_a, dt_recall_a, dt_f1_a = evaluate_decision_tree(X_train_a, X_test_a, y_train_a, y_test_a)\n"
   ]
  },
  {
   "cell_type": "markdown",
   "metadata": {},
   "source": [
    "Random Forest classifier"
   ]
  },
  {
   "cell_type": "code",
   "execution_count": 17,
   "metadata": {},
   "outputs": [],
   "source": [
    "\n",
    "# Function to train and evaluate Random Forest classifier\n",
    "def evaluate_random_forest(X_train, X_test, y_train, y_test):\n",
    "    # Initialize Random Forest classifier\n",
    "    model = RandomForestClassifier(n_estimators=100, random_state=42)\n",
    "\n",
    "    # Train the model\n",
    "    model.fit(X_train, y_train)\n",
    "\n",
    "    # Make predictions on test data\n",
    "    y_pred = model.predict(X_test)\n",
    "\n",
    "    # Calculate evaluation metrics\n",
    "    accuracy = accuracy_score(y_test, y_pred)\n",
    "    precision = precision_score(y_test, y_pred)\n",
    "    recall = recall_score(y_test, y_pred)\n",
    "    f1 = f1_score(y_test, y_pred)\n",
    "\n",
    "    # Store metrics in variables\n",
    "    rf_accuracy = accuracy\n",
    "    rf_precision = precision\n",
    "    rf_recall = recall\n",
    "    rf_f1 = f1\n",
    "\n",
    "    # Print evaluation metrics\n",
    "    print(\"Accuracy:\", accuracy)\n",
    "    print(\"Precision:\", precision)\n",
    "    print(\"Recall:\", recall)\n",
    "    print(\"F1 Score:\", f1)\n",
    "\n",
    "    # Return model and metrics\n",
    "    return model, rf_accuracy, rf_precision, rf_recall, rf_f1\n",
    "\n"
   ]
  },
  {
   "cell_type": "code",
   "execution_count": 18,
   "metadata": {},
   "outputs": [
    {
     "name": "stdout",
     "output_type": "stream",
     "text": [
      "Evaluation metrics for SMOTE data:\n",
      "Accuracy: 0.9984242662989955\n",
      "Precision: 0.9988212180746562\n",
      "Recall: 0.9980369061641147\n",
      "F1 Score: 0.9984289080911234\n",
      "\n",
      "Evaluation metrics for ADASYN data:\n",
      "Accuracy: 0.9979322567940134\n",
      "Precision: 0.9986258343148803\n",
      "Recall: 0.9972554401097824\n",
      "F1 Score: 0.997940166748406\n"
     ]
    }
   ],
   "source": [
    "# Evaluate Random Forest model for SMOTE data\n",
    "print(\"Evaluation metrics for SMOTE data:\")\n",
    "rf_model_s, rf_accuracy_s, rf_precision_s, rf_recall_s, rf_f1_s = evaluate_random_forest(X_train_s, X_test_s, y_train_s, y_test_s)\n",
    "\n",
    "# Evaluate Random Forest model for ADASYN data\n",
    "print(\"\\nEvaluation metrics for ADASYN data:\")\n",
    "rf_model_a, rf_accuracy_a, rf_precision_a, rf_recall_a, rf_f1_a = evaluate_random_forest(X_train_a, X_test_a, y_train_a, y_test_a)\n"
   ]
  },
  {
   "cell_type": "markdown",
   "metadata": {},
   "source": [
    "<b>Comparing the various models "
   ]
  },
  {
   "cell_type": "code",
   "execution_count": 19,
   "metadata": {},
   "outputs": [
    {
     "name": "stdout",
     "output_type": "stream",
     "text": [
      "Ranks for SMOTE dataset:\n",
      "Random Forest: Rank 1\n",
      "Decision Tree: Rank 2\n",
      "SVM: Rank 3\n",
      "KNN: Rank 4\n",
      "Logistic Regression: Rank 5\n",
      "\n",
      "Ranks for ADASYN dataset:\n",
      "Random Forest: Rank 1\n",
      "Decision Tree: Rank 2\n",
      "SVM: Rank 3\n",
      "KNN: Rank 4\n",
      "Logistic Regression: Rank 5\n"
     ]
    }
   ],
   "source": [
    "# Create lists to store model accuracies\n",
    "smote_accuracies = [logistic_accuracy_s, svm_accuracy_s, knn_accuracy_s, dt_accuracy_s, rf_accuracy_s]\n",
    "adasyn_accuracies = [logistic_accuracy_a, svm_accuracy_a, knn_accuracy_a, dt_accuracy_a, rf_accuracy_a]\n",
    "model_names = ['Logistic Regression', 'SVM', 'KNN', 'Decision Tree', 'Random Forest']\n",
    "\n",
    "# Sort model accuracies and get the ranks\n",
    "smote_ranked_models = [model_names[i] for i in sorted(range(len(smote_accuracies)), key=lambda k: smote_accuracies[k], reverse=True)]\n",
    "adasyn_ranked_models = [model_names[i] for i in sorted(range(len(adasyn_accuracies)), key=lambda k: adasyn_accuracies[k], reverse=True)]\n",
    "\n",
    "# Print ranks\n",
    "print(\"Ranks for SMOTE dataset:\")\n",
    "for i, model in enumerate(smote_ranked_models):\n",
    "    print(f\"{model}: Rank {i+1}\")\n",
    "\n",
    "print(\"\\nRanks for ADASYN dataset:\")\n",
    "for i, model in enumerate(adasyn_ranked_models):\n",
    "    print(f\"{model}: Rank {i+1}\")\n"
   ]
  },
  {
   "cell_type": "code",
   "execution_count": 34,
   "metadata": {},
   "outputs": [
    {
     "data": {
      "image/png": "[encoded data removed]",
      "text/plain": [
       "<Figure size 640x480 with 1 Axes>"
      ]
     },
     "metadata": {},
     "output_type": "display_data"
    }
   ],
   "source": [
    "# Create figure and axis objects\n",
    "fig, ax = plt.subplots()\n",
    "# Plot SMOTE accuracies\n",
    "ax.barh([model + \" (SMOTE)\" for model in model_names], smote_accuracies, color='skyblue', label='SMOTE')\n",
    "# Plot ADASYN accuracies\n",
    "ax.barh([model + \" (ADASYN)\" for model in model_names], adasyn_accuracies, color='salmon', label='ADASYN')\n",
    "\n",
    "# Set labels and title\n",
    "ax.set_xlabel('Accuracy')\n",
    "ax.set_title('Comparison of Model Accuracies for SMOTE and ADASYN')\n",
    "# Add legend\n",
    "ax.legend()\n",
    "# Show plot\n",
    "plt.show()\n"
   ]
  },
  {
   "cell_type": "markdown",
   "metadata": {},
   "source": [
    "<i><b> Two of the best performing models: </b></i>\n",
    "<ol>\n",
    "<li>Random Forest: Rank 1\n",
    "<li>Decision Tree: Rank 2\n",
    "</ol>\n"
   ]
  },
  {
   "cell_type": "code",
   "execution_count": 21,
   "metadata": {},
   "outputs": [
    {
     "name": "stdout",
     "output_type": "stream",
     "text": [
      "Ranks for SMOTE dataset (based on precision):\n",
      "Random Forest: Rank 1\n",
      "Decision Tree: Rank 2\n",
      "SVM: Rank 3\n",
      "KNN: Rank 4\n",
      "Logistic Regression: Rank 5\n",
      "\n",
      "Ranks for ADASYN dataset (based on precision):\n",
      "Random Forest: Rank 1\n",
      "Decision Tree: Rank 2\n",
      "SVM: Rank 3\n",
      "KNN: Rank 4\n",
      "Logistic Regression: Rank 5\n"
     ]
    }
   ],
   "source": [
    "# Create lists to store model precisions\n",
    "smote_precisions = [logistic_precision_s, svm_precision_s, knn_precision_s, dt_precision_s, rf_precision_s]\n",
    "adasyn_precisions = [logistic_precision_a, svm_precision_a, knn_precision_a, dt_precision_a, rf_precision_a]\n",
    "model_names = ['Logistic Regression', 'SVM', 'KNN', 'Decision Tree', 'Random Forest']\n",
    "\n",
    "# Sort model precisions and get the ranks\n",
    "smote_ranked_models = [model_names[i] for i in sorted(range(len(smote_precisions)), key=lambda k: smote_precisions[k], reverse=True)]\n",
    "adasyn_ranked_models = [model_names[i] for i in sorted(range(len(adasyn_precisions)), key=lambda k: adasyn_precisions[k], reverse=True)]\n",
    "\n",
    "# Print ranks\n",
    "print(\"Ranks for SMOTE dataset (based on precision):\")\n",
    "for i, model in enumerate(smote_ranked_models):\n",
    "    print(f\"{model}: Rank {i+1}\")\n",
    "\n",
    "print(\"\\nRanks for ADASYN dataset (based on precision):\")\n",
    "for i, model in enumerate(adasyn_ranked_models):\n",
    "    print(f\"{model}: Rank {i+1}\")\n"
   ]
  },
  {
   "cell_type": "code",
   "execution_count": 22,
   "metadata": {},
   "outputs": [
    {
     "data": {
      "image/png": "[encoded data removed]",
      "text/plain": [
       "<Figure size 640x480 with 1 Axes>"
      ]
     },
     "metadata": {},
     "output_type": "display_data"
    }
   ],
   "source": [
    "# Create lists to store model precisions\n",
    "smote_precisions = [logistic_precision_s, svm_precision_s, knn_precision_s, dt_precision_s, rf_precision_s]\n",
    "adasyn_precisions = [logistic_precision_a, svm_precision_a, knn_precision_a, dt_precision_a, rf_precision_a]\n",
    "model_names = ['Logistic Regression', 'SVM', 'KNN', 'Decision Tree', 'Random Forest']\n",
    "\n",
    "# Create figure and axis objects\n",
    "fig, ax = plt.subplots()\n",
    "\n",
    "# Plot SMOTE precisions\n",
    "ax.barh([model + \" (SMOTE)\" for model in model_names], smote_precisions, color='skyblue', label='SMOTE')\n",
    "\n",
    "# Plot ADASYN precisions\n",
    "ax.barh([model + \" (ADASYN)\" for model in model_names], adasyn_precisions, color='salmon', label='ADASYN')\n",
    "\n",
    "# Set labels and title\n",
    "ax.set_xlabel('Precision')\n",
    "ax.set_title('Comparison of Model Precisions for SMOTE and ADASYN')\n",
    "\n",
    "# Add legend\n",
    "ax.legend()\n",
    "\n",
    "# Show plot\n",
    "plt.show()"
   ]
  },
  {
   "cell_type": "markdown",
   "metadata": {},
   "source": [
    "### <b><i>  Performing ensemble learning </i></b>\n",
    "\n",
    "\n",
    "To perform ensemble learning using bagging and boosting techniques on Decision Tree and Random Forest Classification, we can use Scikit-learn's BaggingClassifier and AdaBoostClassifier respectively."
   ]
  },
  {
   "cell_type": "code",
   "execution_count": 23,
   "metadata": {},
   "outputs": [],
   "source": [
    "\n",
    "# Split the data into train and test sets\n",
    "X_train, X_test, y_train, y_test = train_test_split(X_smote, y_smote, test_size=0.2, random_state=42)\n",
    "\n",
    "# Define base classifiers\n",
    "dt = DecisionTreeClassifier()\n",
    "rf = RandomForestClassifier()\n"
   ]
  },
  {
   "cell_type": "code",
   "execution_count": 24,
   "metadata": {},
   "outputs": [],
   "source": [
    "# Ensemble using Bagging with Decision Tree \n",
    "bagging_dt = BaggingClassifier(base_estimator=dt, n_estimators=10, random_state=0)\n",
    "bagging_dt.fit(X_train, y_train)  # Fit on the training set\n",
    "y_pred_bagging_dt = bagging_dt.predict(X_test)  # Predict on the test set\n",
    "precision_bagging_dt = precision_score(y_test, y_pred_bagging_dt)\n",
    "recall_bagging_dt = recall_score(y_test, y_pred_bagging_dt)\n",
    "f1_bagging_dt = f1_score(y_test, y_pred_bagging_dt)\n",
    "accuracy_bagging_dt = accuracy_score(y_test, y_pred_bagging_dt)"
   ]
  },
  {
   "cell_type": "code",
   "execution_count": 25,
   "metadata": {},
   "outputs": [],
   "source": [
    "# Ensemble using Bagging with Random Forest\n",
    "bagging_rf = BaggingClassifier(base_estimator=rf, n_estimators=10, random_state=0)\n",
    "bagging_rf.fit(X_train, y_train)\n",
    "y_pred_bagging_rf = bagging_rf.predict(X_test)\n",
    "precision_bagging_rf = precision_score(y_test, y_pred_bagging_rf)\n",
    "recall_bagging_rf = recall_score(y_test, y_pred_bagging_rf)\n",
    "f1_bagging_rf = f1_score(y_test, y_pred_bagging_rf)\n",
    "accuracy_bagging_rf = accuracy_score(y_test, y_pred_bagging_rf)"
   ]
  },
  {
   "cell_type": "code",
   "execution_count": 26,
   "metadata": {},
   "outputs": [],
   "source": [
    "# Ensemble using Boosting with Decision Tree\n",
    "boosting_dt = AdaBoostClassifier(base_estimator=dt, n_estimators=50, random_state=0)\n",
    "boosting_dt.fit(X_train, y_train)\n",
    "y_pred_boosting_dt = boosting_dt.predict(X_test)\n",
    "precision_boosting_dt = precision_score(y_test, y_pred_boosting_dt)\n",
    "recall_boosting_dt = recall_score(y_test, y_pred_boosting_dt)\n",
    "f1_boosting_dt = f1_score(y_test, y_pred_boosting_dt)\n",
    "accuracy_boosting_dt = accuracy_score(y_test, y_pred_boosting_dt)"
   ]
  },
  {
   "cell_type": "code",
   "execution_count": 27,
   "metadata": {},
   "outputs": [],
   "source": [
    "\n",
    "# Ensemble using Boosting with Random Forest\n",
    "boosting_rf = AdaBoostClassifier(base_estimator=rf, n_estimators=50, random_state=0)\n",
    "boosting_rf.fit(X_train, y_train)\n",
    "y_pred_boosting_rf = boosting_rf.predict(X_test)\n",
    "precision_boosting_rf = precision_score(y_test, y_pred_boosting_rf)\n",
    "recall_boosting_rf = recall_score(y_test, y_pred_boosting_rf)\n",
    "f1_boosting_rf = f1_score(y_test, y_pred_boosting_rf)\n",
    "accuracy_boosting_rf = accuracy_score(y_test, y_pred_boosting_rf)"
   ]
  },
  {
   "cell_type": "code",
   "execution_count": 28,
   "metadata": {},
   "outputs": [
    {
     "name": "stdout",
     "output_type": "stream",
     "text": [
      "Bagging with Decision Tree:\n",
      "Precision: 0.99391321421559\n",
      "Recall: 0.9937180997251669\n",
      "F1 Score: 0.9938156473937372\n",
      "Accuracy: 0.9937955485522947\n",
      "\n",
      "Bagging with Random Forest:\n",
      "Precision: 0.9984301412872841\n",
      "Recall: 0.9988221436984688\n",
      "F1 Score: 0.9986261040235526\n",
      "Accuracy: 0.9986212330116211\n",
      "\n",
      "Boosting with Decision Tree:\n",
      "Precision: 0.9804878048780488\n",
      "Recall: 0.9864546525323911\n",
      "F1 Score: 0.9834621782953322\n",
      "Accuracy: 0.9833563127831396\n",
      "\n",
      "Boosting with Random Forest:\n",
      "Precision: 0.9992141453831042\n",
      "Recall: 0.9984295249312917\n",
      "F1 Score: 0.9988216810683425\n",
      "Accuracy: 0.9988181997242466\n"
     ]
    }
   ],
   "source": [
    "\n",
    "# Display results\n",
    "print(\"Bagging with Decision Tree:\")\n",
    "print(\"Precision:\", precision_bagging_dt)\n",
    "print(\"Recall:\", recall_bagging_dt)\n",
    "print(\"F1 Score:\", f1_bagging_dt)\n",
    "print(\"Accuracy:\", accuracy_bagging_dt)\n",
    "\n",
    "print(\"\\nBagging with Random Forest:\")\n",
    "print(\"Precision:\", precision_bagging_rf)\n",
    "print(\"Recall:\", recall_bagging_rf)\n",
    "print(\"F1 Score:\", f1_bagging_rf)\n",
    "print(\"Accuracy:\", accuracy_bagging_rf)\n",
    "\n",
    "print(\"\\nBoosting with Decision Tree:\")\n",
    "print(\"Precision:\", precision_boosting_dt)\n",
    "print(\"Recall:\", recall_boosting_dt)\n",
    "print(\"F1 Score:\", f1_boosting_dt)\n",
    "print(\"Accuracy:\", accuracy_boosting_dt)\n",
    "\n",
    "print(\"\\nBoosting with Random Forest:\")\n",
    "print(\"Precision:\", precision_boosting_rf)\n",
    "print(\"Recall:\", recall_boosting_rf)\n",
    "print(\"F1 Score:\", f1_boosting_rf)\n",
    "print(\"Accuracy:\", accuracy_boosting_rf)"
   ]
  },
  {
   "cell_type": "code",
   "execution_count": 29,
   "metadata": {},
   "outputs": [
    {
     "data": {
      "image/png": "[encoded data removed]",
      "text/plain": [
       "<Figure size 1200x600 with 2 Axes>"
      ]
     },
     "metadata": {},
     "output_type": "display_data"
    }
   ],
   "source": [
    "# Define the algorithms\n",
    "algorithms = ['Bagging with Decision Tree', 'Bagging with Random Forest', 'Boosting with Decision Tree', 'Boosting with Random Forest']\n",
    "\n",
    "# Accuracy values\n",
    "accuracy_values = [accuracy_bagging_dt, accuracy_bagging_rf, accuracy_boosting_dt, accuracy_boosting_rf]\n",
    "\n",
    "# Precision values\n",
    "precision_values = [precision_bagging_dt, precision_bagging_rf, precision_boosting_dt, precision_boosting_rf]\n",
    "\n",
    "# Create subplots for accuracy and precision\n",
    "fig, axes = plt.subplots(1, 2, figsize=(12, 6))\n",
    "\n",
    "# Plot accuracy\n",
    "axes[0].bar(algorithms, accuracy_values, color='skyblue')\n",
    "axes[0].set_title('Accuracy of Algorithms')\n",
    "axes[0].set_ylabel('Accuracy')\n",
    "\n",
    "# Plot precision\n",
    "axes[1].bar(algorithms, precision_values, color='salmon')\n",
    "axes[1].set_title('Precision of Algorithms')\n",
    "axes[1].set_ylabel('Precision')\n",
    "\n",
    "# Rotate x-axis labels for better readability\n",
    "for ax in axes:\n",
    "    ax.tick_params(axis='x', rotation=45)\n",
    "\n",
    "plt.tight_layout()\n",
    "plt.show()"
   ]
  },
  {
   "cell_type": "code",
   "execution_count": 30,
   "metadata": {},
   "outputs": [
    {
     "name": "stdout",
     "output_type": "stream",
     "text": [
      "Models sorted by accuracy:\n",
      "1. Boosting with Random Forest (Accuracy: 0.9988181997242466, Precision: 0.9992141453831042)\n",
      "2. Bagging with Random Forest (Accuracy: 0.9986212330116211, Precision: 0.9984301412872841)\n",
      "3. Bagging with Decision Tree (Accuracy: 0.9937955485522947, Precision: 0.99391321421559)\n",
      "4. Boosting with Decision Tree (Accuracy: 0.9833563127831396, Precision: 0.9804878048780488)\n",
      "\n",
      "Models sorted by precision:\n",
      "1. Boosting with Random Forest (Accuracy: 0.9988181997242466, Precision: 0.9992141453831042)\n",
      "2. Bagging with Random Forest (Accuracy: 0.9986212330116211, Precision: 0.9984301412872841)\n",
      "3. Bagging with Decision Tree (Accuracy: 0.9937955485522947, Precision: 0.99391321421559)\n",
      "4. Boosting with Decision Tree (Accuracy: 0.9833563127831396, Precision: 0.9804878048780488)\n"
     ]
    }
   ],
   "source": [
    "# Create lists to store accuracy and precision values for each model\n",
    "models = ['Bagging with Decision Tree', 'Bagging with Random Forest', 'Boosting with Decision Tree', 'Boosting with Random Forest']\n",
    "accuracies = [accuracy_bagging_dt, accuracy_bagging_rf, accuracy_boosting_dt, accuracy_boosting_rf]\n",
    "precisions = [precision_bagging_dt, precision_bagging_rf, precision_boosting_dt, precision_boosting_rf]\n",
    "\n",
    "# Sort models based on accuracy and precision\n",
    "sorted_models_by_accuracy = [model for _, model in sorted(zip(accuracies, models), reverse=True)]\n",
    "sorted_models_by_precision = [model for _, model in sorted(zip(precisions, models), reverse=True)]\n",
    "\n",
    "# Print sorted models according to accuracy\n",
    "print(\"Models sorted by accuracy:\")\n",
    "for i, model in enumerate(sorted_models_by_accuracy):\n",
    "    print(f\"{i+1}. {model} (Accuracy: {accuracies[models.index(model)]}, Precision: {precisions[models.index(model)]})\")\n",
    "\n",
    "# Print sorted models according to precision\n",
    "print(\"\\nModels sorted by precision:\")\n",
    "for i, model in enumerate(sorted_models_by_precision):\n",
    "    print(f\"{i+1}. {model} (Accuracy: {accuracies[models.index(model)]}, Precision: {precisions[models.index(model)]})\")\n"
   ]
  },
  {
   "cell_type": "markdown",
   "metadata": {},
   "source": [
    "<b> <i>Stacking with all four models: ['Bagging with Decision Tree', 'Bagging with Random Forest', 'Boosting with Decision Tree', 'Boosting with Random Forest']</b> </i>"
   ]
  },
  {
   "cell_type": "code",
   "execution_count": 31,
   "metadata": {},
   "outputs": [
    {
     "name": "stdout",
     "output_type": "stream",
     "text": [
      "Stacking with all models:\n",
      "Accuracy: 0.9984242662989955\n",
      "Precision: 0.9994099134539732\n"
     ]
    }
   ],
   "source": [
    "from sklearn.ensemble import StackingClassifier\n",
    "from sklearn.linear_model import LogisticRegression\n",
    "\n",
    "# Initialize stacking classifier with all four models\n",
    "stacking_classifier_all = StackingClassifier(estimators=[\n",
    "    ('bagging_dt', bagging_dt),\n",
    "    ('bagging_rf', bagging_rf),\n",
    "    ('boosting_dt', boosting_dt),\n",
    "    ('boosting_rf', boosting_rf)\n",
    "], final_estimator=LogisticRegression())\n",
    "\n",
    "# Fit stacking classifier on the training data\n",
    "stacking_classifier_all.fit(X_train, y_train)\n",
    "\n",
    "# Evaluate stacking classifier on test data\n",
    "accuracy_stacking_all = stacking_classifier_all.score(X_test, y_test)\n",
    "precision_stacking_all = precision_score(y_test, stacking_classifier_all.predict(X_test))\n",
    "\n",
    "print(\"Stacking with all models:\")\n",
    "print(\"Accuracy:\", accuracy_stacking_all)\n",
    "print(\"Precision:\", precision_stacking_all)\n"
   ]
  },
  {
   "cell_type": "markdown",
   "metadata": {},
   "source": [
    "<b><i>Stacking with the top two models based on accuracy:['Bagging with Random Forest', 'Boosting with Random Forest']"
   ]
  },
  {
   "cell_type": "code",
   "execution_count": 32,
   "metadata": {},
   "outputs": [
    {
     "name": "stdout",
     "output_type": "stream",
     "text": [
      "Stacking with top two models based on accuracy:\n",
      "Accuracy: 0.9984242662989955\n",
      "Precision: 0.9990172955974843\n"
     ]
    }
   ],
   "source": [
    "from sklearn.ensemble import StackingClassifier\n",
    "from sklearn.linear_model import LogisticRegression\n",
    "\n",
    "# Initialize stacking classifier with top two models based on accuracy\n",
    "stacking_classifier_top2 = StackingClassifier(estimators=[\n",
    "    ('bagging_rf', bagging_rf),\n",
    "    ('boosting_rf', boosting_rf)\n",
    "], final_estimator=LogisticRegression())\n",
    "\n",
    "# Fit stacking classifier on the training data\n",
    "stacking_classifier_top2.fit(X_train, y_train)\n",
    "\n",
    "# Evaluate stacking classifier on test data\n",
    "accuracy_stacking_top2 = stacking_classifier_top2.score(X_test, y_test)\n",
    "precision_stacking_top2 = precision_score(y_test, stacking_classifier_top2.predict(X_test))\n",
    "\n",
    "print(\"Stacking with top two models based on accuracy:\")\n",
    "print(\"Accuracy:\", accuracy_stacking_top2)\n",
    "print(\"Precision:\", precision_stacking_top2)\n"
   ]
  }
 ],
 "metadata": {
  "kernelspec": {
   "display_name": "tf",
   "language": "python",
   "name": "python3"
  },
  "language_info": {
   "codemirror_mode": {
    "name": "ipython",
    "version": 3
   },
   "file_extension": ".py",
   "mimetype": "text/x-python",
   "name": "python",
   "nbconvert_exporter": "python",
   "pygments_lexer": "ipython3",
   "version": "3.7.16"
  }
 },
 "nbformat": 4,
 "nbformat_minor": 2
}
