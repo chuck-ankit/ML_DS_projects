{
 "cells": [
  {
   "cell_type": "markdown",
   "metadata": {},
   "source": [
    "Importing Liabraries:"
   ]
  },
  {
   "cell_type": "code",
   "execution_count": 2,
   "metadata": {},
   "outputs": [],
   "source": [
    "import numpy as np\n",
    "import pandas as pd\n",
    "import os\n",
    "\n",
    "import xgboost\n",
    "\n",
    "import matplotlib.pyplot as plt\n",
    "import matplotlib.colors\n",
    "import seaborn as sns\n",
    "\n",
    "from sklearn.preprocessing import OneHotEncoder, LabelEncoder\n",
    "from sklearn.feature_selection import SelectKBest\n",
    "from sklearn.impute import SimpleImputer\n",
    "from sklearn.experimental import enable_iterative_imputer\n",
    "from sklearn.impute import IterativeImputer\n",
    "\n",
    "from sklearn.model_selection import train_test_split\n",
    "from sklearn.linear_model import LinearRegression, LogisticRegression\n",
    "from sklearn.svm import SVC\n",
    "from sklearn.ensemble import GradientBoostingClassifier, RandomForestClassifier, AdaBoostClassifier\n",
    "from sklearn.tree import DecisionTreeClassifier\n",
    "from sklearn.metrics import accuracy_score, precision_score, confusion_matrix\n",
    "from sklearn.preprocessing import StandardScaler\n",
    "\n",
    "from tensorflow.keras.models import Sequential\n",
    "from keras.layers import Dense, Dropout, Flatten\n",
    "from keras.layers.convolutional import Conv1D, MaxPooling1D\n",
    "from keras.utils import to_categorical\n"
   ]
  },
  {
   "cell_type": "markdown",
   "metadata": {},
   "source": [
    "Importing datasets:"
   ]
  },
  {
   "cell_type": "code",
   "execution_count": 3,
   "metadata": {},
   "outputs": [
    {
     "name": "stderr",
     "output_type": "stream",
     "text": [
      "C:\\Users\\ankit\\AppData\\Local\\Temp\\ipykernel_12892\\3782808368.py:1: DtypeWarning: Columns (11,12,89,98,109) have mixed types. Specify dtype option on import or set low_memory=False.\n",
      "  data = pd.read_csv(\"dataset/data.csv\")\n"
     ]
    },
    {
     "data": {
      "text/html": [
       "<div>\n",
       "<style scoped>\n",
       "    .dataframe tbody tr th:only-of-type {\n",
       "        vertical-align: middle;\n",
       "    }\n",
       "\n",
       "    .dataframe tbody tr th {\n",
       "        vertical-align: top;\n",
       "    }\n",
       "\n",
       "    .dataframe thead th {\n",
       "        text-align: right;\n",
       "    }\n",
       "</style>\n",
       "<table border=\"1\" class=\"dataframe\">\n",
       "  <thead>\n",
       "    <tr style=\"text-align: right;\">\n",
       "      <th></th>\n",
       "      <th>Y</th>\n",
       "      <th>X2</th>\n",
       "      <th>X3</th>\n",
       "      <th>X4</th>\n",
       "      <th>X5</th>\n",
       "      <th>X6</th>\n",
       "      <th>X7</th>\n",
       "      <th>X8</th>\n",
       "      <th>X9</th>\n",
       "      <th>X10</th>\n",
       "      <th>...</th>\n",
       "      <th>X103</th>\n",
       "      <th>X104</th>\n",
       "      <th>X105</th>\n",
       "      <th>X106</th>\n",
       "      <th>X107</th>\n",
       "      <th>X108</th>\n",
       "      <th>X109</th>\n",
       "      <th>X110</th>\n",
       "      <th>X111</th>\n",
       "      <th>Unnamed: 111</th>\n",
       "    </tr>\n",
       "  </thead>\n",
       "  <tbody>\n",
       "    <tr>\n",
       "      <th>0</th>\n",
       "      <td>0</td>\n",
       "      <td>EI</td>\n",
       "      <td>A</td>\n",
       "      <td>GA16</td>\n",
       "      <td>Z90</td>\n",
       "      <td>63670190</td>\n",
       "      <td>V99912</td>\n",
       "      <td>21800.0</td>\n",
       "      <td>GA16</td>\n",
       "      <td>2/28/2019 3:22</td>\n",
       "      <td>...</td>\n",
       "      <td>55.58</td>\n",
       "      <td>41.0</td>\n",
       "      <td>1.35</td>\n",
       "      <td>66.0</td>\n",
       "      <td>850.0</td>\n",
       "      <td>21.57</td>\n",
       "      <td>2022.0</td>\n",
       "      <td>70.0</td>\n",
       "      <td>-15.0</td>\n",
       "      <td>NaN</td>\n",
       "    </tr>\n",
       "    <tr>\n",
       "      <th>1</th>\n",
       "      <td>0</td>\n",
       "      <td>EI</td>\n",
       "      <td>A</td>\n",
       "      <td>MS02</td>\n",
       "      <td>Z90</td>\n",
       "      <td>63660171</td>\n",
       "      <td>V99932</td>\n",
       "      <td>21620.0</td>\n",
       "      <td>MS02</td>\n",
       "      <td>2/28/2019 2:28</td>\n",
       "      <td>...</td>\n",
       "      <td>57.70</td>\n",
       "      <td>43.0</td>\n",
       "      <td>1.33</td>\n",
       "      <td>66.0</td>\n",
       "      <td>850.0</td>\n",
       "      <td>21.40</td>\n",
       "      <td>1925.0</td>\n",
       "      <td>66.0</td>\n",
       "      <td>-20.0</td>\n",
       "      <td>NaN</td>\n",
       "    </tr>\n",
       "    <tr>\n",
       "      <th>2</th>\n",
       "      <td>0</td>\n",
       "      <td>EI</td>\n",
       "      <td>A</td>\n",
       "      <td>MS01</td>\n",
       "      <td>Z90</td>\n",
       "      <td>63580151</td>\n",
       "      <td>V99832</td>\n",
       "      <td>21910.0</td>\n",
       "      <td>MS01</td>\n",
       "      <td>2/28/2019 2:57</td>\n",
       "      <td>...</td>\n",
       "      <td>54.63</td>\n",
       "      <td>42.0</td>\n",
       "      <td>1.30</td>\n",
       "      <td>56.0</td>\n",
       "      <td>850.0</td>\n",
       "      <td>21.12</td>\n",
       "      <td>1656.0</td>\n",
       "      <td>72.0</td>\n",
       "      <td>-1.0</td>\n",
       "      <td>NaN</td>\n",
       "    </tr>\n",
       "    <tr>\n",
       "      <th>3</th>\n",
       "      <td>0</td>\n",
       "      <td>EI</td>\n",
       "      <td>A</td>\n",
       "      <td>GA16</td>\n",
       "      <td>Z90</td>\n",
       "      <td>63650291</td>\n",
       "      <td>V99916</td>\n",
       "      <td>21560.0</td>\n",
       "      <td>GA16</td>\n",
       "      <td>2/28/2019 2:59</td>\n",
       "      <td>...</td>\n",
       "      <td>55.46</td>\n",
       "      <td>41.0</td>\n",
       "      <td>1.35</td>\n",
       "      <td>49.0</td>\n",
       "      <td>850.0</td>\n",
       "      <td>21.33</td>\n",
       "      <td>1489.0</td>\n",
       "      <td>59.0</td>\n",
       "      <td>-20.0</td>\n",
       "      <td>NaN</td>\n",
       "    </tr>\n",
       "    <tr>\n",
       "      <th>4</th>\n",
       "      <td>0</td>\n",
       "      <td>EI</td>\n",
       "      <td>A</td>\n",
       "      <td>GA16</td>\n",
       "      <td>Z90</td>\n",
       "      <td>63650301</td>\n",
       "      <td>V99897</td>\n",
       "      <td>21510.0</td>\n",
       "      <td>GA16</td>\n",
       "      <td>2/28/2019 2:34</td>\n",
       "      <td>...</td>\n",
       "      <td>54.62</td>\n",
       "      <td>41.0</td>\n",
       "      <td>1.33</td>\n",
       "      <td>49.0</td>\n",
       "      <td>850.0</td>\n",
       "      <td>21.26</td>\n",
       "      <td>1480.0</td>\n",
       "      <td>63.0</td>\n",
       "      <td>-14.0</td>\n",
       "      <td>NaN</td>\n",
       "    </tr>\n",
       "    <tr>\n",
       "      <th>...</th>\n",
       "      <td>...</td>\n",
       "      <td>...</td>\n",
       "      <td>...</td>\n",
       "      <td>...</td>\n",
       "      <td>...</td>\n",
       "      <td>...</td>\n",
       "      <td>...</td>\n",
       "      <td>...</td>\n",
       "      <td>...</td>\n",
       "      <td>...</td>\n",
       "      <td>...</td>\n",
       "      <td>...</td>\n",
       "      <td>...</td>\n",
       "      <td>...</td>\n",
       "      <td>...</td>\n",
       "      <td>...</td>\n",
       "      <td>...</td>\n",
       "      <td>...</td>\n",
       "      <td>...</td>\n",
       "      <td>...</td>\n",
       "      <td>...</td>\n",
       "    </tr>\n",
       "    <tr>\n",
       "      <th>25713</th>\n",
       "      <td>0</td>\n",
       "      <td>EI</td>\n",
       "      <td>A</td>\n",
       "      <td>GAF3</td>\n",
       "      <td>Z60</td>\n",
       "      <td>K045740101</td>\n",
       "      <td>A232148</td>\n",
       "      <td>23400.0</td>\n",
       "      <td>GAF3</td>\n",
       "      <td>2/27/2020 2:07</td>\n",
       "      <td>...</td>\n",
       "      <td>46.49</td>\n",
       "      <td>52.0</td>\n",
       "      <td>0.89</td>\n",
       "      <td>112.0</td>\n",
       "      <td>850.0</td>\n",
       "      <td>22.97</td>\n",
       "      <td>3031.0</td>\n",
       "      <td>NaN</td>\n",
       "      <td>NaN</td>\n",
       "      <td>NaN</td>\n",
       "    </tr>\n",
       "    <tr>\n",
       "      <th>25714</th>\n",
       "      <td>0</td>\n",
       "      <td>EI</td>\n",
       "      <td>A</td>\n",
       "      <td>GAF3</td>\n",
       "      <td>Z60</td>\n",
       "      <td>K045740130</td>\n",
       "      <td>A232148</td>\n",
       "      <td>23400.0</td>\n",
       "      <td>GAF3</td>\n",
       "      <td>2/27/2020 1:59</td>\n",
       "      <td>...</td>\n",
       "      <td>46.49</td>\n",
       "      <td>52.0</td>\n",
       "      <td>0.89</td>\n",
       "      <td>112.0</td>\n",
       "      <td>850.0</td>\n",
       "      <td>22.97</td>\n",
       "      <td>3018.0</td>\n",
       "      <td>NaN</td>\n",
       "      <td>NaN</td>\n",
       "      <td>NaN</td>\n",
       "    </tr>\n",
       "    <tr>\n",
       "      <th>25715</th>\n",
       "      <td>0</td>\n",
       "      <td>EI</td>\n",
       "      <td>A</td>\n",
       "      <td>GAF3</td>\n",
       "      <td>Z60</td>\n",
       "      <td>K044980101</td>\n",
       "      <td>A230922</td>\n",
       "      <td>24070.0</td>\n",
       "      <td>GAF3</td>\n",
       "      <td>2/27/2020 2:56</td>\n",
       "      <td>...</td>\n",
       "      <td>51.24</td>\n",
       "      <td>51.0</td>\n",
       "      <td>1.01</td>\n",
       "      <td>99.0</td>\n",
       "      <td>850.0</td>\n",
       "      <td>23.75</td>\n",
       "      <td>2815.0</td>\n",
       "      <td>NaN</td>\n",
       "      <td>NaN</td>\n",
       "      <td>NaN</td>\n",
       "    </tr>\n",
       "    <tr>\n",
       "      <th>25716</th>\n",
       "      <td>0</td>\n",
       "      <td>EI</td>\n",
       "      <td>A</td>\n",
       "      <td>GA14</td>\n",
       "      <td>Z60</td>\n",
       "      <td>79140221</td>\n",
       "      <td>V14845</td>\n",
       "      <td>23630.0</td>\n",
       "      <td>GA14</td>\n",
       "      <td>3/15/2020 14:41</td>\n",
       "      <td>...</td>\n",
       "      <td>48.61</td>\n",
       "      <td>48.0</td>\n",
       "      <td>1.01</td>\n",
       "      <td>99.0</td>\n",
       "      <td>850.0</td>\n",
       "      <td>22.77</td>\n",
       "      <td>2847.0</td>\n",
       "      <td>57.0</td>\n",
       "      <td>-1.0</td>\n",
       "      <td>NaN</td>\n",
       "    </tr>\n",
       "    <tr>\n",
       "      <th>25717</th>\n",
       "      <td>0</td>\n",
       "      <td>EI</td>\n",
       "      <td>A</td>\n",
       "      <td>GA14</td>\n",
       "      <td>Z60</td>\n",
       "      <td>79140221</td>\n",
       "      <td>V14845</td>\n",
       "      <td>NaN</td>\n",
       "      <td>GA14</td>\n",
       "      <td>3/15/2020 14:41</td>\n",
       "      <td>...</td>\n",
       "      <td>48.61</td>\n",
       "      <td>48.0</td>\n",
       "      <td>1.01</td>\n",
       "      <td>99.0</td>\n",
       "      <td>850.0</td>\n",
       "      <td>22.77</td>\n",
       "      <td>2847.0</td>\n",
       "      <td>57.0</td>\n",
       "      <td>-1.0</td>\n",
       "      <td>NaN</td>\n",
       "    </tr>\n",
       "  </tbody>\n",
       "</table>\n",
       "<p>25718 rows × 112 columns</p>\n",
       "</div>"
      ],
      "text/plain": [
       "       Y  X2 X3    X4   X5          X6       X7       X8    X9  \\\n",
       "0      0  EI  A  GA16  Z90    63670190   V99912  21800.0  GA16   \n",
       "1      0  EI  A  MS02  Z90    63660171   V99932  21620.0  MS02   \n",
       "2      0  EI  A  MS01  Z90    63580151   V99832  21910.0  MS01   \n",
       "3      0  EI  A  GA16  Z90    63650291   V99916  21560.0  GA16   \n",
       "4      0  EI  A  GA16  Z90    63650301   V99897  21510.0  GA16   \n",
       "...   ..  .. ..   ...  ...         ...      ...      ...   ...   \n",
       "25713  0  EI  A  GAF3  Z60  K045740101  A232148  23400.0  GAF3   \n",
       "25714  0  EI  A  GAF3  Z60  K045740130  A232148  23400.0  GAF3   \n",
       "25715  0  EI  A  GAF3  Z60  K044980101  A230922  24070.0  GAF3   \n",
       "25716  0  EI  A  GA14  Z60    79140221   V14845  23630.0  GA14   \n",
       "25717  0  EI  A  GA14  Z60    79140221   V14845      NaN  GA14   \n",
       "\n",
       "                   X10  ...   X103  X104  X105   X106   X107   X108    X109  \\\n",
       "0       2/28/2019 3:22  ...  55.58  41.0  1.35   66.0  850.0  21.57  2022.0   \n",
       "1       2/28/2019 2:28  ...  57.70  43.0  1.33   66.0  850.0  21.40  1925.0   \n",
       "2       2/28/2019 2:57  ...  54.63  42.0  1.30   56.0  850.0  21.12  1656.0   \n",
       "3       2/28/2019 2:59  ...  55.46  41.0  1.35   49.0  850.0  21.33  1489.0   \n",
       "4       2/28/2019 2:34  ...  54.62  41.0  1.33   49.0  850.0  21.26  1480.0   \n",
       "...                ...  ...    ...   ...   ...    ...    ...    ...     ...   \n",
       "25713   2/27/2020 2:07  ...  46.49  52.0  0.89  112.0  850.0  22.97  3031.0   \n",
       "25714   2/27/2020 1:59  ...  46.49  52.0  0.89  112.0  850.0  22.97  3018.0   \n",
       "25715   2/27/2020 2:56  ...  51.24  51.0  1.01   99.0  850.0  23.75  2815.0   \n",
       "25716  3/15/2020 14:41  ...  48.61  48.0  1.01   99.0  850.0  22.77  2847.0   \n",
       "25717  3/15/2020 14:41  ...  48.61  48.0  1.01   99.0  850.0  22.77  2847.0   \n",
       "\n",
       "       X110  X111  Unnamed: 111  \n",
       "0      70.0 -15.0           NaN  \n",
       "1      66.0 -20.0           NaN  \n",
       "2      72.0  -1.0           NaN  \n",
       "3      59.0 -20.0           NaN  \n",
       "4      63.0 -14.0           NaN  \n",
       "...     ...   ...           ...  \n",
       "25713   NaN   NaN           NaN  \n",
       "25714   NaN   NaN           NaN  \n",
       "25715   NaN   NaN           NaN  \n",
       "25716  57.0  -1.0           NaN  \n",
       "25717  57.0  -1.0           NaN  \n",
       "\n",
       "[25718 rows x 112 columns]"
      ]
     },
     "execution_count": 3,
     "metadata": {},
     "output_type": "execute_result"
    }
   ],
   "source": [
    "data = pd.read_csv(\"dataset/data.csv\")\n",
    "data"
   ]
  },
  {
   "cell_type": "markdown",
   "metadata": {},
   "source": [
    "Data Preprocessing:"
   ]
  },
  {
   "cell_type": "code",
   "execution_count": 3,
   "metadata": {},
   "outputs": [
    {
     "data": {
      "text/plain": [
       "(25718, 112)"
      ]
     },
     "execution_count": 3,
     "metadata": {},
     "output_type": "execute_result"
    }
   ],
   "source": [
    "data.shape"
   ]
  },
  {
   "cell_type": "code",
   "execution_count": 4,
   "metadata": {},
   "outputs": [
    {
     "data": {
      "text/plain": [
       "79934"
      ]
     },
     "execution_count": 4,
     "metadata": {},
     "output_type": "execute_result"
    }
   ],
   "source": [
    "data.isna().sum().sum()\n"
   ]
  },
  {
   "cell_type": "code",
   "execution_count": 5,
   "metadata": {},
   "outputs": [
    {
     "data": {
      "text/plain": [
       "Index(['Y', 'X2', 'X3', 'X4', 'X5', 'X6', 'X7', 'X8', 'X9', 'X10',\n",
       "       ...\n",
       "       'X103', 'X104', 'X105', 'X106', 'X107', 'X108', 'X109', 'X110', 'X111',\n",
       "       'Unnamed: 111'],\n",
       "      dtype='object', length=112)"
      ]
     },
     "execution_count": 5,
     "metadata": {},
     "output_type": "execute_result"
    }
   ],
   "source": [
    "data.columns"
   ]
  },
  {
   "cell_type": "code",
   "execution_count": 6,
   "metadata": {},
   "outputs": [
    {
     "data": {
      "text/plain": [
       "0    25384\n",
       "1      334\n",
       "Name: Y, dtype: int64"
      ]
     },
     "execution_count": 6,
     "metadata": {},
     "output_type": "execute_result"
    }
   ],
   "source": [
    "data['Y'].value_counts()"
   ]
  },
  {
   "cell_type": "code",
   "execution_count": 7,
   "metadata": {},
   "outputs": [
    {
     "name": "stdout",
     "output_type": "stream",
     "text": [
      "Persentage of Y: \n",
      "\n"
     ]
    },
    {
     "data": {
      "text/plain": [
       "0    98.701299\n",
       "1     1.298701\n",
       "Name: Y, dtype: float64"
      ]
     },
     "execution_count": 7,
     "metadata": {},
     "output_type": "execute_result"
    }
   ],
   "source": [
    "print(\"Persentage of Y: \\n\")\n",
    "data['Y'].value_counts()/len(data['Y'])*100"
   ]
  },
  {
   "cell_type": "code",
   "execution_count": 8,
   "metadata": {},
   "outputs": [
    {
     "name": "stdout",
     "output_type": "stream",
     "text": [
      "Imbalance ratio for Y: 0.013157894736842105\n"
     ]
    }
   ],
   "source": [
    "# Given value counts for y\n",
    "value_counts_y = {'0': 25384, '1': 334}  # Replace with your actual value counts\n",
    "\n",
    "# Extract counts for each class\n",
    "count_class_0 = value_counts_y['0']\n",
    "count_class_1 = value_counts_y['1']\n",
    "\n",
    "# Calculate the imbalance ratio\n",
    "imbalance_ratio = count_class_1 / count_class_0\n",
    "print(\"Imbalance ratio for Y:\", imbalance_ratio)\n"
   ]
  },
  {
   "cell_type": "code",
   "execution_count": 9,
   "metadata": {},
   "outputs": [
    {
     "data": {
      "text/html": [
       "<div>\n",
       "<style scoped>\n",
       "    .dataframe tbody tr th:only-of-type {\n",
       "        vertical-align: middle;\n",
       "    }\n",
       "\n",
       "    .dataframe tbody tr th {\n",
       "        vertical-align: top;\n",
       "    }\n",
       "\n",
       "    .dataframe thead th {\n",
       "        text-align: right;\n",
       "    }\n",
       "</style>\n",
       "<table border=\"1\" class=\"dataframe\">\n",
       "  <thead>\n",
       "    <tr style=\"text-align: right;\">\n",
       "      <th></th>\n",
       "      <th>Y</th>\n",
       "      <th>X8</th>\n",
       "      <th>X14</th>\n",
       "      <th>X15</th>\n",
       "      <th>X16</th>\n",
       "      <th>X17</th>\n",
       "      <th>X18</th>\n",
       "      <th>X19</th>\n",
       "      <th>X20</th>\n",
       "      <th>X21</th>\n",
       "      <th>...</th>\n",
       "      <th>X102</th>\n",
       "      <th>X103</th>\n",
       "      <th>X104</th>\n",
       "      <th>X105</th>\n",
       "      <th>X106</th>\n",
       "      <th>X107</th>\n",
       "      <th>X108</th>\n",
       "      <th>X109</th>\n",
       "      <th>X111</th>\n",
       "      <th>Unnamed: 111</th>\n",
       "    </tr>\n",
       "  </thead>\n",
       "  <tbody>\n",
       "    <tr>\n",
       "      <th>count</th>\n",
       "      <td>25718.000000</td>\n",
       "      <td>16749.000000</td>\n",
       "      <td>24031.000000</td>\n",
       "      <td>24031.000000</td>\n",
       "      <td>24031.000000</td>\n",
       "      <td>24031.000000</td>\n",
       "      <td>25717.000000</td>\n",
       "      <td>25717.000000</td>\n",
       "      <td>25676.000000</td>\n",
       "      <td>25717.000000</td>\n",
       "      <td>...</td>\n",
       "      <td>16898.000000</td>\n",
       "      <td>25618.000000</td>\n",
       "      <td>25717.000000</td>\n",
       "      <td>25676.000000</td>\n",
       "      <td>25717.000000</td>\n",
       "      <td>25717.000000</td>\n",
       "      <td>25536.000000</td>\n",
       "      <td>25717.000000</td>\n",
       "      <td>21099.000000</td>\n",
       "      <td>146.000000</td>\n",
       "    </tr>\n",
       "    <tr>\n",
       "      <th>mean</th>\n",
       "      <td>0.012987</td>\n",
       "      <td>23847.007762</td>\n",
       "      <td>4.456650</td>\n",
       "      <td>6.533006</td>\n",
       "      <td>8.409460</td>\n",
       "      <td>11.471132</td>\n",
       "      <td>1.000726</td>\n",
       "      <td>1277.485632</td>\n",
       "      <td>100.199330</td>\n",
       "      <td>19.594237</td>\n",
       "      <td>...</td>\n",
       "      <td>101.597239</td>\n",
       "      <td>55.756477</td>\n",
       "      <td>54.504638</td>\n",
       "      <td>1.407579</td>\n",
       "      <td>101.077595</td>\n",
       "      <td>785.999844</td>\n",
       "      <td>23.184102</td>\n",
       "      <td>2670.035290</td>\n",
       "      <td>-8.358406</td>\n",
       "      <td>-10.773973</td>\n",
       "    </tr>\n",
       "    <tr>\n",
       "      <th>std</th>\n",
       "      <td>0.113220</td>\n",
       "      <td>2300.886551</td>\n",
       "      <td>1.200804</td>\n",
       "      <td>1.026158</td>\n",
       "      <td>1.068786</td>\n",
       "      <td>0.775478</td>\n",
       "      <td>0.399129</td>\n",
       "      <td>121.776679</td>\n",
       "      <td>27.702281</td>\n",
       "      <td>101.206904</td>\n",
       "      <td>...</td>\n",
       "      <td>53.389565</td>\n",
       "      <td>14.678799</td>\n",
       "      <td>9.759614</td>\n",
       "      <td>4.738860</td>\n",
       "      <td>32.518569</td>\n",
       "      <td>81.359187</td>\n",
       "      <td>2.215693</td>\n",
       "      <td>1023.158162</td>\n",
       "      <td>623.163392</td>\n",
       "      <td>24.127183</td>\n",
       "    </tr>\n",
       "    <tr>\n",
       "      <th>min</th>\n",
       "      <td>0.000000</td>\n",
       "      <td>7932.000000</td>\n",
       "      <td>0.000000</td>\n",
       "      <td>0.000000</td>\n",
       "      <td>0.000000</td>\n",
       "      <td>0.000000</td>\n",
       "      <td>0.420000</td>\n",
       "      <td>1000.000000</td>\n",
       "      <td>24.000000</td>\n",
       "      <td>2.000000</td>\n",
       "      <td>...</td>\n",
       "      <td>-83.000000</td>\n",
       "      <td>12.810000</td>\n",
       "      <td>31.750000</td>\n",
       "      <td>0.250000</td>\n",
       "      <td>0.660000</td>\n",
       "      <td>45.000000</td>\n",
       "      <td>6.380000</td>\n",
       "      <td>15.490000</td>\n",
       "      <td>-5828.000000</td>\n",
       "      <td>-55.000000</td>\n",
       "    </tr>\n",
       "    <tr>\n",
       "      <th>25%</th>\n",
       "      <td>0.000000</td>\n",
       "      <td>22520.000000</td>\n",
       "      <td>3.650000</td>\n",
       "      <td>5.840000</td>\n",
       "      <td>7.850000</td>\n",
       "      <td>10.950000</td>\n",
       "      <td>0.700000</td>\n",
       "      <td>1220.000000</td>\n",
       "      <td>81.000000</td>\n",
       "      <td>10.000000</td>\n",
       "      <td>...</td>\n",
       "      <td>98.000000</td>\n",
       "      <td>45.480000</td>\n",
       "      <td>47.000000</td>\n",
       "      <td>0.910000</td>\n",
       "      <td>75.000000</td>\n",
       "      <td>730.000000</td>\n",
       "      <td>22.290000</td>\n",
       "      <td>1879.000000</td>\n",
       "      <td>-36.000000</td>\n",
       "      <td>-27.000000</td>\n",
       "    </tr>\n",
       "    <tr>\n",
       "      <th>50%</th>\n",
       "      <td>0.000000</td>\n",
       "      <td>23900.000000</td>\n",
       "      <td>4.560000</td>\n",
       "      <td>6.570000</td>\n",
       "      <td>8.400000</td>\n",
       "      <td>11.320000</td>\n",
       "      <td>0.850000</td>\n",
       "      <td>1250.000000</td>\n",
       "      <td>97.000000</td>\n",
       "      <td>14.000000</td>\n",
       "      <td>...</td>\n",
       "      <td>100.000000</td>\n",
       "      <td>54.260000</td>\n",
       "      <td>52.000000</td>\n",
       "      <td>1.030000</td>\n",
       "      <td>99.000000</td>\n",
       "      <td>830.000000</td>\n",
       "      <td>23.130000</td>\n",
       "      <td>2644.000000</td>\n",
       "      <td>-18.000000</td>\n",
       "      <td>-14.000000</td>\n",
       "    </tr>\n",
       "    <tr>\n",
       "      <th>75%</th>\n",
       "      <td>0.000000</td>\n",
       "      <td>25320.000000</td>\n",
       "      <td>5.110000</td>\n",
       "      <td>7.300000</td>\n",
       "      <td>9.130000</td>\n",
       "      <td>12.040000</td>\n",
       "      <td>1.200000</td>\n",
       "      <td>1365.000000</td>\n",
       "      <td>120.000000</td>\n",
       "      <td>23.000000</td>\n",
       "      <td>...</td>\n",
       "      <td>100.000000</td>\n",
       "      <td>67.710000</td>\n",
       "      <td>66.000000</td>\n",
       "      <td>1.140000</td>\n",
       "      <td>131.000000</td>\n",
       "      <td>850.000000</td>\n",
       "      <td>24.600000</td>\n",
       "      <td>3368.000000</td>\n",
       "      <td>0.000000</td>\n",
       "      <td>2.000000</td>\n",
       "    </tr>\n",
       "    <tr>\n",
       "      <th>max</th>\n",
       "      <td>1.000000</td>\n",
       "      <td>29000.000000</td>\n",
       "      <td>40.020000</td>\n",
       "      <td>10.040000</td>\n",
       "      <td>11.320000</td>\n",
       "      <td>13.690000</td>\n",
       "      <td>2.038000</td>\n",
       "      <td>1535.000000</td>\n",
       "      <td>150.000000</td>\n",
       "      <td>9860.000000</td>\n",
       "      <td>...</td>\n",
       "      <td>720.000000</td>\n",
       "      <td>100.000000</td>\n",
       "      <td>84.780000</td>\n",
       "      <td>66.000000</td>\n",
       "      <td>150.000000</td>\n",
       "      <td>850.000000</td>\n",
       "      <td>27.970000</td>\n",
       "      <td>6104.000000</td>\n",
       "      <td>6005.000000</td>\n",
       "      <td>57.000000</td>\n",
       "    </tr>\n",
       "  </tbody>\n",
       "</table>\n",
       "<p>8 rows × 98 columns</p>\n",
       "</div>"
      ],
      "text/plain": [
       "                  Y            X8           X14           X15           X16  \\\n",
       "count  25718.000000  16749.000000  24031.000000  24031.000000  24031.000000   \n",
       "mean       0.012987  23847.007762      4.456650      6.533006      8.409460   \n",
       "std        0.113220   2300.886551      1.200804      1.026158      1.068786   \n",
       "min        0.000000   7932.000000      0.000000      0.000000      0.000000   \n",
       "25%        0.000000  22520.000000      3.650000      5.840000      7.850000   \n",
       "50%        0.000000  23900.000000      4.560000      6.570000      8.400000   \n",
       "75%        0.000000  25320.000000      5.110000      7.300000      9.130000   \n",
       "max        1.000000  29000.000000     40.020000     10.040000     11.320000   \n",
       "\n",
       "                X17           X18           X19           X20           X21  \\\n",
       "count  24031.000000  25717.000000  25717.000000  25676.000000  25717.000000   \n",
       "mean      11.471132      1.000726   1277.485632    100.199330     19.594237   \n",
       "std        0.775478      0.399129    121.776679     27.702281    101.206904   \n",
       "min        0.000000      0.420000   1000.000000     24.000000      2.000000   \n",
       "25%       10.950000      0.700000   1220.000000     81.000000     10.000000   \n",
       "50%       11.320000      0.850000   1250.000000     97.000000     14.000000   \n",
       "75%       12.040000      1.200000   1365.000000    120.000000     23.000000   \n",
       "max       13.690000      2.038000   1535.000000    150.000000   9860.000000   \n",
       "\n",
       "       ...          X102          X103          X104          X105  \\\n",
       "count  ...  16898.000000  25618.000000  25717.000000  25676.000000   \n",
       "mean   ...    101.597239     55.756477     54.504638      1.407579   \n",
       "std    ...     53.389565     14.678799      9.759614      4.738860   \n",
       "min    ...    -83.000000     12.810000     31.750000      0.250000   \n",
       "25%    ...     98.000000     45.480000     47.000000      0.910000   \n",
       "50%    ...    100.000000     54.260000     52.000000      1.030000   \n",
       "75%    ...    100.000000     67.710000     66.000000      1.140000   \n",
       "max    ...    720.000000    100.000000     84.780000     66.000000   \n",
       "\n",
       "               X106          X107          X108          X109          X111  \\\n",
       "count  25717.000000  25717.000000  25536.000000  25717.000000  21099.000000   \n",
       "mean     101.077595    785.999844     23.184102   2670.035290     -8.358406   \n",
       "std       32.518569     81.359187      2.215693   1023.158162    623.163392   \n",
       "min        0.660000     45.000000      6.380000     15.490000  -5828.000000   \n",
       "25%       75.000000    730.000000     22.290000   1879.000000    -36.000000   \n",
       "50%       99.000000    830.000000     23.130000   2644.000000    -18.000000   \n",
       "75%      131.000000    850.000000     24.600000   3368.000000      0.000000   \n",
       "max      150.000000    850.000000     27.970000   6104.000000   6005.000000   \n",
       "\n",
       "       Unnamed: 111  \n",
       "count    146.000000  \n",
       "mean     -10.773973  \n",
       "std       24.127183  \n",
       "min      -55.000000  \n",
       "25%      -27.000000  \n",
       "50%      -14.000000  \n",
       "75%        2.000000  \n",
       "max       57.000000  \n",
       "\n",
       "[8 rows x 98 columns]"
      ]
     },
     "execution_count": 9,
     "metadata": {},
     "output_type": "execute_result"
    }
   ],
   "source": [
    "data.describe()"
   ]
  },
  {
   "cell_type": "code",
   "execution_count": 10,
   "metadata": {},
   "outputs": [
    {
     "data": {
      "text/plain": [
       "Text(0.5, 1.0, 'Count of the Y')"
      ]
     },
     "execution_count": 10,
     "metadata": {},
     "output_type": "execute_result"
    },
    {
     "data": {
      "image/png": "[encoded data removed]",
      "text/plain": [
       "<Figure size 800x600 with 1 Axes>"
      ]
     },
     "metadata": {},
     "output_type": "display_data"
    }
   ],
   "source": [
    "data['Y'].value_counts().plot(kind='barh', figsize=(8,6))\n",
    "plt.xlabel(\"Count\", labelpad=15)\n",
    "plt.ylabel(\"Y\", labelpad=15)\n",
    "plt.title(\"Count of the Y\")"
   ]
  },
  {
   "cell_type": "markdown",
   "metadata": {},
   "source": [
    "<b><li>List of columns with more than 50% missing values"
   ]
  },
  {
   "cell_type": "code",
   "execution_count": 11,
   "metadata": {},
   "outputs": [
    {
     "name": "stdout",
     "output_type": "stream",
     "text": [
      "Columns with more than 50% missing values:\n",
      "['Unnamed: 111']\n"
     ]
    }
   ],
   "source": [
    "def columns_with_missing_data(df):\n",
    "    missing_data_threshold = len(df) * 0.5  # 50% threshold\n",
    "    missing_columns = []\n",
    "    for column in df.columns:\n",
    "        if df[column].isnull().sum() > missing_data_threshold:\n",
    "            missing_columns.append(column)\n",
    "    return missing_columns\n",
    "\n",
    "missing_columns = columns_with_missing_data(data)\n",
    "print(\"Columns with more than 50% missing values:\")\n",
    "print(missing_columns)"
   ]
  },
  {
   "cell_type": "markdown",
   "metadata": {},
   "source": [
    "Droping the columns with missing data greater than 50%"
   ]
  },
  {
   "cell_type": "code",
   "execution_count": 12,
   "metadata": {},
   "outputs": [],
   "source": [
    "data.drop(columns=missing_columns,inplace=True)"
   ]
  },
  {
   "cell_type": "markdown",
   "metadata": {},
   "source": [
    "Handling the Categorical data:"
   ]
  },
  {
   "cell_type": "code",
   "execution_count": 13,
   "metadata": {},
   "outputs": [
    {
     "name": "stdout",
     "output_type": "stream",
     "text": [
      "['X2', 'X3', 'X4', 'X5', 'X6', 'X7', 'X9', 'X10', 'X11', 'X12', 'X13', 'X90', 'X99', 'X110']\n",
      "14\n"
     ]
    }
   ],
   "source": [
    "categoriacal_cols = []\n",
    "for cols in data.columns:\n",
    "    if(data[cols].dtype == 'object'):\n",
    "        categoriacal_cols.append(cols)\n",
    "print(categoriacal_cols)\n",
    "print(len(categoriacal_cols))"
   ]
  },
  {
   "cell_type": "code",
   "execution_count": 14,
   "metadata": {},
   "outputs": [
    {
     "name": "stdout",
     "output_type": "stream",
     "text": [
      "Number of unique values in each categorical column:\n",
      "X2          6\n",
      "X3          2\n",
      "X4         91\n",
      "X5         11\n",
      "X6      16499\n",
      "X7       4343\n",
      "X9        212\n",
      "X10     16612\n",
      "X11     25717\n",
      "X12       114\n",
      "X13       134\n",
      "X90      4653\n",
      "X99       778\n",
      "X110      878\n",
      "dtype: int64\n"
     ]
    }
   ],
   "source": [
    "#Unique Values in each categorical columns in the dataset\n",
    "unique_counts = data[categoriacal_cols].nunique()\n",
    "print(\"Number of unique values in each categorical column:\")\n",
    "print(unique_counts)"
   ]
  },
  {
   "cell_type": "markdown",
   "metadata": {},
   "source": [
    "<b>Given the number of unique values in each categorical column Here are the algorithms we are using for encoding them:</b>\n",
    "\n",
    "<ol>\n",
    "<li>label_columns = ['X2', 'X3', 'X4', 'X5', 'X6', 'X7', 'X9', 'X10', 'X11']\n",
    "<li>frequency_columns = ['X12', 'X13', 'X90', 'X99', 'X110']\n",
    "</ol>"
   ]
  },
  {
   "cell_type": "code",
   "execution_count": 15,
   "metadata": {},
   "outputs": [],
   "source": [
    "# Define categorical columns for each approach\n",
    "label_columns = ['X2', 'X3', 'X4', 'X5', 'X6', 'X7', 'X9', 'X10', 'X11']\n",
    "frequency_columns = ['X12', 'X13', 'X90', 'X99', 'X110']\n",
    "\n",
    "# Label Encoding\n",
    "label_encoded_data = data[label_columns].copy()\n",
    "for col in label_columns:\n",
    "    le = LabelEncoder()\n",
    "    label_encoded_data[col] = le.fit_transform(label_encoded_data[col])\n",
    "\n",
    "# Frequency Encoding\n",
    "frequency_encoded_data = data[frequency_columns].copy()\n",
    "for col in frequency_columns:\n",
    "    frequency_encoded_data[col] = data[col].map(data[col].value_counts(normalize=True))\n",
    "\n",
    "# Combine the encoded data with the remaining data from the original dataset\n",
    "encoded_data = pd.concat([data.drop(columns=label_columns + frequency_columns),label_encoded_data, frequency_encoded_data], axis=1)"
   ]
  },
  {
   "cell_type": "code",
   "execution_count": 16,
   "metadata": {},
   "outputs": [
    {
     "data": {
      "text/html": [
       "<div>\n",
       "<style scoped>\n",
       "    .dataframe tbody tr th:only-of-type {\n",
       "        vertical-align: middle;\n",
       "    }\n",
       "\n",
       "    .dataframe tbody tr th {\n",
       "        vertical-align: top;\n",
       "    }\n",
       "\n",
       "    .dataframe thead th {\n",
       "        text-align: right;\n",
       "    }\n",
       "</style>\n",
       "<table border=\"1\" class=\"dataframe\">\n",
       "  <thead>\n",
       "    <tr style=\"text-align: right;\">\n",
       "      <th></th>\n",
       "      <th>Y</th>\n",
       "      <th>X8</th>\n",
       "      <th>X14</th>\n",
       "      <th>X15</th>\n",
       "      <th>X16</th>\n",
       "      <th>X17</th>\n",
       "      <th>X18</th>\n",
       "      <th>X19</th>\n",
       "      <th>X20</th>\n",
       "      <th>X21</th>\n",
       "      <th>...</th>\n",
       "      <th>X6</th>\n",
       "      <th>X7</th>\n",
       "      <th>X9</th>\n",
       "      <th>X10</th>\n",
       "      <th>X11</th>\n",
       "      <th>X12</th>\n",
       "      <th>X13</th>\n",
       "      <th>X90</th>\n",
       "      <th>X99</th>\n",
       "      <th>X110</th>\n",
       "    </tr>\n",
       "  </thead>\n",
       "  <tbody>\n",
       "    <tr>\n",
       "      <th>0</th>\n",
       "      <td>0</td>\n",
       "      <td>21800.0</td>\n",
       "      <td>NaN</td>\n",
       "      <td>NaN</td>\n",
       "      <td>NaN</td>\n",
       "      <td>NaN</td>\n",
       "      <td>1.2</td>\n",
       "      <td>1105.0</td>\n",
       "      <td>89.0</td>\n",
       "      <td>22.0</td>\n",
       "      <td>...</td>\n",
       "      <td>261</td>\n",
       "      <td>4334</td>\n",
       "      <td>149</td>\n",
       "      <td>5749</td>\n",
       "      <td>9195</td>\n",
       "      <td>NaN</td>\n",
       "      <td>NaN</td>\n",
       "      <td>0.000507</td>\n",
       "      <td>0.004985</td>\n",
       "      <td>0.017442</td>\n",
       "    </tr>\n",
       "    <tr>\n",
       "      <th>1</th>\n",
       "      <td>0</td>\n",
       "      <td>21620.0</td>\n",
       "      <td>NaN</td>\n",
       "      <td>NaN</td>\n",
       "      <td>NaN</td>\n",
       "      <td>NaN</td>\n",
       "      <td>1.2</td>\n",
       "      <td>1160.0</td>\n",
       "      <td>88.0</td>\n",
       "      <td>23.0</td>\n",
       "      <td>...</td>\n",
       "      <td>255</td>\n",
       "      <td>4341</td>\n",
       "      <td>209</td>\n",
       "      <td>5738</td>\n",
       "      <td>9196</td>\n",
       "      <td>NaN</td>\n",
       "      <td>NaN</td>\n",
       "      <td>0.000351</td>\n",
       "      <td>0.004985</td>\n",
       "      <td>0.015536</td>\n",
       "    </tr>\n",
       "    <tr>\n",
       "      <th>2</th>\n",
       "      <td>0</td>\n",
       "      <td>21910.0</td>\n",
       "      <td>NaN</td>\n",
       "      <td>NaN</td>\n",
       "      <td>NaN</td>\n",
       "      <td>NaN</td>\n",
       "      <td>1.4</td>\n",
       "      <td>1135.0</td>\n",
       "      <td>73.0</td>\n",
       "      <td>23.0</td>\n",
       "      <td>...</td>\n",
       "      <td>186</td>\n",
       "      <td>4325</td>\n",
       "      <td>208</td>\n",
       "      <td>5744</td>\n",
       "      <td>9221</td>\n",
       "      <td>NaN</td>\n",
       "      <td>NaN</td>\n",
       "      <td>0.000273</td>\n",
       "      <td>0.008664</td>\n",
       "      <td>0.014487</td>\n",
       "    </tr>\n",
       "    <tr>\n",
       "      <th>3</th>\n",
       "      <td>0</td>\n",
       "      <td>21560.0</td>\n",
       "      <td>NaN</td>\n",
       "      <td>NaN</td>\n",
       "      <td>NaN</td>\n",
       "      <td>NaN</td>\n",
       "      <td>1.6</td>\n",
       "      <td>1115.0</td>\n",
       "      <td>66.0</td>\n",
       "      <td>22.0</td>\n",
       "      <td>...</td>\n",
       "      <td>243</td>\n",
       "      <td>4335</td>\n",
       "      <td>149</td>\n",
       "      <td>5745</td>\n",
       "      <td>9222</td>\n",
       "      <td>NaN</td>\n",
       "      <td>NaN</td>\n",
       "      <td>0.000234</td>\n",
       "      <td>0.003264</td>\n",
       "      <td>0.013391</td>\n",
       "    </tr>\n",
       "    <tr>\n",
       "      <th>4</th>\n",
       "      <td>0</td>\n",
       "      <td>21510.0</td>\n",
       "      <td>NaN</td>\n",
       "      <td>NaN</td>\n",
       "      <td>NaN</td>\n",
       "      <td>NaN</td>\n",
       "      <td>1.6</td>\n",
       "      <td>1115.0</td>\n",
       "      <td>65.0</td>\n",
       "      <td>22.0</td>\n",
       "      <td>...</td>\n",
       "      <td>244</td>\n",
       "      <td>4330</td>\n",
       "      <td>149</td>\n",
       "      <td>5739</td>\n",
       "      <td>9223</td>\n",
       "      <td>NaN</td>\n",
       "      <td>NaN</td>\n",
       "      <td>0.000195</td>\n",
       "      <td>0.003264</td>\n",
       "      <td>0.016203</td>\n",
       "    </tr>\n",
       "  </tbody>\n",
       "</table>\n",
       "<p>5 rows × 111 columns</p>\n",
       "</div>"
      ],
      "text/plain": [
       "   Y       X8  X14  X15  X16  X17  X18     X19   X20   X21  ...   X6    X7  \\\n",
       "0  0  21800.0  NaN  NaN  NaN  NaN  1.2  1105.0  89.0  22.0  ...  261  4334   \n",
       "1  0  21620.0  NaN  NaN  NaN  NaN  1.2  1160.0  88.0  23.0  ...  255  4341   \n",
       "2  0  21910.0  NaN  NaN  NaN  NaN  1.4  1135.0  73.0  23.0  ...  186  4325   \n",
       "3  0  21560.0  NaN  NaN  NaN  NaN  1.6  1115.0  66.0  22.0  ...  243  4335   \n",
       "4  0  21510.0  NaN  NaN  NaN  NaN  1.6  1115.0  65.0  22.0  ...  244  4330   \n",
       "\n",
       "    X9   X10   X11  X12  X13       X90       X99      X110  \n",
       "0  149  5749  9195  NaN  NaN  0.000507  0.004985  0.017442  \n",
       "1  209  5738  9196  NaN  NaN  0.000351  0.004985  0.015536  \n",
       "2  208  5744  9221  NaN  NaN  0.000273  0.008664  0.014487  \n",
       "3  149  5745  9222  NaN  NaN  0.000234  0.003264  0.013391  \n",
       "4  149  5739  9223  NaN  NaN  0.000195  0.003264  0.016203  \n",
       "\n",
       "[5 rows x 111 columns]"
      ]
     },
     "execution_count": 16,
     "metadata": {},
     "output_type": "execute_result"
    }
   ],
   "source": [
    "encoded_data.head()"
   ]
  },
  {
   "cell_type": "code",
   "execution_count": 17,
   "metadata": {},
   "outputs": [
    {
     "name": "stdout",
     "output_type": "stream",
     "text": [
      "     Y       X8       X14       X15       X16        X17  X18     X19   X20  \\\n",
      "0  0.0  21800.0  4.697935  6.112189  8.198628  11.820297  1.2  1105.0  89.0   \n",
      "1  0.0  21620.0  4.673502  6.029752  8.132146  11.792031  1.2  1160.0  88.0   \n",
      "2  0.0  21910.0  4.566613  5.816809  7.979106  11.747175  1.4  1135.0  73.0   \n",
      "3  0.0  21560.0  4.652251  5.958843  8.097748  11.801473  1.6  1115.0  66.0   \n",
      "4  0.0  21510.0  4.596386  5.947676  8.125361  11.797278  1.6  1115.0  65.0   \n",
      "\n",
      "    X21  ...     X6      X7     X9     X10     X11       X12       X13  \\\n",
      "0  22.0  ...  261.0  4334.0  149.0  5749.0  9195.0  0.041259  0.033963   \n",
      "1  23.0  ...  255.0  4341.0  209.0  5738.0  9196.0  0.038728  0.035051   \n",
      "2  23.0  ...  186.0  4325.0  208.0  5744.0  9221.0  0.031911  0.034776   \n",
      "3  22.0  ...  243.0  4335.0  149.0  5745.0  9222.0  0.043007  0.036571   \n",
      "4  22.0  ...  244.0  4330.0  149.0  5739.0  9223.0  0.040466  0.035445   \n",
      "\n",
      "        X90       X99      X110  \n",
      "0  0.000507  0.004985  0.017442  \n",
      "1  0.000351  0.004985  0.015536  \n",
      "2  0.000273  0.008664  0.014487  \n",
      "3  0.000234  0.003264  0.013391  \n",
      "4  0.000195  0.003264  0.016203  \n",
      "\n",
      "[5 rows x 111 columns]\n"
     ]
    },
    {
     "name": "stderr",
     "output_type": "stream",
     "text": [
      "c:\\ProgramData\\anaconda3\\envs\\tf\\lib\\site-packages\\sklearn\\impute\\_iterative.py:701: ConvergenceWarning: [IterativeImputer] Early stopping criterion not reached.\n",
      "  ConvergenceWarning,\n"
     ]
    }
   ],
   "source": [
    "\n",
    "# Initialize the IterativeImputer\n",
    "imputer = IterativeImputer(random_state=0)\n",
    "\n",
    "# Fit and transform the imputer on the encoded data\n",
    "imputed_data = imputer.fit_transform(encoded_data)\n",
    "\n",
    "# Convert the imputed data back to a DataFrame\n",
    "imputed_encoded_data = pd.DataFrame(imputed_data, columns=encoded_data.columns)\n",
    "\n",
    "print(imputed_encoded_data.head())"
   ]
  },
  {
   "cell_type": "code",
   "execution_count": 18,
   "metadata": {},
   "outputs": [
    {
     "data": {
      "text/html": [
       "<div>\n",
       "<style scoped>\n",
       "    .dataframe tbody tr th:only-of-type {\n",
       "        vertical-align: middle;\n",
       "    }\n",
       "\n",
       "    .dataframe tbody tr th {\n",
       "        vertical-align: top;\n",
       "    }\n",
       "\n",
       "    .dataframe thead th {\n",
       "        text-align: right;\n",
       "    }\n",
       "</style>\n",
       "<table border=\"1\" class=\"dataframe\">\n",
       "  <thead>\n",
       "    <tr style=\"text-align: right;\">\n",
       "      <th></th>\n",
       "      <th>Y</th>\n",
       "      <th>X8</th>\n",
       "      <th>X14</th>\n",
       "      <th>X15</th>\n",
       "      <th>X16</th>\n",
       "      <th>X17</th>\n",
       "      <th>X18</th>\n",
       "      <th>X19</th>\n",
       "      <th>X20</th>\n",
       "      <th>X21</th>\n",
       "      <th>...</th>\n",
       "      <th>X6</th>\n",
       "      <th>X7</th>\n",
       "      <th>X9</th>\n",
       "      <th>X10</th>\n",
       "      <th>X11</th>\n",
       "      <th>X12</th>\n",
       "      <th>X13</th>\n",
       "      <th>X90</th>\n",
       "      <th>X99</th>\n",
       "      <th>X110</th>\n",
       "    </tr>\n",
       "  </thead>\n",
       "  <tbody>\n",
       "    <tr>\n",
       "      <th>0</th>\n",
       "      <td>0.0</td>\n",
       "      <td>21800.0</td>\n",
       "      <td>4.697935</td>\n",
       "      <td>6.112189</td>\n",
       "      <td>8.198628</td>\n",
       "      <td>11.820297</td>\n",
       "      <td>1.2</td>\n",
       "      <td>1105.0</td>\n",
       "      <td>89.0</td>\n",
       "      <td>22.0</td>\n",
       "      <td>...</td>\n",
       "      <td>261.0</td>\n",
       "      <td>4334.0</td>\n",
       "      <td>149.0</td>\n",
       "      <td>5749.0</td>\n",
       "      <td>9195.0</td>\n",
       "      <td>0.041259</td>\n",
       "      <td>0.033963</td>\n",
       "      <td>0.000507</td>\n",
       "      <td>0.004985</td>\n",
       "      <td>0.017442</td>\n",
       "    </tr>\n",
       "    <tr>\n",
       "      <th>1</th>\n",
       "      <td>0.0</td>\n",
       "      <td>21620.0</td>\n",
       "      <td>4.673502</td>\n",
       "      <td>6.029752</td>\n",
       "      <td>8.132146</td>\n",
       "      <td>11.792031</td>\n",
       "      <td>1.2</td>\n",
       "      <td>1160.0</td>\n",
       "      <td>88.0</td>\n",
       "      <td>23.0</td>\n",
       "      <td>...</td>\n",
       "      <td>255.0</td>\n",
       "      <td>4341.0</td>\n",
       "      <td>209.0</td>\n",
       "      <td>5738.0</td>\n",
       "      <td>9196.0</td>\n",
       "      <td>0.038728</td>\n",
       "      <td>0.035051</td>\n",
       "      <td>0.000351</td>\n",
       "      <td>0.004985</td>\n",
       "      <td>0.015536</td>\n",
       "    </tr>\n",
       "    <tr>\n",
       "      <th>2</th>\n",
       "      <td>0.0</td>\n",
       "      <td>21910.0</td>\n",
       "      <td>4.566613</td>\n",
       "      <td>5.816809</td>\n",
       "      <td>7.979106</td>\n",
       "      <td>11.747175</td>\n",
       "      <td>1.4</td>\n",
       "      <td>1135.0</td>\n",
       "      <td>73.0</td>\n",
       "      <td>23.0</td>\n",
       "      <td>...</td>\n",
       "      <td>186.0</td>\n",
       "      <td>4325.0</td>\n",
       "      <td>208.0</td>\n",
       "      <td>5744.0</td>\n",
       "      <td>9221.0</td>\n",
       "      <td>0.031911</td>\n",
       "      <td>0.034776</td>\n",
       "      <td>0.000273</td>\n",
       "      <td>0.008664</td>\n",
       "      <td>0.014487</td>\n",
       "    </tr>\n",
       "    <tr>\n",
       "      <th>3</th>\n",
       "      <td>0.0</td>\n",
       "      <td>21560.0</td>\n",
       "      <td>4.652251</td>\n",
       "      <td>5.958843</td>\n",
       "      <td>8.097748</td>\n",
       "      <td>11.801473</td>\n",
       "      <td>1.6</td>\n",
       "      <td>1115.0</td>\n",
       "      <td>66.0</td>\n",
       "      <td>22.0</td>\n",
       "      <td>...</td>\n",
       "      <td>243.0</td>\n",
       "      <td>4335.0</td>\n",
       "      <td>149.0</td>\n",
       "      <td>5745.0</td>\n",
       "      <td>9222.0</td>\n",
       "      <td>0.043007</td>\n",
       "      <td>0.036571</td>\n",
       "      <td>0.000234</td>\n",
       "      <td>0.003264</td>\n",
       "      <td>0.013391</td>\n",
       "    </tr>\n",
       "    <tr>\n",
       "      <th>4</th>\n",
       "      <td>0.0</td>\n",
       "      <td>21510.0</td>\n",
       "      <td>4.596386</td>\n",
       "      <td>5.947676</td>\n",
       "      <td>8.125361</td>\n",
       "      <td>11.797278</td>\n",
       "      <td>1.6</td>\n",
       "      <td>1115.0</td>\n",
       "      <td>65.0</td>\n",
       "      <td>22.0</td>\n",
       "      <td>...</td>\n",
       "      <td>244.0</td>\n",
       "      <td>4330.0</td>\n",
       "      <td>149.0</td>\n",
       "      <td>5739.0</td>\n",
       "      <td>9223.0</td>\n",
       "      <td>0.040466</td>\n",
       "      <td>0.035445</td>\n",
       "      <td>0.000195</td>\n",
       "      <td>0.003264</td>\n",
       "      <td>0.016203</td>\n",
       "    </tr>\n",
       "  </tbody>\n",
       "</table>\n",
       "<p>5 rows × 111 columns</p>\n",
       "</div>"
      ],
      "text/plain": [
       "     Y       X8       X14       X15       X16        X17  X18     X19   X20  \\\n",
       "0  0.0  21800.0  4.697935  6.112189  8.198628  11.820297  1.2  1105.0  89.0   \n",
       "1  0.0  21620.0  4.673502  6.029752  8.132146  11.792031  1.2  1160.0  88.0   \n",
       "2  0.0  21910.0  4.566613  5.816809  7.979106  11.747175  1.4  1135.0  73.0   \n",
       "3  0.0  21560.0  4.652251  5.958843  8.097748  11.801473  1.6  1115.0  66.0   \n",
       "4  0.0  21510.0  4.596386  5.947676  8.125361  11.797278  1.6  1115.0  65.0   \n",
       "\n",
       "    X21  ...     X6      X7     X9     X10     X11       X12       X13  \\\n",
       "0  22.0  ...  261.0  4334.0  149.0  5749.0  9195.0  0.041259  0.033963   \n",
       "1  23.0  ...  255.0  4341.0  209.0  5738.0  9196.0  0.038728  0.035051   \n",
       "2  23.0  ...  186.0  4325.0  208.0  5744.0  9221.0  0.031911  0.034776   \n",
       "3  22.0  ...  243.0  4335.0  149.0  5745.0  9222.0  0.043007  0.036571   \n",
       "4  22.0  ...  244.0  4330.0  149.0  5739.0  9223.0  0.040466  0.035445   \n",
       "\n",
       "        X90       X99      X110  \n",
       "0  0.000507  0.004985  0.017442  \n",
       "1  0.000351  0.004985  0.015536  \n",
       "2  0.000273  0.008664  0.014487  \n",
       "3  0.000234  0.003264  0.013391  \n",
       "4  0.000195  0.003264  0.016203  \n",
       "\n",
       "[5 rows x 111 columns]"
      ]
     },
     "execution_count": 18,
     "metadata": {},
     "output_type": "execute_result"
    }
   ],
   "source": [
    "imputed_encoded_data.head()"
   ]
  },
  {
   "cell_type": "code",
   "execution_count": 19,
   "metadata": {},
   "outputs": [],
   "source": [
    "# Save the imputed data to a CSV file\n",
    "imputed_encoded_data.to_csv('imputed_encoded_data.csv', index=False)"
   ]
  },
  {
   "cell_type": "code",
   "execution_count": 20,
   "metadata": {},
   "outputs": [
    {
     "name": "stdout",
     "output_type": "stream",
     "text": [
      "Shape of SMOTE-resampled data: (50768, 110) (50768,)\n",
      "Shape of ADASYN-resampled data: (50777, 110) (50777,)\n"
     ]
    }
   ],
   "source": [
    "from imblearn.over_sampling import SMOTE, ADASYN\n",
    "\n",
    "# Assuming 'imputed_encoded_data' is your imputed encoded DataFrame\n",
    "\n",
    "# Extract features (X) and target variable (y)\n",
    "X = imputed_encoded_data.drop(columns=['Y'])  \n",
    "y = imputed_encoded_data['Y']  \n",
    "\n",
    "# Apply SMOTE\n",
    "smote = SMOTE(random_state=0)\n",
    "X_smote, y_smote = smote.fit_resample(X, y)\n",
    "\n",
    "# Apply ADASYN\n",
    "adasyn = ADASYN(random_state=0)\n",
    "X_adasyn, y_adasyn = adasyn.fit_resample(X, y)\n",
    "\n",
    "# Display the shape of the resampled data\n",
    "print(\"Shape of SMOTE-resampled data:\", X_smote.shape, y_smote.shape)\n",
    "print(\"Shape of ADASYN-resampled data:\", X_adasyn.shape, y_adasyn.shape)\n"
   ]
  },
  {
   "cell_type": "code",
   "execution_count": 21,
   "metadata": {},
   "outputs": [
    {
     "data": {
      "text/plain": [
       "0.0    25384\n",
       "1.0    25384\n",
       "Name: Y, dtype: int64"
      ]
     },
     "execution_count": 21,
     "metadata": {},
     "output_type": "execute_result"
    }
   ],
   "source": [
    "y_smote.value_counts()"
   ]
  },
  {
   "cell_type": "markdown",
   "metadata": {},
   "source": [
    "# Model Training :"
   ]
  },
  {
   "cell_type": "code",
   "execution_count": 22,
   "metadata": {},
   "outputs": [],
   "source": [
    "# Split data into train and test sets\n",
    "X_train, X_test, y_train, y_test = train_test_split(X_smote, y_smote, test_size=0.2, random_state=0)"
   ]
  },
  {
   "cell_type": "code",
   "execution_count": 23,
   "metadata": {},
   "outputs": [],
   "source": [
    "# Standardize features\n",
    "scaler = StandardScaler()\n",
    "X_train_scaled = scaler.fit_transform(X_train)\n",
    "X_test_scaled = scaler.transform(X_test)"
   ]
  },
  {
   "cell_type": "code",
   "execution_count": 24,
   "metadata": {},
   "outputs": [
    {
     "name": "stdout",
     "output_type": "stream",
     "text": [
      "Linear Regression Accuracy: 0.8167224739019106\n"
     ]
    }
   ],
   "source": [
    "\n",
    "# Linear Regression\n",
    "linear_reg_model = LinearRegression()\n",
    "linear_reg_model.fit(X_train_scaled, y_train)\n",
    "linear_reg_pred = np.round(linear_reg_model.predict(X_test_scaled)).astype(int)\n",
    "linear_reg_accuracy = accuracy_score(y_test, linear_reg_pred)\n",
    "print(\"Linear Regression Accuracy:\", linear_reg_accuracy)\n"
   ]
  },
  {
   "cell_type": "code",
   "execution_count": 25,
   "metadata": {},
   "outputs": [
    {
     "name": "stdout",
     "output_type": "stream",
     "text": [
      "Logistic Regression Accuracy: 0.8175103407524128\n"
     ]
    },
    {
     "name": "stderr",
     "output_type": "stream",
     "text": [
      "c:\\ProgramData\\anaconda3\\envs\\tf\\lib\\site-packages\\sklearn\\linear_model\\_logistic.py:818: ConvergenceWarning: lbfgs failed to converge (status=1):\n",
      "STOP: TOTAL NO. of ITERATIONS REACHED LIMIT.\n",
      "\n",
      "Increase the number of iterations (max_iter) or scale the data as shown in:\n",
      "    https://scikit-learn.org/stable/modules/preprocessing.html\n",
      "Please also refer to the documentation for alternative solver options:\n",
      "    https://scikit-learn.org/stable/modules/linear_model.html#logistic-regression\n",
      "  extra_warning_msg=_LOGISTIC_SOLVER_CONVERGENCE_MSG,\n"
     ]
    }
   ],
   "source": [
    "# Logistic Regression\n",
    "logistic_reg_model = LogisticRegression()\n",
    "logistic_reg_model.fit(X_train_scaled, y_train)\n",
    "logistic_reg_pred = logistic_reg_model.predict(X_test_scaled)\n",
    "logistic_reg_accuracy = accuracy_score(y_test, logistic_reg_pred)\n",
    "print(\"Logistic Regression Accuracy:\", logistic_reg_accuracy)"
   ]
  },
  {
   "cell_type": "code",
   "execution_count": 26,
   "metadata": {},
   "outputs": [
    {
     "name": "stdout",
     "output_type": "stream",
     "text": [
      "SVM Accuracy: 0.9821745125073863\n"
     ]
    }
   ],
   "source": [
    "# SVM\n",
    "svm_model = SVC()\n",
    "svm_model.fit(X_train_scaled, y_train)\n",
    "svm_pred = svm_model.predict(X_test_scaled)\n",
    "svm_accuracy = accuracy_score(y_test, svm_pred)\n",
    "print(\"SVM Accuracy:\", svm_accuracy)\n"
   ]
  },
  {
   "cell_type": "code",
   "execution_count": 27,
   "metadata": {},
   "outputs": [
    {
     "name": "stdout",
     "output_type": "stream",
     "text": [
      "Gradient Boosting Accuracy: 0.9834547961394524\n"
     ]
    }
   ],
   "source": [
    "# Gradient Boosting\n",
    "gradient_boosting_model = GradientBoostingClassifier()\n",
    "gradient_boosting_model.fit(X_train_scaled, y_train)\n",
    "gradient_boosting_pred = gradient_boosting_model.predict(X_test_scaled)\n",
    "gradient_boosting_accuracy = accuracy_score(y_test, gradient_boosting_pred)\n",
    "print(\"Gradient Boosting Accuracy:\", gradient_boosting_accuracy)"
   ]
  },
  {
   "cell_type": "code",
   "execution_count": 28,
   "metadata": {},
   "outputs": [
    {
     "name": "stdout",
     "output_type": "stream",
     "text": [
      "Random Forest Accuracy: 0.9980303328737443\n"
     ]
    }
   ],
   "source": [
    "# Random Forest\n",
    "random_forest_model = RandomForestClassifier()\n",
    "random_forest_model.fit(X_train_scaled, y_train)\n",
    "random_forest_pred = random_forest_model.predict(X_test_scaled)\n",
    "random_forest_accuracy = accuracy_score(y_test, random_forest_pred)\n",
    "print(\"Random Forest Accuracy:\", random_forest_accuracy)"
   ]
  },
  {
   "cell_type": "code",
   "execution_count": 29,
   "metadata": {},
   "outputs": [
    {
     "name": "stdout",
     "output_type": "stream",
     "text": [
      "AdaBoost Accuracy: 0.9408115028560173\n"
     ]
    }
   ],
   "source": [
    "\n",
    "# AdaBoost\n",
    "adaboost_model = AdaBoostClassifier()\n",
    "adaboost_model.fit(X_train_scaled, y_train)\n",
    "adaboost_pred = adaboost_model.predict(X_test_scaled)\n",
    "adaboost_accuracy = accuracy_score(y_test, adaboost_pred)\n",
    "print(\"AdaBoost Accuracy:\", adaboost_accuracy)"
   ]
  },
  {
   "cell_type": "code",
   "execution_count": 34,
   "metadata": {},
   "outputs": [
    {
     "name": "stdout",
     "output_type": "stream",
     "text": [
      "Decision Tree Accuracy: 0.9840456962773292\n"
     ]
    }
   ],
   "source": [
    "\n",
    "# Decision Tree\n",
    "decision_tree_model = DecisionTreeClassifier()\n",
    "decision_tree_model.fit(X_train_scaled, y_train)\n",
    "decision_tree_pred = decision_tree_model.predict(X_test_scaled)\n",
    "decision_tree_accuracy = accuracy_score(y_test, decision_tree_pred)\n",
    "print(\"Decision Tree Accuracy:\", decision_tree_accuracy)"
   ]
  },
  {
   "cell_type": "code",
   "execution_count": 37,
   "metadata": {},
   "outputs": [
    {
     "name": "stdout",
     "output_type": "stream",
     "text": [
      "(40614, 110)\n",
      "(10154, 110)\n"
     ]
    }
   ],
   "source": [
    "print(X_train_scaled.shape)\n",
    "print(X_test_scaled.shape)"
   ]
  },
  {
   "cell_type": "code",
   "execution_count": 41,
   "metadata": {},
   "outputs": [
    {
     "name": "stdout",
     "output_type": "stream",
     "text": [
      "Epoch 1/10\n",
      "1270/1270 [==============================] - 2s 1ms/step - loss: 0.2518 - accuracy: 0.9026 - val_loss: 0.1194 - val_accuracy: 0.9577\n",
      "Epoch 2/10\n",
      "1270/1270 [==============================] - 2s 1ms/step - loss: 0.0899 - accuracy: 0.9740 - val_loss: 0.0698 - val_accuracy: 0.9808\n",
      "Epoch 3/10\n",
      "1270/1270 [==============================] - 2s 1ms/step - loss: 0.0535 - accuracy: 0.9841 - val_loss: 0.0506 - val_accuracy: 0.9851\n",
      "Epoch 4/10\n",
      "1270/1270 [==============================] - 2s 1ms/step - loss: 0.0388 - accuracy: 0.9888 - val_loss: 0.0508 - val_accuracy: 0.9860\n",
      "Epoch 5/10\n",
      "1270/1270 [==============================] - 2s 1ms/step - loss: 0.0321 - accuracy: 0.9906 - val_loss: 0.0332 - val_accuracy: 0.9905\n",
      "Epoch 6/10\n",
      "1270/1270 [==============================] - 2s 1ms/step - loss: 0.0257 - accuracy: 0.9925 - val_loss: 0.0285 - val_accuracy: 0.9915\n",
      "Epoch 7/10\n",
      "1270/1270 [==============================] - 2s 1ms/step - loss: 0.0234 - accuracy: 0.9923 - val_loss: 0.0398 - val_accuracy: 0.9884\n",
      "Epoch 8/10\n",
      "1270/1270 [==============================] - 2s 1ms/step - loss: 0.0217 - accuracy: 0.9933 - val_loss: 0.0408 - val_accuracy: 0.9881\n",
      "Epoch 9/10\n",
      "1270/1270 [==============================] - 2s 1ms/step - loss: 0.0177 - accuracy: 0.9943 - val_loss: 0.0253 - val_accuracy: 0.9917\n",
      "Epoch 10/10\n",
      "1270/1270 [==============================] - 2s 1ms/step - loss: 0.0160 - accuracy: 0.9952 - val_loss: 0.0354 - val_accuracy: 0.9914\n",
      "318/318 [==============================] - 0s 1ms/step - loss: 0.0354 - accuracy: 0.9914\n"
     ]
    }
   ],
   "source": [
    "# Deep Neural Network (DNN)\n",
    "dnn_model = Sequential()\n",
    "dnn_model.add(Dense(64, input_dim=X_train_scaled.shape[1], activation='relu'))\n",
    "dnn_model.add(Dense(32, activation='relu'))\n",
    "dnn_model.add(Dense(1, activation='sigmoid'))\n",
    "dnn_model.compile(loss='binary_crossentropy', optimizer='adam', metrics=['accuracy'])\n",
    "\n",
    "dnn_model.fit(X_train_scaled, y_train, epochs=10, batch_size=32, validation_data=(X_test_scaled, y_test))\n",
    "\n",
    "_, dnn_accuracy = dnn_model.evaluate(X_test_scaled, y_test)"
   ]
  },
  {
   "cell_type": "code",
   "execution_count": 44,
   "metadata": {},
   "outputs": [
    {
     "name": "stdout",
     "output_type": "stream",
     "text": [
      "318/318 [==============================] - 0s 812us/step\n"
     ]
    }
   ],
   "source": [
    "from sklearn.metrics import precision_score, confusion_matrix\n",
    "\n",
    "dnn_predictions = (dnn_model.predict(X_test_scaled) > 0.5).astype(int).flatten()\n",
    "\n",
    "# Precision score for CNN and DNN models\n",
    "\n",
    "dnn_precision = precision_score(y_test, dnn_predictions )\n",
    "\n",
    "# Confusion matrix for CNN and DNN models\n",
    "\n",
    "dnn_cm = confusion_matrix(y_test, dnn_predictions)\n",
    "\n"
   ]
  },
  {
   "cell_type": "code",
   "execution_count": 45,
   "metadata": {},
   "outputs": [
    {
     "data": {
      "image/png": "[encoded data removed]",
      "text/plain": [
       "<Figure size 600x400 with 1 Axes>"
      ]
     },
     "metadata": {},
     "output_type": "display_data"
    }
   ],
   "source": [
    "# Plot confusion matrix\n",
    "def plot_confusion_matrix(cm, title):\n",
    "    plt.figure(figsize=(6, 4))\n",
    "    sns.heatmap(cm, annot=True, fmt='d', cmap='Blues', cbar=False)\n",
    "    plt.xlabel('Predicted Labels')\n",
    "    plt.ylabel('True Labels')\n",
    "    plt.title(title)\n",
    "\n",
    "\n",
    "plot_confusion_matrix(dnn_cm, 'Confusion Matrix - DNN')\n",
    "plt.show()"
   ]
  },
  {
   "cell_type": "code",
   "execution_count": 46,
   "metadata": {},
   "outputs": [
    {
     "data": {
      "image/png": "[encoded data removed]",
      "text/plain": [
       "<Figure size 640x480 with 1 Axes>"
      ]
     },
     "metadata": {},
     "output_type": "display_data"
    }
   ],
   "source": [
    "from sklearn.metrics import precision_recall_curve\n",
    "# Plot precision vs. recall curve\n",
    "def plot_precision_recall(y_true, y_pred, title):\n",
    "    precision, recall, _ = precision_recall_curve(y_true, y_pred)\n",
    "    plt.plot(recall, precision, marker='.')\n",
    "    plt.xlabel('Recall')\n",
    "    plt.ylabel('Precision')\n",
    "    plt.title(title)\n",
    "\n",
    "\n",
    "plot_precision_recall(y_test, dnn_predictions, 'Precision-Recall Curve - DNN')\n",
    "plt.show()"
   ]
  },
  {
   "cell_type": "code",
   "execution_count": 47,
   "metadata": {},
   "outputs": [
    {
     "name": "stdout",
     "output_type": "stream",
     "text": [
      "DNN Accuracy: 0.9914319515228271\n",
      "DNN Precision Score: 0.9887839433293979\n",
      "DNN Recall-Imbalance (RI): 0.9940652818991098\n"
     ]
    }
   ],
   "source": [
    "\n",
    "# Calculate Recall-Imbalance (RI)\n",
    "def recall_imbalance(cm):\n",
    "    tn, fp, fn, tp = cm.ravel()\n",
    "    return tp / (tp + fn)\n",
    "\n",
    "dnn_ri = recall_imbalance(dnn_cm)\n",
    "\n",
    "print(\"DNN Accuracy:\", dnn_accuracy)\n",
    "print(\"DNN Precision Score:\", dnn_precision)\n",
    "print(\"DNN Recall-Imbalance (RI):\", dnn_ri)"
   ]
  },
  {
   "cell_type": "code",
   "execution_count": 48,
   "metadata": {},
   "outputs": [],
   "source": [
    "# Model names\n",
    "models = ['Linear Regression', 'Logistic Regression', 'SVM', 'Gradient Boosting', \n",
    "          'Random Forest', 'AdaBoost', 'Decision Tree', 'DNN']\n",
    "\n",
    "# Accuracy scores for all models\n",
    "accuracies = [linear_reg_accuracy, logistic_reg_accuracy, svm_accuracy,\n",
    "              gradient_boosting_accuracy, random_forest_accuracy, \n",
    "              adaboost_accuracy, decision_tree_accuracy, dnn_accuracy]\n"
   ]
  },
  {
   "cell_type": "code",
   "execution_count": 49,
   "metadata": {},
   "outputs": [
    {
     "data": {
      "image/png": "[encoded data removed]",
      "text/plain": [
       "<Figure size 1000x600 with 1 Axes>"
      ]
     },
     "metadata": {},
     "output_type": "display_data"
    }
   ],
   "source": [
    "# Create bar plot for accuracy scores\n",
    "plt.figure(figsize=(10, 6))\n",
    "plt.barh(models, accuracies, color='skyblue')\n",
    "plt.xlabel('Accuracy')\n",
    "plt.title('Accuracy Comparison of Different Models')\n",
    "plt.xlim(0.5, 1.0)\n",
    "plt.gca().invert_yaxis()\n",
    "plt.show()"
   ]
  },
  {
   "cell_type": "code",
   "execution_count": 50,
   "metadata": {},
   "outputs": [
    {
     "name": "stdout",
     "output_type": "stream",
     "text": [
      "Accuracy Scores:\n",
      "Random Forest: 0.9980303328737443\n",
      "DNN: 0.9914319515228271\n",
      "Decision Tree: 0.9840456962773292\n",
      "Gradient Boosting: 0.9834547961394524\n",
      "SVM: 0.9821745125073863\n",
      "AdaBoost: 0.9408115028560173\n",
      "Logistic Regression: 0.8175103407524128\n",
      "Linear Regression: 0.8167224739019106\n",
      "\n",
      "Ranking based on accuracy:\n",
      "1. Random Forest: 0.9980303328737443\n",
      "2. DNN: 0.9914319515228271\n",
      "3. Decision Tree: 0.9840456962773292\n",
      "4. Gradient Boosting: 0.9834547961394524\n",
      "5. SVM: 0.9821745125073863\n",
      "6. AdaBoost: 0.9408115028560173\n",
      "7. Logistic Regression: 0.8175103407524128\n",
      "8. Linear Regression: 0.8167224739019106\n"
     ]
    }
   ],
   "source": [
    "\n",
    "# Compare accuracy scores and rate models\n",
    "accuracy_dict = dict(zip(models, accuracies))\n",
    "sorted_accuracy_dict = sorted(accuracy_dict.items(), key=lambda x: x[1], reverse=True)\n",
    "\n",
    "print(\"Accuracy Scores:\")\n",
    "for model, accuracy in sorted_accuracy_dict:\n",
    "    print(f\"{model}: {accuracy}\")\n",
    "\n",
    "print(\"\\nRanking based on accuracy:\")\n",
    "for i, (model, accuracy) in enumerate(sorted_accuracy_dict, start=1):\n",
    "    print(f\"{i}. {model}: {accuracy}\")"
   ]
  },
  {
   "cell_type": "code",
   "execution_count": 53,
   "metadata": {},
   "outputs": [
    {
     "name": "stdout",
     "output_type": "stream",
     "text": [
      "Model: Random Forest\n",
      "Precision: 0.998613586848881\n",
      "F1 Score: 0.9980205859065717\n",
      "Recall: 0.9974282888229475\n",
      "Imbalance Ratio: 0.9913708570307903\n",
      "\n",
      "Classification Report for Random Forest:\n",
      "              precision    recall  f1-score   support\n",
      "\n",
      "     Class 0       1.00      1.00      1.00      5099\n",
      "     Class 1       1.00      1.00      1.00      5055\n",
      "\n",
      "    accuracy                           1.00     10154\n",
      "   macro avg       1.00      1.00      1.00     10154\n",
      "weighted avg       1.00      1.00      1.00     10154\n",
      "\n",
      "\n",
      "\n",
      "Model: DNN\n",
      "Precision: 0.9887839433293979\n",
      "F1 Score: 0.9914175791654336\n",
      "Recall: 0.9940652818991098\n",
      "Imbalance Ratio: 0.9913708570307903\n",
      "\n",
      "Classification Report for DNN:\n",
      "              precision    recall  f1-score   support\n",
      "\n",
      "     Class 0       0.99      0.99      0.99      5099\n",
      "     Class 1       0.99      0.99      0.99      5055\n",
      "\n",
      "    accuracy                           0.99     10154\n",
      "   macro avg       0.99      0.99      0.99     10154\n",
      "weighted avg       0.99      0.99      0.99     10154\n",
      "\n",
      "\n",
      "\n",
      "Model: Decision Tree\n",
      "Precision: 0.9797999607766229\n",
      "F1 Score: 0.9840456962773292\n",
      "Recall: 0.9883283877349159\n",
      "Imbalance Ratio: 0.9913708570307903\n",
      "\n",
      "Classification Report for Decision Tree:\n",
      "              precision    recall  f1-score   support\n",
      "\n",
      "     Class 0       0.99      0.98      0.98      5099\n",
      "     Class 1       0.98      0.99      0.98      5055\n",
      "\n",
      "    accuracy                           0.98     10154\n",
      "   macro avg       0.98      0.98      0.98     10154\n",
      "weighted avg       0.98      0.98      0.98     10154\n",
      "\n",
      "\n",
      "\n",
      "Model: Gradient Boosting\n",
      "Precision: 0.9843409316154609\n",
      "F1 Score: 0.9833663366336634\n",
      "Recall: 0.9823936696340257\n",
      "Imbalance Ratio: 0.9913708570307903\n",
      "\n",
      "Classification Report for Gradient Boosting:\n",
      "              precision    recall  f1-score   support\n",
      "\n",
      "     Class 0       0.98      0.98      0.98      5099\n",
      "     Class 1       0.98      0.98      0.98      5055\n",
      "\n",
      "    accuracy                           0.98     10154\n",
      "   macro avg       0.98      0.98      0.98     10154\n",
      "weighted avg       0.98      0.98      0.98     10154\n",
      "\n",
      "\n",
      "\n",
      "Model: SVM\n",
      "Precision: 0.9666794331673688\n",
      "F1 Score: 0.9823878563783206\n",
      "Recall: 0.9986152324431257\n",
      "Imbalance Ratio: 0.9913708570307903\n",
      "\n",
      "Classification Report for SVM:\n",
      "              precision    recall  f1-score   support\n",
      "\n",
      "     Class 0       1.00      0.97      0.98      5099\n",
      "     Class 1       0.97      1.00      0.98      5055\n",
      "\n",
      "    accuracy                           0.98     10154\n",
      "   macro avg       0.98      0.98      0.98     10154\n",
      "weighted avg       0.98      0.98      0.98     10154\n",
      "\n",
      "\n",
      "\n",
      "Model: AdaBoost\n",
      "Precision: 0.936153544849197\n",
      "F1 Score: 0.940852278319063\n",
      "Recall: 0.9455984174085065\n",
      "Imbalance Ratio: 0.9913708570307903\n",
      "\n",
      "Classification Report for AdaBoost:\n",
      "              precision    recall  f1-score   support\n",
      "\n",
      "     Class 0       0.95      0.94      0.94      5099\n",
      "     Class 1       0.94      0.95      0.94      5055\n",
      "\n",
      "    accuracy                           0.94     10154\n",
      "   macro avg       0.94      0.94      0.94     10154\n",
      "weighted avg       0.94      0.94      0.94     10154\n",
      "\n",
      "\n",
      "\n"
     ]
    }
   ],
   "source": [
    "from sklearn.metrics import precision_score, f1_score, recall_score, classification_report\n",
    "\n",
    "# Define the models and their predictions\n",
    "models = ['Random Forest', 'DNN', 'Decision Tree', 'Gradient Boosting', 'SVM', 'AdaBoost']\n",
    "predictions = [random_forest_pred, dnn_predictions, decision_tree_pred, gradient_boosting_pred, svm_pred, adaboost_pred]\n",
    "\n",
    "# Calculate precision, F1 score, recall, and imbalance for each model\n",
    "for model, pred in zip(models, predictions):\n",
    "    precision = precision_score(y_test, pred)\n",
    "    f1 = f1_score(y_test, pred)\n",
    "    recall = recall_score(y_test, pred)\n",
    "    imbalance = np.sum(y_test == 1) / np.sum(y_test == 0)\n",
    "    \n",
    "    print(f\"Model: {model}\")\n",
    "    print(f\"Precision: {precision}\")\n",
    "    print(f\"F1 Score: {f1}\")\n",
    "    print(f\"Recall: {recall}\")\n",
    "    print(f\"Imbalance Ratio: {imbalance}\\n\")\n",
    "\n",
    "    # Print classification report\n",
    "    print(f\"Classification Report for {model}:\")\n",
    "    print(classification_report(y_test, pred, target_names=['Class 0', 'Class 1']))\n",
    "    print(\"\\n\")\n"
   ]
  },
  {
   "cell_type": "code",
   "execution_count": 56,
   "metadata": {},
   "outputs": [
    {
     "data": {
      "image/png": "[encoded data removed]",
      "text/plain": [
       "<Figure size 1200x1000 with 4 Axes>"
      ]
     },
     "metadata": {},
     "output_type": "display_data"
    }
   ],
   "source": [
    "import matplotlib.pyplot as plt\n",
    "\n",
    "# Define the models and their performance metrics\n",
    "models = ['Random Forest', 'DNN', 'Decision Tree', 'Gradient Boosting', 'SVM', 'AdaBoost']\n",
    "precision_scores = [precision_score(y_test, pred) for pred in [random_forest_pred, dnn_predictions, decision_tree_pred, gradient_boosting_pred, svm_pred, adaboost_pred]]\n",
    "f1_scores = [f1_score(y_test, pred) for pred in [random_forest_pred, dnn_predictions, decision_tree_pred, gradient_boosting_pred, svm_pred, adaboost_pred]]\n",
    "recall_scores = [recall_score(y_test, pred) for pred in [random_forest_pred, dnn_predictions, decision_tree_pred, gradient_boosting_pred, svm_pred, adaboost_pred]]\n",
    "imbalance_ratios = [np.sum(y_test == 1) / np.sum(y_test == 0) for _ in range(len(models))]\n",
    "\n",
    "# Create subplots for precision, F1 score, recall, and imbalance ratio\n",
    "fig, axs = plt.subplots(2, 2, figsize=(12, 10))\n",
    "\n",
    "# Precision comparison\n",
    "axs[0, 0].bar(models, precision_scores, color='skyblue')\n",
    "axs[0, 0].set_title('Precision Scores')\n",
    "axs[0, 0].set_xlabel('Model')\n",
    "axs[0, 0].set_ylabel('Precision')\n",
    "\n",
    "# F1 score comparison\n",
    "axs[0, 1].bar(models, f1_scores, color='lightgreen')\n",
    "axs[0, 1].set_title('F1 Scores')\n",
    "axs[0, 1].set_xlabel('Model')\n",
    "axs[0, 1].set_ylabel('F1 Score')\n",
    "\n",
    "# Recall comparison\n",
    "axs[1, 0].bar(models, recall_scores, color='salmon')\n",
    "axs[1, 0].set_title('Recall Scores')\n",
    "axs[1, 0].set_xlabel('Model')\n",
    "axs[1, 0].set_ylabel('Recall')\n",
    "\n",
    "# Imbalance ratio comparison\n",
    "axs[1, 1].bar(models, imbalance_ratios, color='lightcoral')\n",
    "axs[1, 1].set_title('Imbalance Ratios')\n",
    "axs[1, 1].set_xlabel('Model')\n",
    "axs[1, 1].set_ylabel('Imbalance Ratio')\n",
    "\n",
    "# Adjust layout\n",
    "plt.tight_layout()\n",
    "\n",
    "# Show the plot\n",
    "plt.show()\n"
   ]
  }
 ],
 "metadata": {
  "kernelspec": {
   "display_name": "tf",
   "language": "python",
   "name": "python3"
  },
  "language_info": {
   "codemirror_mode": {
    "name": "ipython",
    "version": 3
   },
   "file_extension": ".py",
   "mimetype": "text/x-python",
   "name": "python",
   "nbconvert_exporter": "python",
   "pygments_lexer": "ipython3",
   "version": "3.9.19"
  }
 },
 "nbformat": 4,
 "nbformat_minor": 2
}
